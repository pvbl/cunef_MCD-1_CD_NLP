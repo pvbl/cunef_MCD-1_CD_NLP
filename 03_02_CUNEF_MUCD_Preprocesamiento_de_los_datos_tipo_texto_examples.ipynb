{
  "nbformat": 4,
  "nbformat_minor": 0,
  "metadata": {
    "colab": {
      "provenance": [],
      "collapsed_sections": [
        "sQljTHw3jmhH"
      ]
    },
    "kernelspec": {
      "name": "python3",
      "display_name": "Python 3"
    },
    "language_info": {
      "name": "python"
    }
  },
  "cells": [
    {
      "cell_type": "markdown",
      "source": [
        "# Librerías más utilizadas de NLP\n",
        "- nltk\n",
        "- gensim\n",
        "- spacy"
      ],
      "metadata": {
        "id": "Bcg14jpEcwBS"
      }
    },
    {
      "cell_type": "markdown",
      "source": [
        "Descarga de el diccionario punkt, que no pedirá luego para tokenizar."
      ],
      "metadata": {
        "id": "tGZBm_YMc6mg"
      }
    },
    {
      "cell_type": "code",
      "source": [
        "import nltk\n",
        "nltk.download('punkt')"
      ],
      "metadata": {
        "colab": {
          "base_uri": "https://localhost:8080/"
        },
        "id": "soWZDgrZT2wR",
        "outputId": "131239dc-0eaf-417f-9b9b-7446fb1d70c2"
      },
      "execution_count": null,
      "outputs": [
        {
          "output_type": "stream",
          "name": "stderr",
          "text": [
            "[nltk_data] Downloading package punkt to /root/nltk_data...\n",
            "[nltk_data]   Unzipping tokenizers/punkt.zip.\n"
          ]
        },
        {
          "output_type": "execute_result",
          "data": {
            "text/plain": [
              "True"
            ]
          },
          "metadata": {},
          "execution_count": 1
        }
      ]
    },
    {
      "cell_type": "code",
      "execution_count": null,
      "metadata": {
        "colab": {
          "base_uri": "https://localhost:8080/"
        },
        "id": "lvigfYRVRAfw",
        "outputId": "9975aacb-2ed9-404c-f355-653604c479cf"
      },
      "outputs": [
        {
          "output_type": "execute_result",
          "data": {
            "text/plain": [
              "['Hello', 'world', '!', ',', 'hello']"
            ]
          },
          "metadata": {},
          "execution_count": 2
        }
      ],
      "source": [
        "from nltk.tokenize import word_tokenize\n",
        "word_tokenize(\"Hello world!,hello\")"
      ]
    },
    {
      "cell_type": "markdown",
      "source": [
        "Tokenización con gensim"
      ],
      "metadata": {
        "id": "4otUX2vFdCAz"
      }
    },
    {
      "cell_type": "code",
      "source": [
        "from gensim.utils import tokenize\n",
        "text = \"\"\"Hello world!\"\"\"\n",
        "list(tokenize(text))\n"
      ],
      "metadata": {
        "colab": {
          "base_uri": "https://localhost:8080/"
        },
        "id": "r_4XAWPPTzFb",
        "outputId": "0101543a-f351-428b-9801-1beb037551a5"
      },
      "execution_count": null,
      "outputs": [
        {
          "output_type": "execute_result",
          "data": {
            "text/plain": [
              "['Hello', 'world']"
            ]
          },
          "metadata": {},
          "execution_count": 3
        }
      ]
    },
    {
      "cell_type": "markdown",
      "source": [
        "Tokenización con spacy"
      ],
      "metadata": {
        "id": "qouNGtGYdEWX"
      }
    },
    {
      "cell_type": "code",
      "source": [
        "from spacy.lang.en import English\n",
        "nlp = English()\n",
        "text = \"\"\"Hello world!\"\"\"\n",
        "my_doc = nlp(text)\n",
        "token_list = []\n",
        "for token in my_doc:\n",
        "    token_list.append(token.text)\n",
        "token_list\n"
      ],
      "metadata": {
        "colab": {
          "base_uri": "https://localhost:8080/"
        },
        "id": "njpVszkcWIcB",
        "outputId": "5f0e5c3d-d28a-4082-ff0a-1d5e6e8bdf08"
      },
      "execution_count": null,
      "outputs": [
        {
          "output_type": "stream",
          "name": "stderr",
          "text": [
            "/usr/local/lib/python3.9/dist-packages/torch/cuda/__init__.py:497: UserWarning: Can't initialize NVML\n",
            "  warnings.warn(\"Can't initialize NVML\")\n"
          ]
        },
        {
          "output_type": "execute_result",
          "data": {
            "text/plain": [
              "['Hello', 'world', '!']"
            ]
          },
          "metadata": {},
          "execution_count": 4
        }
      ]
    },
    {
      "cell_type": "markdown",
      "source": [
        "Ejemplo de tokenización de oraciones, regex y para tweets"
      ],
      "metadata": {
        "id": "HyNsPdowdGTr"
      }
    },
    {
      "cell_type": "code",
      "source": [
        "text = \"La historia del PLN empieza desde 1950, aunque se han encontrado trabajos anteriores. En 1950, Alan Turing publicó Computing machinery and intelligence, donde proponía lo que hoy se llama el test de turing como criterio de inteligencia. En 1954, el experimento de Georgetown involucró traducción automática de más de sesenta oraciones del ruso al inglés. Los autores sostuvieron que en tres o cinco años la traducción automática sería un problema resuelto. \""
      ],
      "metadata": {
        "id": "YiwQ3RHHWK_A"
      },
      "execution_count": null,
      "outputs": []
    },
    {
      "cell_type": "code",
      "source": [
        "from nltk.tokenize import sent_tokenize, regexp_tokenize, TweetTokenizer"
      ],
      "metadata": {
        "id": "tvj4RuyqWTYj"
      },
      "execution_count": null,
      "outputs": []
    },
    {
      "cell_type": "code",
      "source": [
        "sent_tokenize(text)"
      ],
      "metadata": {
        "colab": {
          "base_uri": "https://localhost:8080/"
        },
        "id": "t1T92uZBWjse",
        "outputId": "a22564a8-94e2-49d7-c0be-6d6040b02e8f"
      },
      "execution_count": null,
      "outputs": [
        {
          "output_type": "execute_result",
          "data": {
            "text/plain": [
              "['La historia del PLN empieza desde 1950, aunque se han encontrado trabajos anteriores.',\n",
              " 'En 1950, Alan Turing publicó Computing machinery and intelligence, donde proponía lo que hoy se llama el test de turing como criterio de inteligencia.',\n",
              " 'En 1954, el experimento de Georgetown involucró traducción automática de más de sesenta oraciones del ruso al inglés.',\n",
              " 'Los autores sostuvieron que en tres o cinco años la traducción automática sería un problema resuelto.']"
            ]
          },
          "metadata": {},
          "execution_count": 7
        }
      ]
    },
    {
      "cell_type": "code",
      "source": [
        "regexp_tokenize(text,\"\\w+\")"
      ],
      "metadata": {
        "colab": {
          "base_uri": "https://localhost:8080/"
        },
        "id": "pDyG49CNWlWU",
        "outputId": "a7ada8ac-d353-413b-b09c-ab93d02a62c0"
      },
      "execution_count": null,
      "outputs": [
        {
          "output_type": "execute_result",
          "data": {
            "text/plain": [
              "['La',\n",
              " 'historia',\n",
              " 'del',\n",
              " 'PLN',\n",
              " 'empieza',\n",
              " 'desde',\n",
              " '1950',\n",
              " 'aunque',\n",
              " 'se',\n",
              " 'han',\n",
              " 'encontrado',\n",
              " 'trabajos',\n",
              " 'anteriores',\n",
              " 'En',\n",
              " '1950',\n",
              " 'Alan',\n",
              " 'Turing',\n",
              " 'publicó',\n",
              " 'Computing',\n",
              " 'machinery',\n",
              " 'and',\n",
              " 'intelligence',\n",
              " 'donde',\n",
              " 'proponía',\n",
              " 'lo',\n",
              " 'que',\n",
              " 'hoy',\n",
              " 'se',\n",
              " 'llama',\n",
              " 'el',\n",
              " 'test',\n",
              " 'de',\n",
              " 'turing',\n",
              " 'como',\n",
              " 'criterio',\n",
              " 'de',\n",
              " 'inteligencia',\n",
              " 'En',\n",
              " '1954',\n",
              " 'el',\n",
              " 'experimento',\n",
              " 'de',\n",
              " 'Georgetown',\n",
              " 'involucró',\n",
              " 'traducción',\n",
              " 'automática',\n",
              " 'de',\n",
              " 'más',\n",
              " 'de',\n",
              " 'sesenta',\n",
              " 'oraciones',\n",
              " 'del',\n",
              " 'ruso',\n",
              " 'al',\n",
              " 'inglés',\n",
              " 'Los',\n",
              " 'autores',\n",
              " 'sostuvieron',\n",
              " 'que',\n",
              " 'en',\n",
              " 'tres',\n",
              " 'o',\n",
              " 'cinco',\n",
              " 'años',\n",
              " 'la',\n",
              " 'traducción',\n",
              " 'automática',\n",
              " 'sería',\n",
              " 'un',\n",
              " 'problema',\n",
              " 'resuelto']"
            ]
          },
          "metadata": {},
          "execution_count": 8
        }
      ]
    },
    {
      "cell_type": "markdown",
      "source": [
        "Ejemplo y diferencia de la tokenización de tweets con tweettokenizer y con word_tokenize"
      ],
      "metadata": {
        "id": "orbOjoyvdN0S"
      }
    },
    {
      "cell_type": "code",
      "source": [
        "tweet = \"Dreams didn’t make us kings. Dragons did. The @HBO original series @HouseOfDragon is coming to @HBOMax in 2022. #HouseoftheDragon #HBOMaxEurope\""
      ],
      "metadata": {
        "id": "2yzB4j3UWpyc"
      },
      "execution_count": null,
      "outputs": []
    },
    {
      "cell_type": "code",
      "source": [
        "tt = TweetTokenizer()\n",
        "\n",
        "tkok = tt.tokenize(tweet)"
      ],
      "metadata": {
        "id": "wdPzW7WqYzBw"
      },
      "execution_count": null,
      "outputs": []
    },
    {
      "cell_type": "code",
      "source": [
        "print(tkok)"
      ],
      "metadata": {
        "colab": {
          "base_uri": "https://localhost:8080/"
        },
        "id": "OlFFQ-nCY0RM",
        "outputId": "5686885f-5b12-4409-ca7f-6d8567e995b2"
      },
      "execution_count": null,
      "outputs": [
        {
          "output_type": "stream",
          "name": "stdout",
          "text": [
            "['Dreams', 'didn', '’', 't', 'make', 'us', 'kings', '.', 'Dragons', 'did', '.', 'The', '@HBO', 'original', 'series', '@HouseOfDragon', 'is', 'coming', 'to', '@HBOMax', 'in', '2022', '.', '#HouseoftheDragon', '#HBOMaxEurope']\n"
          ]
        }
      ]
    },
    {
      "cell_type": "code",
      "source": [
        "print(word_tokenize(tweet))\n"
      ],
      "metadata": {
        "colab": {
          "base_uri": "https://localhost:8080/"
        },
        "id": "9cxbDxwZY3SX",
        "outputId": "ce09d9d9-6a93-4a72-cf38-d842d8ae0a7e"
      },
      "execution_count": null,
      "outputs": [
        {
          "output_type": "stream",
          "name": "stdout",
          "text": [
            "['Dreams', 'didn', '’', 't', 'make', 'us', 'kings', '.', 'Dragons', 'did', '.', 'The', '@', 'HBO', 'original', 'series', '@', 'HouseOfDragon', 'is', 'coming', 'to', '@', 'HBOMax', 'in', '2022', '.', '#', 'HouseoftheDragon', '#', 'HBOMaxEurope']\n"
          ]
        }
      ]
    },
    {
      "cell_type": "code",
      "source": [],
      "metadata": {
        "id": "Y5EvikSNZL7U"
      },
      "execution_count": null,
      "outputs": []
    },
    {
      "cell_type": "markdown",
      "source": [
        "Ejemplo de generación de un wordcloud"
      ],
      "metadata": {
        "id": "Jg53GpHedU9v"
      }
    },
    {
      "cell_type": "code",
      "source": [
        "from wordcloud import WordCloud, STOPWORDS, ImageColorGenerator\n",
        "from matplotlib import pyplot as plt\n",
        "# Create and generate a word cloud image:\n",
        "wordcloud = WordCloud().generate(text)\n",
        "\n",
        "# Display the generated image:\n",
        "plt.imshow(wordcloud, interpolation='bilinear')\n",
        "plt.axis(\"off\")\n",
        "plt.show()"
      ],
      "metadata": {
        "colab": {
          "base_uri": "https://localhost:8080/",
          "height": 198
        },
        "id": "mZij9ajNaAZH",
        "outputId": "ae333927-5220-45f4-a37f-d1b4571066d0"
      },
      "execution_count": null,
      "outputs": [
        {
          "output_type": "display_data",
          "data": {
            "text/plain": [
              "<Figure size 432x288 with 1 Axes>"
            ],
            "image/png": "[encoded data removed]"
          },
          "metadata": {
            "needs_background": "light"
          }
        }
      ]
    },
    {
      "cell_type": "markdown",
      "source": [
        "Ejemplo de creación de un histograma de frecuencias de palabras de un texto"
      ],
      "metadata": {
        "id": "UOnc7OS9dYmi"
      }
    },
    {
      "cell_type": "code",
      "source": [
        "from collections import Counter\n",
        "import pandas as pd\n",
        "pd.DataFrame(Counter(word_tokenize(text.lower())).most_common(10),columns=[\"word\",\"count\"]).set_index(\"word\").plot(kind=\"bar\")"
      ],
      "metadata": {
        "colab": {
          "base_uri": "https://localhost:8080/",
          "height": 316
        },
        "id": "y57UquCQ8Edn",
        "outputId": "55947115-a3f0-4c71-9854-9308f99fe7db"
      },
      "execution_count": null,
      "outputs": [
        {
          "output_type": "execute_result",
          "data": {
            "text/plain": [
              "<Axes: xlabel='word'>"
            ]
          },
          "metadata": {},
          "execution_count": 14
        },
        {
          "output_type": "display_data",
          "data": {
            "text/plain": [
              "<Figure size 432x288 with 1 Axes>"
            ],
            "image/png": "[encoded data removed]"
          },
          "metadata": {
            "needs_background": "light"
          }
        }
      ]
    },
    {
      "cell_type": "markdown",
      "source": [
        "### Stopwords\n",
        "**Ejemplo** de diccionarios de stopwords que tiene nltk"
      ],
      "metadata": {
        "id": "UcZa9VBlddKg"
      }
    },
    {
      "cell_type": "code",
      "source": [
        "import nltk\n",
        "nltk.download('stopwords')"
      ],
      "metadata": {
        "colab": {
          "base_uri": "https://localhost:8080/"
        },
        "id": "DCo-RYeKbUzW",
        "outputId": "2ddf1b4a-fe65-46d7-e832-17d537002103"
      },
      "execution_count": null,
      "outputs": [
        {
          "output_type": "stream",
          "name": "stderr",
          "text": [
            "[nltk_data] Downloading package stopwords to /root/nltk_data...\n",
            "[nltk_data]   Unzipping corpora/stopwords.zip.\n"
          ]
        },
        {
          "output_type": "execute_result",
          "data": {
            "text/plain": [
              "True"
            ]
          },
          "metadata": {},
          "execution_count": 15
        }
      ]
    },
    {
      "cell_type": "code",
      "source": [
        "import nltk\n",
        "from nltk.corpus import stopwords\n",
        "print(stopwords.words('english'))\n"
      ],
      "metadata": {
        "colab": {
          "base_uri": "https://localhost:8080/"
        },
        "id": "ydmdULj7aDZb",
        "outputId": "17eb5a63-7670-4037-fed8-4b1b7fac5484"
      },
      "execution_count": null,
      "outputs": [
        {
          "output_type": "stream",
          "name": "stdout",
          "text": [
            "['i', 'me', 'my', 'myself', 'we', 'our', 'ours', 'ourselves', 'you', \"you're\", \"you've\", \"you'll\", \"you'd\", 'your', 'yours', 'yourself', 'yourselves', 'he', 'him', 'his', 'himself', 'she', \"she's\", 'her', 'hers', 'herself', 'it', \"it's\", 'its', 'itself', 'they', 'them', 'their', 'theirs', 'themselves', 'what', 'which', 'who', 'whom', 'this', 'that', \"that'll\", 'these', 'those', 'am', 'is', 'are', 'was', 'were', 'be', 'been', 'being', 'have', 'has', 'had', 'having', 'do', 'does', 'did', 'doing', 'a', 'an', 'the', 'and', 'but', 'if', 'or', 'because', 'as', 'until', 'while', 'of', 'at', 'by', 'for', 'with', 'about', 'against', 'between', 'into', 'through', 'during', 'before', 'after', 'above', 'below', 'to', 'from', 'up', 'down', 'in', 'out', 'on', 'off', 'over', 'under', 'again', 'further', 'then', 'once', 'here', 'there', 'when', 'where', 'why', 'how', 'all', 'any', 'both', 'each', 'few', 'more', 'most', 'other', 'some', 'such', 'no', 'nor', 'not', 'only', 'own', 'same', 'so', 'than', 'too', 'very', 's', 't', 'can', 'will', 'just', 'don', \"don't\", 'should', \"should've\", 'now', 'd', 'll', 'm', 'o', 're', 've', 'y', 'ain', 'aren', \"aren't\", 'couldn', \"couldn't\", 'didn', \"didn't\", 'doesn', \"doesn't\", 'hadn', \"hadn't\", 'hasn', \"hasn't\", 'haven', \"haven't\", 'isn', \"isn't\", 'ma', 'mightn', \"mightn't\", 'mustn', \"mustn't\", 'needn', \"needn't\", 'shan', \"shan't\", 'shouldn', \"shouldn't\", 'wasn', \"wasn't\", 'weren', \"weren't\", 'won', \"won't\", 'wouldn', \"wouldn't\"]\n"
          ]
        }
      ]
    },
    {
      "cell_type": "code",
      "source": [
        "print(stopwords.words('spanish'))\n"
      ],
      "metadata": {
        "colab": {
          "base_uri": "https://localhost:8080/"
        },
        "id": "IP61pdCgbTCm",
        "outputId": "b2dcb911-6ab3-4149-ef1f-54e1fb8b628a"
      },
      "execution_count": null,
      "outputs": [
        {
          "output_type": "stream",
          "name": "stdout",
          "text": [
            "['de', 'la', 'que', 'el', 'en', 'y', 'a', 'los', 'del', 'se', 'las', 'por', 'un', 'para', 'con', 'no', 'una', 'su', 'al', 'lo', 'como', 'más', 'pero', 'sus', 'le', 'ya', 'o', 'este', 'sí', 'porque', 'esta', 'entre', 'cuando', 'muy', 'sin', 'sobre', 'también', 'me', 'hasta', 'hay', 'donde', 'quien', 'desde', 'todo', 'nos', 'durante', 'todos', 'uno', 'les', 'ni', 'contra', 'otros', 'ese', 'eso', 'ante', 'ellos', 'e', 'esto', 'mí', 'antes', 'algunos', 'qué', 'unos', 'yo', 'otro', 'otras', 'otra', 'él', 'tanto', 'esa', 'estos', 'mucho', 'quienes', 'nada', 'muchos', 'cual', 'poco', 'ella', 'estar', 'estas', 'algunas', 'algo', 'nosotros', 'mi', 'mis', 'tú', 'te', 'ti', 'tu', 'tus', 'ellas', 'nosotras', 'vosotros', 'vosotras', 'os', 'mío', 'mía', 'míos', 'mías', 'tuyo', 'tuya', 'tuyos', 'tuyas', 'suyo', 'suya', 'suyos', 'suyas', 'nuestro', 'nuestra', 'nuestros', 'nuestras', 'vuestro', 'vuestra', 'vuestros', 'vuestras', 'esos', 'esas', 'estoy', 'estás', 'está', 'estamos', 'estáis', 'están', 'esté', 'estés', 'estemos', 'estéis', 'estén', 'estaré', 'estarás', 'estará', 'estaremos', 'estaréis', 'estarán', 'estaría', 'estarías', 'estaríamos', 'estaríais', 'estarían', 'estaba', 'estabas', 'estábamos', 'estabais', 'estaban', 'estuve', 'estuviste', 'estuvo', 'estuvimos', 'estuvisteis', 'estuvieron', 'estuviera', 'estuvieras', 'estuviéramos', 'estuvierais', 'estuvieran', 'estuviese', 'estuvieses', 'estuviésemos', 'estuvieseis', 'estuviesen', 'estando', 'estado', 'estada', 'estados', 'estadas', 'estad', 'he', 'has', 'ha', 'hemos', 'habéis', 'han', 'haya', 'hayas', 'hayamos', 'hayáis', 'hayan', 'habré', 'habrás', 'habrá', 'habremos', 'habréis', 'habrán', 'habría', 'habrías', 'habríamos', 'habríais', 'habrían', 'había', 'habías', 'habíamos', 'habíais', 'habían', 'hube', 'hubiste', 'hubo', 'hubimos', 'hubisteis', 'hubieron', 'hubiera', 'hubieras', 'hubiéramos', 'hubierais', 'hubieran', 'hubiese', 'hubieses', 'hubiésemos', 'hubieseis', 'hubiesen', 'habiendo', 'habido', 'habida', 'habidos', 'habidas', 'soy', 'eres', 'es', 'somos', 'sois', 'son', 'sea', 'seas', 'seamos', 'seáis', 'sean', 'seré', 'serás', 'será', 'seremos', 'seréis', 'serán', 'sería', 'serías', 'seríamos', 'seríais', 'serían', 'era', 'eras', 'éramos', 'erais', 'eran', 'fui', 'fuiste', 'fue', 'fuimos', 'fuisteis', 'fueron', 'fuera', 'fueras', 'fuéramos', 'fuerais', 'fueran', 'fuese', 'fueses', 'fuésemos', 'fueseis', 'fuesen', 'sintiendo', 'sentido', 'sentida', 'sentidos', 'sentidas', 'siente', 'sentid', 'tengo', 'tienes', 'tiene', 'tenemos', 'tenéis', 'tienen', 'tenga', 'tengas', 'tengamos', 'tengáis', 'tengan', 'tendré', 'tendrás', 'tendrá', 'tendremos', 'tendréis', 'tendrán', 'tendría', 'tendrías', 'tendríamos', 'tendríais', 'tendrían', 'tenía', 'tenías', 'teníamos', 'teníais', 'tenían', 'tuve', 'tuviste', 'tuvo', 'tuvimos', 'tuvisteis', 'tuvieron', 'tuviera', 'tuvieras', 'tuviéramos', 'tuvierais', 'tuvieran', 'tuviese', 'tuvieses', 'tuviésemos', 'tuvieseis', 'tuviesen', 'teniendo', 'tenido', 'tenida', 'tenidos', 'tenidas', 'tened']\n"
          ]
        }
      ]
    },
    {
      "cell_type": "code",
      "source": [
        "# eliminar stopwords\n",
        "text = \"La historia del PLN empieza desde 1950, aunque se han encontrado trabajos anteriores. En 1950, Alan Turing publicó Computing machinery and intelligence, donde proponía lo que hoy se llama el test de turing como criterio de inteligencia. En 1954, el experimento de Georgetown involucró traducción automática de más de sesenta oraciones del ruso al inglés. Los autores sostuvieron que en tres o cinco años la traducción automática sería un problema resuelto. \"\n",
        "tokens = word_tokenize(text.lower())\n",
        "tokens_without_stpw = [token for token in tokens if token not in stopwords.words('spanish')]\n",
        "\n",
        "pd.DataFrame(Counter(tokens_without_stpw).most_common(10),columns=[\"word\",\"count\"]).set_index(\"word\").plot(kind=\"bar\")"
      ],
      "metadata": {
        "colab": {
          "base_uri": "https://localhost:8080/",
          "height": 343
        },
        "id": "6YyTZa7Z0jp3",
        "outputId": "7d055040-cb87-45d2-bc3a-20f9fe8f2036"
      },
      "execution_count": null,
      "outputs": [
        {
          "output_type": "execute_result",
          "data": {
            "text/plain": [
              "<Axes: xlabel='word'>"
            ]
          },
          "metadata": {},
          "execution_count": 18
        },
        {
          "output_type": "display_data",
          "data": {
            "text/plain": [
              "<Figure size 432x288 with 1 Axes>"
            ],
            "image/png": "[encoded data removed]"
          },
          "metadata": {
            "needs_background": "light"
          }
        }
      ]
    },
    {
      "cell_type": "markdown",
      "source": [
        "### Lemmatizadores y Stemmer con NLTK"
      ],
      "metadata": {
        "id": "FMEaEdvwdi8m"
      }
    },
    {
      "cell_type": "code",
      "source": [
        "import nltk\n",
        "nltk.download('wordnet')"
      ],
      "metadata": {
        "colab": {
          "base_uri": "https://localhost:8080/"
        },
        "id": "wMO61vs9_1Xr",
        "outputId": "ccaf6179-039f-4b15-8822-ec48af8ac856"
      },
      "execution_count": null,
      "outputs": [
        {
          "output_type": "stream",
          "name": "stderr",
          "text": [
            "[nltk_data] Downloading package wordnet to /root/nltk_data...\n"
          ]
        },
        {
          "output_type": "execute_result",
          "data": {
            "text/plain": [
              "True"
            ]
          },
          "metadata": {},
          "execution_count": 19
        }
      ]
    },
    {
      "cell_type": "code",
      "source": [
        "nltk.download('omw-1.4')"
      ],
      "metadata": {
        "colab": {
          "base_uri": "https://localhost:8080/"
        },
        "id": "T7LObux_17I3",
        "outputId": "c6c5be91-233e-4166-d055-960584bd914e"
      },
      "execution_count": null,
      "outputs": [
        {
          "output_type": "stream",
          "name": "stderr",
          "text": [
            "[nltk_data] Downloading package omw-1.4 to /root/nltk_data...\n"
          ]
        },
        {
          "output_type": "execute_result",
          "data": {
            "text/plain": [
              "True"
            ]
          },
          "metadata": {},
          "execution_count": 20
        }
      ]
    },
    {
      "cell_type": "code",
      "source": [
        "\n",
        "import nltk\n",
        "from nltk.stem import WordNetLemmatizer\n",
        "wordnet_lemmatizer = WordNetLemmatizer()\n",
        "\n",
        "sentence = \"He was watching TV and eating pizza at same time.  He has bad habit of drinking after playing long hours in the Sun.\"\n",
        "punctuations=\"?:!.,;\"\n",
        "sentence_words = nltk.word_tokenize(sentence)\n",
        "for word in sentence_words:\n",
        "    if word in punctuations:\n",
        "        sentence_words.remove(word)\n",
        "\n",
        "sentence_words\n",
        "print(\"{0:20}{1:20}\".format(\"Word\",\"Lemma\"))\n",
        "for word in sentence_words:\n",
        "    print (\"{0:20}{1:20}\".format(word,wordnet_lemmatizer.lemmatize(word)))"
      ],
      "metadata": {
        "colab": {
          "base_uri": "https://localhost:8080/"
        },
        "id": "F3dUhtsS_x63",
        "outputId": "b5d39341-7cfb-4ded-abaa-26e314c37f23"
      },
      "execution_count": null,
      "outputs": [
        {
          "output_type": "stream",
          "name": "stdout",
          "text": [
            "Word                Lemma               \n",
            "He                  He                  \n",
            "was                 wa                  \n",
            "watching            watching            \n",
            "TV                  TV                  \n",
            "and                 and                 \n",
            "eating              eating              \n",
            "pizza               pizza               \n",
            "at                  at                  \n",
            "same                same                \n",
            "time                time                \n",
            "He                  He                  \n",
            "has                 ha                  \n",
            "bad                 bad                 \n",
            "habit               habit               \n",
            "of                  of                  \n",
            "drinking            drinking            \n",
            "after               after               \n",
            "playing             playing             \n",
            "long                long                \n",
            "hours               hour                \n",
            "in                  in                  \n",
            "the                 the                 \n",
            "Sun                 Sun                 \n"
          ]
        }
      ]
    },
    {
      "cell_type": "code",
      "source": [
        "from nltk.stem.snowball import SnowballStemmer\n",
        "\n",
        "s_stemmer = SnowballStemmer(language='spanish', ignore_stopwords=True)\n",
        "words = ['divertido','divertirse',\n",
        "        'diversión','avión','diverso']\n",
        "for word in words:\n",
        "    print(word+' --> '+s_stemmer.stem(word))\n"
      ],
      "metadata": {
        "colab": {
          "base_uri": "https://localhost:8080/"
        },
        "id": "PekVnjBybZWw",
        "outputId": "83691ea0-2017-4965-b450-97aaf27803dd"
      },
      "execution_count": null,
      "outputs": [
        {
          "output_type": "stream",
          "name": "stdout",
          "text": [
            "divertido --> divert\n",
            "divertirse --> divert\n",
            "diversión --> diversion\n",
            "avión --> avion\n",
            "diverso --> divers\n"
          ]
        }
      ]
    },
    {
      "cell_type": "code",
      "source": [
        "from nltk.stem.porter import *\n",
        "p_stemmer = PorterStemmer()\n",
        "words = ['divertido','divertirse',\n",
        "        'diversión','avión','diverso']\n",
        "for word in words:\n",
        "    print(word+' --> '+p_stemmer.stem(word))\n"
      ],
      "metadata": {
        "colab": {
          "base_uri": "https://localhost:8080/"
        },
        "id": "VFvEIHWgbxDM",
        "outputId": "4f154529-8b19-4ff3-b3c5-0d73f1b6589a"
      },
      "execution_count": null,
      "outputs": [
        {
          "output_type": "stream",
          "name": "stdout",
          "text": [
            "divertido --> divertido\n",
            "divertirse --> divertirs\n",
            "diversión --> diversión\n",
            "avión --> avión\n",
            "diverso --> diverso\n"
          ]
        }
      ]
    },
    {
      "cell_type": "code",
      "source": [
        "from nltk.stem.lancaster import *\n",
        "p_stemmer = LancasterStemmer()\n",
        "words = ['divertido','divertirse',\n",
        "        'diversión','avión','diverso']\n",
        "for word in words:\n",
        "    print(word+' --> '+p_stemmer.stem(word))\n"
      ],
      "metadata": {
        "colab": {
          "base_uri": "https://localhost:8080/"
        },
        "id": "MsWkrIxIb0wE",
        "outputId": "a0718ce1-3cc8-4234-9147-71a8883f1464"
      },
      "execution_count": null,
      "outputs": [
        {
          "output_type": "stream",
          "name": "stdout",
          "text": [
            "divertido --> divertido\n",
            "divertirse --> divertirs\n",
            "diversión --> diversión\n",
            "avión --> avión\n",
            "diverso --> diverso\n"
          ]
        }
      ]
    },
    {
      "cell_type": "code",
      "source": [
        "import nltk\n",
        "nltk.download('wordnet')"
      ],
      "metadata": {
        "colab": {
          "base_uri": "https://localhost:8080/"
        },
        "id": "MauPti9kda-o",
        "outputId": "5baffa77-ebad-48b6-80c4-8bfafa37d11d"
      },
      "execution_count": null,
      "outputs": [
        {
          "output_type": "stream",
          "name": "stderr",
          "text": [
            "[nltk_data] Downloading package wordnet to /root/nltk_data...\n",
            "[nltk_data]   Package wordnet is already up-to-date!\n"
          ]
        },
        {
          "output_type": "execute_result",
          "data": {
            "text/plain": [
              "True"
            ]
          },
          "metadata": {},
          "execution_count": 25
        }
      ]
    },
    {
      "cell_type": "code",
      "source": [
        "import nltk\n",
        "from nltk.stem import WordNetLemmatizer\n",
        "import string\n",
        "from nltk.corpus import stopwords\n",
        "\n",
        "wordnet_lemmatizer = WordNetLemmatizer()\n",
        "\n",
        "sentence = \"He was watching TV and eating pizza at same time. He has bad habit of drinking after playing long hours in the Sun.\"\n",
        "punctuations = string.punctuation #\"?:!.,;\"\n",
        "stpwords = stopwords.words('english')\n",
        "\n",
        "# conjunto de palabras que vamos a eliminar\n",
        "remove_words = stpwords + list(punctuations)\n",
        "\n",
        "sentence_words = nltk.word_tokenize(sentence.lower())\n",
        "for word in sentence_words:\n",
        "    if word in remove_words:#punctuations:\n",
        "        sentence_words.remove(word)\n",
        "\n",
        "sentence_words\n",
        "print(\"{0:20}{1:20}\".format(\"Word\",\"Lemma\"))\n",
        "# ojo, veamos lo que sale al utilizar directamente el lematizador\n",
        "for word in sentence_words:\n",
        "    print (\"{0:20}{1:20}\".format(word,wordnet_lemmatizer.lemmatize(word)))"
      ],
      "metadata": {
        "colab": {
          "base_uri": "https://localhost:8080/"
        },
        "id": "ssim1O_Wb92i",
        "outputId": "7e93ad7b-bd03-4872-fa96-83600738a2b6"
      },
      "execution_count": null,
      "outputs": [
        {
          "output_type": "stream",
          "name": "stdout",
          "text": [
            "Word                Lemma               \n",
            "was                 wa                  \n",
            "watching            watching            \n",
            "tv                  tv                  \n",
            "eating              eating              \n",
            "pizza               pizza               \n",
            "same                same                \n",
            "time                time                \n",
            "he                  he                  \n",
            "bad                 bad                 \n",
            "habit               habit               \n",
            "drinking            drinking            \n",
            "playing             playing             \n",
            "long                long                \n",
            "hours               hour                \n",
            "the                 the                 \n",
            "sun                 sun                 \n"
          ]
        }
      ]
    },
    {
      "cell_type": "code",
      "source": [
        "lemmed = [wordnet_lemmatizer.lemmatize(word, pos=\"v\") for word in sentence_words]\n",
        "print(lemmed)"
      ],
      "metadata": {
        "colab": {
          "base_uri": "https://localhost:8080/"
        },
        "id": "B1gzFn3MqfpV",
        "outputId": "446f9d55-637a-4c98-898a-86e56b3a557c"
      },
      "execution_count": null,
      "outputs": [
        {
          "output_type": "stream",
          "name": "stdout",
          "text": [
            "['be', 'watch', 'tv', 'eat', 'pizza', 'same', 'time', 'he', 'bad', 'habit', 'drink', 'play', 'long', 'hours', 'the', 'sun']\n"
          ]
        }
      ]
    },
    {
      "cell_type": "markdown",
      "source": [
        "Para usar el lematizador con verbos añadimos el argumento pos=\"v\"\n",
        "\n",
        "```\n",
        " :param pos: The Part Of Speech tag. Valid options are `\"n\"` for nouns,\n",
        "            `\"v\"` for verbs, `\"a\"` for adjectives, `\"r\"` for adverbs and `\"s\"`\n",
        "            for satellite adjectives.\n",
        "```"
      ],
      "metadata": {
        "id": "cvbJ2EjteZqB"
      }
    },
    {
      "cell_type": "code",
      "source": [
        "# si le ponemos el argumento pos=\"v\" \n",
        "for word in sentence_words:\n",
        "    print (\"{0:20}{1:20}\".format(word,wordnet_lemmatizer.lemmatize(word, pos=\"v\")))"
      ],
      "metadata": {
        "colab": {
          "base_uri": "https://localhost:8080/"
        },
        "id": "1Xwu7YRFdY_Y",
        "outputId": "6cbb8093-d31c-4a1a-9fab-528c55f2c9b2"
      },
      "execution_count": null,
      "outputs": [
        {
          "output_type": "stream",
          "name": "stdout",
          "text": [
            "was                 be                  \n",
            "watching            watch               \n",
            "tv                  tv                  \n",
            "eating              eat                 \n",
            "pizza               pizza               \n",
            "same                same                \n",
            "time                time                \n",
            "he                  he                  \n",
            "bad                 bad                 \n",
            "habit               habit               \n",
            "drinking            drink               \n",
            "playing             play                \n",
            "long                long                \n",
            "hours               hours               \n",
            "the                 the                 \n",
            "sun                 sun                 \n"
          ]
        }
      ]
    },
    {
      "cell_type": "markdown",
      "source": [
        "# Vectores"
      ],
      "metadata": {
        "id": "-ARUcIh12Pbb"
      }
    },
    {
      "cell_type": "markdown",
      "source": [
        "Bag Of Words"
      ],
      "metadata": {
        "id": "_G52BcPHekvz"
      }
    },
    {
      "cell_type": "code",
      "source": [
        "from sklearn.feature_extraction.text import CountVectorizer\n",
        "from nltk.tokenize import sent_tokenize, word_tokenize\n",
        "import pandas as pd\n",
        "text_ex =\"\"\" El procesamiento de lenguaje es un campo de las ciencias de la computación, de la inteligencia artificial y de la lingüística que estudia las interacciones entre las computadoras y el lenguaje humano. Se ocupa de la formulación e investigación de mecanismos eficaces computacionalmente para la comunicación entre personas y máquinas por medio del lenguaje natural, es decir, de las lenguas del mundo. No trata de la comunicación por medio de lenguas naturales de una forma abstracta, sino de diseñar mecanismos para comunicarse que sean eficaces computacionalmente que se puedan realizar por medio de programas que ejecuten o simulen la comunicación. \"\"\"\n",
        "corpus = sent_tokenize(text_ex)\n",
        "cv = CountVectorizer()\n",
        "cv_matrix = cv.fit_transform(corpus)\n"
      ],
      "metadata": {
        "id": "XpBuOrlQdj7x"
      },
      "execution_count": null,
      "outputs": []
    },
    {
      "cell_type": "code",
      "source": [
        "corpus"
      ],
      "metadata": {
        "id": "TtUluketojUP",
        "colab": {
          "base_uri": "https://localhost:8080/"
        },
        "outputId": "651baff1-c2b4-4cd9-f2c1-c2c441d0570c"
      },
      "execution_count": null,
      "outputs": [
        {
          "output_type": "execute_result",
          "data": {
            "text/plain": [
              "[' El procesamiento de lenguaje es un campo de las ciencias de la computación, de la inteligencia artificial y de la lingüística que estudia las interacciones entre las computadoras y el lenguaje humano.',\n",
              " 'Se ocupa de la formulación e investigación de mecanismos eficaces computacionalmente para la comunicación entre personas y máquinas por medio del lenguaje natural, es decir, de las lenguas del mundo.',\n",
              " 'No trata de la comunicación por medio de lenguas naturales de una forma abstracta, sino de diseñar mecanismos para comunicarse que sean eficaces computacionalmente que se puedan realizar por medio de programas que ejecuten o simulen la comunicación.']"
            ]
          },
          "metadata": {},
          "execution_count": 30
        }
      ]
    },
    {
      "cell_type": "code",
      "source": [
        "X = cv_matrix.toarray()\n",
        "X"
      ],
      "metadata": {
        "id": "q-Dqn9jhncEH",
        "colab": {
          "base_uri": "https://localhost:8080/"
        },
        "outputId": "da141455-ddaf-4183-aa32-124d1d205493"
      },
      "execution_count": null,
      "outputs": [
        {
          "output_type": "execute_result",
          "data": {
            "text/plain": [
              "array([[0, 1, 1, 1, 0, 1, 1, 0, 0, 5, 0, 0, 0, 0, 0, 2, 1, 1, 1, 0, 0, 1,\n",
              "        1, 1, 0, 3, 3, 2, 0, 1, 0, 0, 0, 0, 0, 0, 0, 0, 0, 0, 0, 1, 0, 0,\n",
              "        1, 0, 0, 0, 0, 0, 0, 1, 0],\n",
              "       [0, 0, 0, 0, 1, 0, 0, 1, 0, 3, 1, 2, 0, 1, 0, 0, 1, 1, 0, 0, 1, 0,\n",
              "        0, 0, 1, 2, 1, 1, 1, 0, 1, 1, 1, 1, 1, 0, 0, 1, 1, 1, 1, 0, 0, 0,\n",
              "        0, 0, 1, 0, 0, 0, 0, 0, 0],\n",
              "       [1, 0, 0, 0, 1, 0, 0, 2, 1, 5, 0, 0, 1, 1, 1, 0, 0, 0, 0, 1, 0, 0,\n",
              "        0, 0, 0, 2, 0, 0, 1, 0, 1, 2, 0, 0, 0, 1, 1, 0, 1, 0, 2, 0, 1, 1,\n",
              "        3, 1, 1, 1, 1, 1, 1, 0, 1]])"
            ]
          },
          "metadata": {},
          "execution_count": 31
        }
      ]
    },
    {
      "cell_type": "code",
      "source": [
        "features = cv.get_feature_names_out()"
      ],
      "metadata": {
        "id": "FJpmDW5wnvQI"
      },
      "execution_count": null,
      "outputs": []
    },
    {
      "cell_type": "code",
      "source": [
        "df = pd.DataFrame(X,columns=features)\n",
        "df.head()"
      ],
      "metadata": {
        "id": "c3nDXDoln1pT",
        "colab": {
          "base_uri": "https://localhost:8080/",
          "height": 173
        },
        "outputId": "41505838-e681-4c06-eaee-1bb8352c4fbc"
      },
      "execution_count": null,
      "outputs": [
        {
          "output_type": "execute_result",
          "data": {
            "text/plain": [
              "   abstracta  artificial  campo  ciencias  computacionalmente  computación  \\\n",
              "0          0           1      1         1                   0            1   \n",
              "1          0           0      0         0                   1            0   \n",
              "2          1           0      0         0                   1            0   \n",
              "\n",
              "   computadoras  comunicación  comunicarse  de  ...  puedan  que  realizar  \\\n",
              "0             1             0            0   5  ...       0    1         0   \n",
              "1             0             1            0   3  ...       0    0         0   \n",
              "2             0             2            1   5  ...       1    3         1   \n",
              "\n",
              "   se  sean  simulen  sino  trata  un  una  \n",
              "0   0     0        0     0      0   1    0  \n",
              "1   1     0        0     0      0   0    0  \n",
              "2   1     1        1     1      1   0    1  \n",
              "\n",
              "[3 rows x 53 columns]"
            ],
            "text/html": [
              "\n",
              "  <div id=\"df-f62907d5-ea0c-4945-8762-9618551bb36d\">\n",
              "    <div class=\"colab-df-container\">\n",
              "      <div>\n",
              "<style scoped>\n",
              "    .dataframe tbody tr th:only-of-type {\n",
              "        vertical-align: middle;\n",
              "    }\n",
              "\n",
              "    .dataframe tbody tr th {\n",
              "        vertical-align: top;\n",
              "    }\n",
              "\n",
              "    .dataframe thead th {\n",
              "        text-align: right;\n",
              "    }\n",
              "</style>\n",
              "<table border=\"1\" class=\"dataframe\">\n",
              "  <thead>\n",
              "    <tr style=\"text-align: right;\">\n",
              "      <th></th>\n",
              "      <th>abstracta</th>\n",
              "      <th>artificial</th>\n",
              "      <th>campo</th>\n",
              "      <th>ciencias</th>\n",
              "      <th>computacionalmente</th>\n",
              "      <th>computación</th>\n",
              "      <th>computadoras</th>\n",
              "      <th>comunicación</th>\n",
              "      <th>comunicarse</th>\n",
              "      <th>de</th>\n",
              "      <th>...</th>\n",
              "      <th>puedan</th>\n",
              "      <th>que</th>\n",
              "      <th>realizar</th>\n",
              "      <th>se</th>\n",
              "      <th>sean</th>\n",
              "      <th>simulen</th>\n",
              "      <th>sino</th>\n",
              "      <th>trata</th>\n",
              "      <th>un</th>\n",
              "      <th>una</th>\n",
              "    </tr>\n",
              "  </thead>\n",
              "  <tbody>\n",
              "    <tr>\n",
              "      <th>0</th>\n",
              "      <td>0</td>\n",
              "      <td>1</td>\n",
              "      <td>1</td>\n",
              "      <td>1</td>\n",
              "      <td>0</td>\n",
              "      <td>1</td>\n",
              "      <td>1</td>\n",
              "      <td>0</td>\n",
              "      <td>0</td>\n",
              "      <td>5</td>\n",
              "      <td>...</td>\n",
              "      <td>0</td>\n",
              "      <td>1</td>\n",
              "      <td>0</td>\n",
              "      <td>0</td>\n",
              "      <td>0</td>\n",
              "      <td>0</td>\n",
              "      <td>0</td>\n",
              "      <td>0</td>\n",
              "      <td>1</td>\n",
              "      <td>0</td>\n",
              "    </tr>\n",
              "    <tr>\n",
              "      <th>1</th>\n",
              "      <td>0</td>\n",
              "      <td>0</td>\n",
              "      <td>0</td>\n",
              "      <td>0</td>\n",
              "      <td>1</td>\n",
              "      <td>0</td>\n",
              "      <td>0</td>\n",
              "      <td>1</td>\n",
              "      <td>0</td>\n",
              "      <td>3</td>\n",
              "      <td>...</td>\n",
              "      <td>0</td>\n",
              "      <td>0</td>\n",
              "      <td>0</td>\n",
              "      <td>1</td>\n",
              "      <td>0</td>\n",
              "      <td>0</td>\n",
              "      <td>0</td>\n",
              "      <td>0</td>\n",
              "      <td>0</td>\n",
              "      <td>0</td>\n",
              "    </tr>\n",
              "    <tr>\n",
              "      <th>2</th>\n",
              "      <td>1</td>\n",
              "      <td>0</td>\n",
              "      <td>0</td>\n",
              "      <td>0</td>\n",
              "      <td>1</td>\n",
              "      <td>0</td>\n",
              "      <td>0</td>\n",
              "      <td>2</td>\n",
              "      <td>1</td>\n",
              "      <td>5</td>\n",
              "      <td>...</td>\n",
              "      <td>1</td>\n",
              "      <td>3</td>\n",
              "      <td>1</td>\n",
              "      <td>1</td>\n",
              "      <td>1</td>\n",
              "      <td>1</td>\n",
              "      <td>1</td>\n",
              "      <td>1</td>\n",
              "      <td>0</td>\n",
              "      <td>1</td>\n",
              "    </tr>\n",
              "  </tbody>\n",
              "</table>\n",
              "<p>3 rows × 53 columns</p>\n",
              "</div>\n",
              "      <button class=\"colab-df-convert\" onclick=\"convertToInteractive('df-f62907d5-ea0c-4945-8762-9618551bb36d')\"\n",
              "              title=\"Convert this dataframe to an interactive table.\"\n",
              "              style=\"display:none;\">\n",
              "        \n",
              "  <svg xmlns=\"http://www.w3.org/2000/svg\" height=\"24px\"viewBox=\"0 0 24 24\"\n",
              "       width=\"24px\">\n",
              "    <path d=\"M0 0h24v24H0V0z\" fill=\"none\"/>\n",
              "    <path d=\"M18.56 5.44l.94 2.06.94-2.06 2.06-.94-2.06-.94-.94-2.06-.94 2.06-2.06.94zm-11 1L8.5 8.5l.94-2.06 2.06-.94-2.06-.94L8.5 2.5l-.94 2.06-2.06.94zm10 10l.94 2.06.94-2.06 2.06-.94-2.06-.94-.94-2.06-.94 2.06-2.06.94z\"/><path d=\"M17.41 7.96l-1.37-1.37c-.4-.4-.92-.59-1.43-.59-.52 0-1.04.2-1.43.59L10.3 9.45l-7.72 7.72c-.78.78-.78 2.05 0 2.83L4 21.41c.39.39.9.59 1.41.59.51 0 1.02-.2 1.41-.59l7.78-7.78 2.81-2.81c.8-.78.8-2.07 0-2.86zM5.41 20L4 18.59l7.72-7.72 1.47 1.35L5.41 20z\"/>\n",
              "  </svg>\n",
              "      </button>\n",
              "      \n",
              "  <style>\n",
              "    .colab-df-container {\n",
              "      display:flex;\n",
              "      flex-wrap:wrap;\n",
              "      gap: 12px;\n",
              "    }\n",
              "\n",
              "    .colab-df-convert {\n",
              "      background-color: #E8F0FE;\n",
              "      border: none;\n",
              "      border-radius: 50%;\n",
              "      cursor: pointer;\n",
              "      display: none;\n",
              "      fill: #1967D2;\n",
              "      height: 32px;\n",
              "      padding: 0 0 0 0;\n",
              "      width: 32px;\n",
              "    }\n",
              "\n",
              "    .colab-df-convert:hover {\n",
              "      background-color: #E2EBFA;\n",
              "      box-shadow: 0px 1px 2px rgba(60, 64, 67, 0.3), 0px 1px 3px 1px rgba(60, 64, 67, 0.15);\n",
              "      fill: #174EA6;\n",
              "    }\n",
              "\n",
              "    [theme=dark] .colab-df-convert {\n",
              "      background-color: #3B4455;\n",
              "      fill: #D2E3FC;\n",
              "    }\n",
              "\n",
              "    [theme=dark] .colab-df-convert:hover {\n",
              "      background-color: #434B5C;\n",
              "      box-shadow: 0px 1px 3px 1px rgba(0, 0, 0, 0.15);\n",
              "      filter: drop-shadow(0px 1px 2px rgba(0, 0, 0, 0.3));\n",
              "      fill: #FFFFFF;\n",
              "    }\n",
              "  </style>\n",
              "\n",
              "      <script>\n",
              "        const buttonEl =\n",
              "          document.querySelector('#df-f62907d5-ea0c-4945-8762-9618551bb36d button.colab-df-convert');\n",
              "        buttonEl.style.display =\n",
              "          google.colab.kernel.accessAllowed ? 'block' : 'none';\n",
              "\n",
              "        async function convertToInteractive(key) {\n",
              "          const element = document.querySelector('#df-f62907d5-ea0c-4945-8762-9618551bb36d');\n",
              "          const dataTable =\n",
              "            await google.colab.kernel.invokeFunction('convertToInteractive',\n",
              "                                                     [key], {});\n",
              "          if (!dataTable) return;\n",
              "\n",
              "          const docLinkHtml = 'Like what you see? Visit the ' +\n",
              "            '<a target=\"_blank\" href=https://colab.research.google.com/notebooks/data_table.ipynb>data table notebook</a>'\n",
              "            + ' to learn more about interactive tables.';\n",
              "          element.innerHTML = '';\n",
              "          dataTable['output_type'] = 'display_data';\n",
              "          await google.colab.output.renderOutput(dataTable, element);\n",
              "          const docLink = document.createElement('div');\n",
              "          docLink.innerHTML = docLinkHtml;\n",
              "          element.appendChild(docLink);\n",
              "        }\n",
              "      </script>\n",
              "    </div>\n",
              "  </div>\n",
              "  "
            ]
          },
          "metadata": {},
          "execution_count": 33
        }
      ]
    },
    {
      "cell_type": "code",
      "source": [
        "import nltk\n",
        "tok_corp = [nltk.word_tokenize(sent) for sent in corpus]\n",
        "tok_corp[0]"
      ],
      "metadata": {
        "id": "cDcxVdVko_sR",
        "colab": {
          "base_uri": "https://localhost:8080/"
        },
        "outputId": "15a3cb66-8e80-48c1-a13c-dc50f2ea3540"
      },
      "execution_count": null,
      "outputs": [
        {
          "output_type": "execute_result",
          "data": {
            "text/plain": [
              "['El',\n",
              " 'procesamiento',\n",
              " 'de',\n",
              " 'lenguaje',\n",
              " 'es',\n",
              " 'un',\n",
              " 'campo',\n",
              " 'de',\n",
              " 'las',\n",
              " 'ciencias',\n",
              " 'de',\n",
              " 'la',\n",
              " 'computación',\n",
              " ',',\n",
              " 'de',\n",
              " 'la',\n",
              " 'inteligencia',\n",
              " 'artificial',\n",
              " 'y',\n",
              " 'de',\n",
              " 'la',\n",
              " 'lingüística',\n",
              " 'que',\n",
              " 'estudia',\n",
              " 'las',\n",
              " 'interacciones',\n",
              " 'entre',\n",
              " 'las',\n",
              " 'computadoras',\n",
              " 'y',\n",
              " 'el',\n",
              " 'lenguaje',\n",
              " 'humano',\n",
              " '.']"
            ]
          },
          "metadata": {},
          "execution_count": 34
        }
      ]
    },
    {
      "cell_type": "markdown",
      "source": [
        "Bag of words con gensim"
      ],
      "metadata": {
        "id": "XU9BcWT0epBC"
      }
    },
    {
      "cell_type": "code",
      "source": [
        "\n",
        "from gensim.corpora import Dictionary\n",
        "diccionario = Dictionary(tok_corp)\n",
        "mapped_corpus = [diccionario.doc2bow(text)\n",
        " for text in tok_corp]"
      ],
      "metadata": {
        "id": "JNvT47bpn_ye"
      },
      "execution_count": null,
      "outputs": []
    },
    {
      "cell_type": "code",
      "source": [
        "mapped_corpus"
      ],
      "metadata": {
        "id": "0fN50NRlosd5",
        "colab": {
          "base_uri": "https://localhost:8080/"
        },
        "outputId": "20f6f424-f72a-4526-dcca-e1b9db07b1f8"
      },
      "execution_count": null,
      "outputs": [
        {
          "output_type": "execute_result",
          "data": {
            "text/plain": [
              "[[(0, 1),\n",
              "  (1, 1),\n",
              "  (2, 1),\n",
              "  (3, 1),\n",
              "  (4, 1),\n",
              "  (5, 1),\n",
              "  (6, 1),\n",
              "  (7, 1),\n",
              "  (8, 5),\n",
              "  (9, 1),\n",
              "  (10, 1),\n",
              "  (11, 1),\n",
              "  (12, 1),\n",
              "  (13, 1),\n",
              "  (14, 1),\n",
              "  (15, 1),\n",
              "  (16, 3),\n",
              "  (17, 3),\n",
              "  (18, 2),\n",
              "  (19, 1),\n",
              "  (20, 1),\n",
              "  (21, 1),\n",
              "  (22, 1),\n",
              "  (23, 2)],\n",
              " [(0, 2),\n",
              "  (1, 1),\n",
              "  (8, 3),\n",
              "  (10, 1),\n",
              "  (11, 1),\n",
              "  (16, 2),\n",
              "  (17, 1),\n",
              "  (18, 1),\n",
              "  (23, 1),\n",
              "  (24, 1),\n",
              "  (25, 1),\n",
              "  (26, 1),\n",
              "  (27, 1),\n",
              "  (28, 2),\n",
              "  (29, 1),\n",
              "  (30, 1),\n",
              "  (31, 1),\n",
              "  (32, 1),\n",
              "  (33, 1),\n",
              "  (34, 1),\n",
              "  (35, 1),\n",
              "  (36, 1),\n",
              "  (37, 1),\n",
              "  (38, 1),\n",
              "  (39, 1),\n",
              "  (40, 1),\n",
              "  (41, 1),\n",
              "  (42, 1)],\n",
              " [(0, 1),\n",
              "  (1, 1),\n",
              "  (8, 5),\n",
              "  (16, 2),\n",
              "  (21, 3),\n",
              "  (25, 1),\n",
              "  (26, 2),\n",
              "  (30, 1),\n",
              "  (33, 1),\n",
              "  (34, 1),\n",
              "  (35, 2),\n",
              "  (40, 1),\n",
              "  (42, 2),\n",
              "  (43, 1),\n",
              "  (44, 1),\n",
              "  (45, 1),\n",
              "  (46, 1),\n",
              "  (47, 1),\n",
              "  (48, 1),\n",
              "  (49, 1),\n",
              "  (50, 1),\n",
              "  (51, 1),\n",
              "  (52, 1),\n",
              "  (53, 1),\n",
              "  (54, 1),\n",
              "  (55, 1),\n",
              "  (56, 1),\n",
              "  (57, 1),\n",
              "  (58, 1),\n",
              "  (59, 1)]]"
            ]
          },
          "metadata": {},
          "execution_count": 36
        }
      ]
    },
    {
      "cell_type": "markdown",
      "source": [
        "BoG con counter"
      ],
      "metadata": {
        "id": "NSI53OxFetJ1"
      }
    },
    {
      "cell_type": "code",
      "source": [
        "from collections import Counter\n",
        "Counter([\"hola\",\"hola\",\"adiós\"]).most_common(5)"
      ],
      "metadata": {
        "id": "5mrpWnC1Jx5s",
        "colab": {
          "base_uri": "https://localhost:8080/"
        },
        "outputId": "f356c340-7723-4bc4-a89e-cd980b2f82a8"
      },
      "execution_count": null,
      "outputs": [
        {
          "output_type": "execute_result",
          "data": {
            "text/plain": [
              "[('hola', 2), ('adiós', 1)]"
            ]
          },
          "metadata": {},
          "execution_count": 37
        }
      ]
    },
    {
      "cell_type": "code",
      "source": [
        "from collections import Counter\n",
        "\n",
        "tokens = word_tokenize(text_ex)\n",
        "N = 10\n",
        "counter = Counter(tokens)\n",
        "counter.most_common(N)\n"
      ],
      "metadata": {
        "id": "kpmSlu4ipPEe",
        "colab": {
          "base_uri": "https://localhost:8080/"
        },
        "outputId": "9371132f-94ea-42a5-b00c-704b38b43a48"
      },
      "execution_count": null,
      "outputs": [
        {
          "output_type": "execute_result",
          "data": {
            "text/plain": [
              "[('de', 13),\n",
              " ('la', 7),\n",
              " ('las', 4),\n",
              " (',', 4),\n",
              " ('que', 4),\n",
              " ('lenguaje', 3),\n",
              " ('y', 3),\n",
              " ('.', 3),\n",
              " ('comunicación', 3),\n",
              " ('por', 3)]"
            ]
          },
          "metadata": {},
          "execution_count": 38
        }
      ]
    },
    {
      "cell_type": "markdown",
      "source": [
        "TF-IDF"
      ],
      "metadata": {
        "id": "k4F7EF65ewrt"
      }
    },
    {
      "cell_type": "code",
      "source": [
        "import pandas as pd\n",
        "from sklearn.feature_extraction.text import TfidfVectorizer\n",
        "\n",
        "documentA = 'Soy un estudiante de NLP muy aplicado'\n",
        "documentB = 'Manolo es un estudiante muy bueno de matemáticas'\n",
        "documents = [documentA, documentB]\n",
        "\n",
        "vectorizer = TfidfVectorizer()\n",
        "vectors = vectorizer.fit_transform(documents)\n",
        "\n",
        "feature_names = vectorizer.get_feature_names_out()\n",
        "dense = vectors.todense()\n",
        "denselist = dense.tolist()\n",
        "df = pd.DataFrame(denselist, columns=feature_names)\n",
        "df"
      ],
      "metadata": {
        "id": "EKVURoBzpdb8",
        "colab": {
          "base_uri": "https://localhost:8080/",
          "height": 112
        },
        "outputId": "fb22ae2f-09a7-4773-dd2e-99646c08cbd5"
      },
      "execution_count": null,
      "outputs": [
        {
          "output_type": "execute_result",
          "data": {
            "text/plain": [
              "   aplicado     bueno        de        es  estudiante    manolo  matemáticas  \\\n",
              "0  0.446101  0.000000  0.317404  0.000000    0.317404  0.000000     0.000000   \n",
              "1  0.000000  0.407401  0.289869  0.407401    0.289869  0.407401     0.407401   \n",
              "\n",
              "        muy       nlp       soy        un  \n",
              "0  0.317404  0.446101  0.446101  0.317404  \n",
              "1  0.289869  0.000000  0.000000  0.289869  "
            ],
            "text/html": [
              "\n",
              "  <div id=\"df-3ade41e4-cc96-43dc-8619-11728622ca22\">\n",
              "    <div class=\"colab-df-container\">\n",
              "      <div>\n",
              "<style scoped>\n",
              "    .dataframe tbody tr th:only-of-type {\n",
              "        vertical-align: middle;\n",
              "    }\n",
              "\n",
              "    .dataframe tbody tr th {\n",
              "        vertical-align: top;\n",
              "    }\n",
              "\n",
              "    .dataframe thead th {\n",
              "        text-align: right;\n",
              "    }\n",
              "</style>\n",
              "<table border=\"1\" class=\"dataframe\">\n",
              "  <thead>\n",
              "    <tr style=\"text-align: right;\">\n",
              "      <th></th>\n",
              "      <th>aplicado</th>\n",
              "      <th>bueno</th>\n",
              "      <th>de</th>\n",
              "      <th>es</th>\n",
              "      <th>estudiante</th>\n",
              "      <th>manolo</th>\n",
              "      <th>matemáticas</th>\n",
              "      <th>muy</th>\n",
              "      <th>nlp</th>\n",
              "      <th>soy</th>\n",
              "      <th>un</th>\n",
              "    </tr>\n",
              "  </thead>\n",
              "  <tbody>\n",
              "    <tr>\n",
              "      <th>0</th>\n",
              "      <td>0.446101</td>\n",
              "      <td>0.000000</td>\n",
              "      <td>0.317404</td>\n",
              "      <td>0.000000</td>\n",
              "      <td>0.317404</td>\n",
              "      <td>0.000000</td>\n",
              "      <td>0.000000</td>\n",
              "      <td>0.317404</td>\n",
              "      <td>0.446101</td>\n",
              "      <td>0.446101</td>\n",
              "      <td>0.317404</td>\n",
              "    </tr>\n",
              "    <tr>\n",
              "      <th>1</th>\n",
              "      <td>0.000000</td>\n",
              "      <td>0.407401</td>\n",
              "      <td>0.289869</td>\n",
              "      <td>0.407401</td>\n",
              "      <td>0.289869</td>\n",
              "      <td>0.407401</td>\n",
              "      <td>0.407401</td>\n",
              "      <td>0.289869</td>\n",
              "      <td>0.000000</td>\n",
              "      <td>0.000000</td>\n",
              "      <td>0.289869</td>\n",
              "    </tr>\n",
              "  </tbody>\n",
              "</table>\n",
              "</div>\n",
              "      <button class=\"colab-df-convert\" onclick=\"convertToInteractive('df-3ade41e4-cc96-43dc-8619-11728622ca22')\"\n",
              "              title=\"Convert this dataframe to an interactive table.\"\n",
              "              style=\"display:none;\">\n",
              "        \n",
              "  <svg xmlns=\"http://www.w3.org/2000/svg\" height=\"24px\"viewBox=\"0 0 24 24\"\n",
              "       width=\"24px\">\n",
              "    <path d=\"M0 0h24v24H0V0z\" fill=\"none\"/>\n",
              "    <path d=\"M18.56 5.44l.94 2.06.94-2.06 2.06-.94-2.06-.94-.94-2.06-.94 2.06-2.06.94zm-11 1L8.5 8.5l.94-2.06 2.06-.94-2.06-.94L8.5 2.5l-.94 2.06-2.06.94zm10 10l.94 2.06.94-2.06 2.06-.94-2.06-.94-.94-2.06-.94 2.06-2.06.94z\"/><path d=\"M17.41 7.96l-1.37-1.37c-.4-.4-.92-.59-1.43-.59-.52 0-1.04.2-1.43.59L10.3 9.45l-7.72 7.72c-.78.78-.78 2.05 0 2.83L4 21.41c.39.39.9.59 1.41.59.51 0 1.02-.2 1.41-.59l7.78-7.78 2.81-2.81c.8-.78.8-2.07 0-2.86zM5.41 20L4 18.59l7.72-7.72 1.47 1.35L5.41 20z\"/>\n",
              "  </svg>\n",
              "      </button>\n",
              "      \n",
              "  <style>\n",
              "    .colab-df-container {\n",
              "      display:flex;\n",
              "      flex-wrap:wrap;\n",
              "      gap: 12px;\n",
              "    }\n",
              "\n",
              "    .colab-df-convert {\n",
              "      background-color: #E8F0FE;\n",
              "      border: none;\n",
              "      border-radius: 50%;\n",
              "      cursor: pointer;\n",
              "      display: none;\n",
              "      fill: #1967D2;\n",
              "      height: 32px;\n",
              "      padding: 0 0 0 0;\n",
              "      width: 32px;\n",
              "    }\n",
              "\n",
              "    .colab-df-convert:hover {\n",
              "      background-color: #E2EBFA;\n",
              "      box-shadow: 0px 1px 2px rgba(60, 64, 67, 0.3), 0px 1px 3px 1px rgba(60, 64, 67, 0.15);\n",
              "      fill: #174EA6;\n",
              "    }\n",
              "\n",
              "    [theme=dark] .colab-df-convert {\n",
              "      background-color: #3B4455;\n",
              "      fill: #D2E3FC;\n",
              "    }\n",
              "\n",
              "    [theme=dark] .colab-df-convert:hover {\n",
              "      background-color: #434B5C;\n",
              "      box-shadow: 0px 1px 3px 1px rgba(0, 0, 0, 0.15);\n",
              "      filter: drop-shadow(0px 1px 2px rgba(0, 0, 0, 0.3));\n",
              "      fill: #FFFFFF;\n",
              "    }\n",
              "  </style>\n",
              "\n",
              "      <script>\n",
              "        const buttonEl =\n",
              "          document.querySelector('#df-3ade41e4-cc96-43dc-8619-11728622ca22 button.colab-df-convert');\n",
              "        buttonEl.style.display =\n",
              "          google.colab.kernel.accessAllowed ? 'block' : 'none';\n",
              "\n",
              "        async function convertToInteractive(key) {\n",
              "          const element = document.querySelector('#df-3ade41e4-cc96-43dc-8619-11728622ca22');\n",
              "          const dataTable =\n",
              "            await google.colab.kernel.invokeFunction('convertToInteractive',\n",
              "                                                     [key], {});\n",
              "          if (!dataTable) return;\n",
              "\n",
              "          const docLinkHtml = 'Like what you see? Visit the ' +\n",
              "            '<a target=\"_blank\" href=https://colab.research.google.com/notebooks/data_table.ipynb>data table notebook</a>'\n",
              "            + ' to learn more about interactive tables.';\n",
              "          element.innerHTML = '';\n",
              "          dataTable['output_type'] = 'display_data';\n",
              "          await google.colab.output.renderOutput(dataTable, element);\n",
              "          const docLink = document.createElement('div');\n",
              "          docLink.innerHTML = docLinkHtml;\n",
              "          element.appendChild(docLink);\n",
              "        }\n",
              "      </script>\n",
              "    </div>\n",
              "  </div>\n",
              "  "
            ]
          },
          "metadata": {},
          "execution_count": 39
        }
      ]
    },
    {
      "cell_type": "code",
      "source": [
        "dense"
      ],
      "metadata": {
        "id": "YspSt1J9MDkw",
        "colab": {
          "base_uri": "https://localhost:8080/"
        },
        "outputId": "2453b460-b8ce-40a5-9ab8-5c0d4976b455"
      },
      "execution_count": null,
      "outputs": [
        {
          "output_type": "execute_result",
          "data": {
            "text/plain": [
              "matrix([[0.44610081, 0.        , 0.3174044 , 0.        , 0.3174044 ,\n",
              "         0.        , 0.        , 0.3174044 , 0.44610081, 0.44610081,\n",
              "         0.3174044 ],\n",
              "        [0.        , 0.40740124, 0.28986934, 0.40740124, 0.28986934,\n",
              "         0.40740124, 0.40740124, 0.28986934, 0.        , 0.        ,\n",
              "         0.28986934]])"
            ]
          },
          "metadata": {},
          "execution_count": 40
        }
      ]
    },
    {
      "cell_type": "markdown",
      "source": [
        "TF-IDF con gensim"
      ],
      "metadata": {
        "id": "6wZe7KdVeyqY"
      }
    },
    {
      "cell_type": "code",
      "source": [
        "from gensim.corpora.dictionary import Dictionary\n",
        "from nltk.tokenize import word_tokenize\n",
        "my_documents = ['El partido de fútbol fue malo',\n",
        "                'Ganó mi equipo',\n",
        "                'El fútbol es un rollo.',\n",
        "                'El partido lo ganó el mejor.','Perdimos por el árbitro',]\n",
        "\n",
        "tokenized_docs = [word_tokenize(doc.lower()) for doc in my_documents]\n",
        "\n",
        "dictionary = Dictionary(tokenized_docs)\n",
        "dictionary.token2id\n"
      ],
      "metadata": {
        "id": "CuBQI85Aq7Vp",
        "colab": {
          "base_uri": "https://localhost:8080/"
        },
        "outputId": "a4d1027f-f021-4f47-a5d2-662515aba827"
      },
      "execution_count": null,
      "outputs": [
        {
          "output_type": "execute_result",
          "data": {
            "text/plain": [
              "{'de': 0,\n",
              " 'el': 1,\n",
              " 'fue': 2,\n",
              " 'fútbol': 3,\n",
              " 'malo': 4,\n",
              " 'partido': 5,\n",
              " 'equipo': 6,\n",
              " 'ganó': 7,\n",
              " 'mi': 8,\n",
              " '.': 9,\n",
              " 'es': 10,\n",
              " 'rollo': 11,\n",
              " 'un': 12,\n",
              " 'lo': 13,\n",
              " 'mejor': 14,\n",
              " 'perdimos': 15,\n",
              " 'por': 16,\n",
              " 'árbitro': 17}"
            ]
          },
          "metadata": {},
          "execution_count": 41
        }
      ]
    },
    {
      "cell_type": "code",
      "source": [
        "corpus = [dictionary.doc2bow(doc) for doc in tokenized_docs]\n",
        "corpus\n"
      ],
      "metadata": {
        "id": "7Jv87KICsGy2",
        "colab": {
          "base_uri": "https://localhost:8080/"
        },
        "outputId": "ce999011-d67d-4293-fb1e-62980639e0ee"
      },
      "execution_count": null,
      "outputs": [
        {
          "output_type": "execute_result",
          "data": {
            "text/plain": [
              "[[(0, 1), (1, 1), (2, 1), (3, 1), (4, 1), (5, 1)],\n",
              " [(6, 1), (7, 1), (8, 1)],\n",
              " [(1, 1), (3, 1), (9, 1), (10, 1), (11, 1), (12, 1)],\n",
              " [(1, 2), (5, 1), (7, 1), (9, 1), (13, 1), (14, 1)],\n",
              " [(1, 1), (15, 1), (16, 1), (17, 1)]]"
            ]
          },
          "metadata": {},
          "execution_count": 42
        }
      ]
    },
    {
      "cell_type": "code",
      "source": [
        "from gensim.models.tfidfmodel import TfidfModel\n",
        "tfidf = TfidfModel(corpus)\n",
        "tfidf[corpus[1]]"
      ],
      "metadata": {
        "id": "YuWcn3PDrKRd",
        "colab": {
          "base_uri": "https://localhost:8080/"
        },
        "outputId": "704aae63-ab12-4705-c8b1-8f0d5333dcec"
      },
      "execution_count": null,
      "outputs": [
        {
          "output_type": "execute_result",
          "data": {
            "text/plain": [
              "[(6, 0.6559486886294514), (7, 0.37344696513776354), (8, 0.6559486886294514)]"
            ]
          },
          "metadata": {},
          "execution_count": 43
        }
      ]
    },
    {
      "cell_type": "code",
      "source": [
        "tokenized_nuevo_corpus =  [word_tokenize(doc.lower()) for doc in sent_tokenize(text_ex)]\n",
        "\n",
        "#BoW a partir del nuevo corpus\n",
        "mapped_nuevo_corpus = [diccionario.doc2bow(text)\n",
        " for text in tokenized_nuevo_corpus]\n",
        "#TF-IDF a partir de la matriz BoW\n",
        "corpus_nuevo_tfidf = tfidf[mapped_nuevo_corpus]\n",
        "corpus_nuevo_tfidf.corpus"
      ],
      "metadata": {
        "id": "8dFtoEgUrKwh",
        "colab": {
          "base_uri": "https://localhost:8080/"
        },
        "outputId": "399ef660-3cc5-4b9a-a396-119859f35923"
      },
      "execution_count": null,
      "outputs": [
        {
          "output_type": "execute_result",
          "data": {
            "text/plain": [
              "[[(0, 1),\n",
              "  (1, 1),\n",
              "  (3, 1),\n",
              "  (4, 1),\n",
              "  (5, 1),\n",
              "  (6, 1),\n",
              "  (7, 1),\n",
              "  (8, 5),\n",
              "  (9, 2),\n",
              "  (10, 1),\n",
              "  (11, 1),\n",
              "  (12, 1),\n",
              "  (13, 1),\n",
              "  (14, 1),\n",
              "  (15, 1),\n",
              "  (16, 3),\n",
              "  (17, 3),\n",
              "  (18, 2),\n",
              "  (19, 1),\n",
              "  (20, 1),\n",
              "  (21, 1),\n",
              "  (22, 1),\n",
              "  (23, 2)],\n",
              " [(0, 2),\n",
              "  (1, 1),\n",
              "  (8, 3),\n",
              "  (10, 1),\n",
              "  (11, 1),\n",
              "  (16, 2),\n",
              "  (17, 1),\n",
              "  (18, 1),\n",
              "  (23, 1),\n",
              "  (25, 1),\n",
              "  (26, 1),\n",
              "  (27, 1),\n",
              "  (28, 2),\n",
              "  (29, 1),\n",
              "  (30, 1),\n",
              "  (31, 1),\n",
              "  (32, 1),\n",
              "  (33, 1),\n",
              "  (34, 1),\n",
              "  (35, 1),\n",
              "  (36, 1),\n",
              "  (37, 1),\n",
              "  (38, 1),\n",
              "  (39, 1),\n",
              "  (40, 1),\n",
              "  (41, 1),\n",
              "  (42, 1),\n",
              "  (54, 1)],\n",
              " [(0, 1),\n",
              "  (1, 1),\n",
              "  (8, 5),\n",
              "  (16, 2),\n",
              "  (21, 3),\n",
              "  (25, 1),\n",
              "  (26, 2),\n",
              "  (30, 1),\n",
              "  (33, 1),\n",
              "  (34, 1),\n",
              "  (35, 2),\n",
              "  (40, 1),\n",
              "  (42, 2),\n",
              "  (44, 1),\n",
              "  (45, 1),\n",
              "  (46, 1),\n",
              "  (47, 1),\n",
              "  (48, 1),\n",
              "  (49, 1),\n",
              "  (50, 1),\n",
              "  (51, 1),\n",
              "  (52, 1),\n",
              "  (53, 1),\n",
              "  (54, 1),\n",
              "  (55, 1),\n",
              "  (56, 1),\n",
              "  (57, 1),\n",
              "  (58, 1),\n",
              "  (59, 1)]]"
            ]
          },
          "metadata": {},
          "execution_count": 44
        }
      ]
    },
    {
      "cell_type": "markdown",
      "source": [
        "## Embeddings"
      ],
      "metadata": {
        "id": "-lZ-gbxue6x3"
      }
    },
    {
      "cell_type": "code",
      "source": [
        "!python -m spacy download es_core_news_md"
      ],
      "metadata": {
        "id": "th1g_wRhtyJd",
        "colab": {
          "base_uri": "https://localhost:8080/"
        },
        "outputId": "398acbc9-c26e-481a-bde2-cad12149264d"
      },
      "execution_count": null,
      "outputs": [
        {
          "output_type": "stream",
          "name": "stdout",
          "text": [
            "/usr/local/lib/python3.9/dist-packages/torch/cuda/__init__.py:497: UserWarning: Can't initialize NVML\n",
            "  warnings.warn(\"Can't initialize NVML\")\n",
            "2023-03-22 16:58:13.250764: W tensorflow/compiler/xla/stream_executor/platform/default/dso_loader.cc:64] Could not load dynamic library 'libnvinfer.so.7'; dlerror: libnvinfer.so.7: cannot open shared object file: No such file or directory; LD_LIBRARY_PATH: /usr/local/nvidia/lib:/usr/local/nvidia/lib64\n",
            "2023-03-22 16:58:13.250982: W tensorflow/compiler/xla/stream_executor/platform/default/dso_loader.cc:64] Could not load dynamic library 'libnvinfer_plugin.so.7'; dlerror: libnvinfer_plugin.so.7: cannot open shared object file: No such file or directory; LD_LIBRARY_PATH: /usr/local/nvidia/lib:/usr/local/nvidia/lib64\n",
            "2023-03-22 16:58:13.251016: W tensorflow/compiler/tf2tensorrt/utils/py_utils.cc:38] TF-TRT Warning: Cannot dlopen some TensorRT libraries. If you would like to use Nvidia GPU with TensorRT, please make sure the missing libraries mentioned above are installed properly.\n",
            "2023-03-22 16:58:15.200418: E tensorflow/compiler/xla/stream_executor/cuda/cuda_driver.cc:267] failed call to cuInit: CUDA_ERROR_NO_DEVICE: no CUDA-capable device is detected\n",
            "Looking in indexes: https://pypi.org/simple, https://us-python.pkg.dev/colab-wheels/public/simple/\n",
            "Collecting es-core-news-md==3.5.0\n",
            "  Downloading https://github.com/explosion/spacy-models/releases/download/es_core_news_md-3.5.0/es_core_news_md-3.5.0-py3-none-any.whl (42.3 MB)\n",
            "\u001b[2K     \u001b[90m━━━━━━━━━━━━━━━━━━━━━━━━━━━━━━━━━━━━━━━━\u001b[0m \u001b[32m42.3/42.3 MB\u001b[0m \u001b[31m17.3 MB/s\u001b[0m eta \u001b[36m0:00:00\u001b[0m\n",
            "\u001b[?25hRequirement already satisfied: spacy<3.6.0,>=3.5.0 in /usr/local/lib/python3.9/dist-packages (from es-core-news-md==3.5.0) (3.5.1)\n",
            "Requirement already satisfied: jinja2 in /usr/local/lib/python3.9/dist-packages (from spacy<3.6.0,>=3.5.0->es-core-news-md==3.5.0) (3.1.2)\n",
            "Requirement already satisfied: pydantic!=1.8,!=1.8.1,<1.11.0,>=1.7.4 in /usr/local/lib/python3.9/dist-packages (from spacy<3.6.0,>=3.5.0->es-core-news-md==3.5.0) (1.10.6)\n",
            "Requirement already satisfied: murmurhash<1.1.0,>=0.28.0 in /usr/local/lib/python3.9/dist-packages (from spacy<3.6.0,>=3.5.0->es-core-news-md==3.5.0) (1.0.9)\n",
            "Requirement already satisfied: tqdm<5.0.0,>=4.38.0 in /usr/local/lib/python3.9/dist-packages (from spacy<3.6.0,>=3.5.0->es-core-news-md==3.5.0) (4.65.0)\n",
            "Requirement already satisfied: requests<3.0.0,>=2.13.0 in /usr/local/lib/python3.9/dist-packages (from spacy<3.6.0,>=3.5.0->es-core-news-md==3.5.0) (2.27.1)\n",
            "Requirement already satisfied: wasabi<1.2.0,>=0.9.1 in /usr/local/lib/python3.9/dist-packages (from spacy<3.6.0,>=3.5.0->es-core-news-md==3.5.0) (1.1.1)\n",
            "Requirement already satisfied: langcodes<4.0.0,>=3.2.0 in /usr/local/lib/python3.9/dist-packages (from spacy<3.6.0,>=3.5.0->es-core-news-md==3.5.0) (3.3.0)\n",
            "Requirement already satisfied: packaging>=20.0 in /usr/local/lib/python3.9/dist-packages (from spacy<3.6.0,>=3.5.0->es-core-news-md==3.5.0) (23.0)\n",
            "Requirement already satisfied: spacy-loggers<2.0.0,>=1.0.0 in /usr/local/lib/python3.9/dist-packages (from spacy<3.6.0,>=3.5.0->es-core-news-md==3.5.0) (1.0.4)\n",
            "Requirement already satisfied: typer<0.8.0,>=0.3.0 in /usr/local/lib/python3.9/dist-packages (from spacy<3.6.0,>=3.5.0->es-core-news-md==3.5.0) (0.7.0)\n",
            "Requirement already satisfied: pathy>=0.10.0 in /usr/local/lib/python3.9/dist-packages (from spacy<3.6.0,>=3.5.0->es-core-news-md==3.5.0) (0.10.1)\n",
            "Requirement already satisfied: numpy>=1.15.0 in /usr/local/lib/python3.9/dist-packages (from spacy<3.6.0,>=3.5.0->es-core-news-md==3.5.0) (1.22.4)\n",
            "Requirement already satisfied: spacy-legacy<3.1.0,>=3.0.11 in /usr/local/lib/python3.9/dist-packages (from spacy<3.6.0,>=3.5.0->es-core-news-md==3.5.0) (3.0.12)\n",
            "Requirement already satisfied: thinc<8.2.0,>=8.1.8 in /usr/local/lib/python3.9/dist-packages (from spacy<3.6.0,>=3.5.0->es-core-news-md==3.5.0) (8.1.9)\n",
            "Requirement already satisfied: srsly<3.0.0,>=2.4.3 in /usr/local/lib/python3.9/dist-packages (from spacy<3.6.0,>=3.5.0->es-core-news-md==3.5.0) (2.4.6)\n",
            "Requirement already satisfied: smart-open<7.0.0,>=5.2.1 in /usr/local/lib/python3.9/dist-packages (from spacy<3.6.0,>=3.5.0->es-core-news-md==3.5.0) (6.3.0)\n",
            "Requirement already satisfied: setuptools in /usr/local/lib/python3.9/dist-packages (from spacy<3.6.0,>=3.5.0->es-core-news-md==3.5.0) (67.6.0)\n",
            "Requirement already satisfied: cymem<2.1.0,>=2.0.2 in /usr/local/lib/python3.9/dist-packages (from spacy<3.6.0,>=3.5.0->es-core-news-md==3.5.0) (2.0.7)\n",
            "Requirement already satisfied: catalogue<2.1.0,>=2.0.6 in /usr/local/lib/python3.9/dist-packages (from spacy<3.6.0,>=3.5.0->es-core-news-md==3.5.0) (2.0.8)\n",
            "Requirement already satisfied: preshed<3.1.0,>=3.0.2 in /usr/local/lib/python3.9/dist-packages (from spacy<3.6.0,>=3.5.0->es-core-news-md==3.5.0) (3.0.8)\n",
            "Requirement already satisfied: typing-extensions>=4.2.0 in /usr/local/lib/python3.9/dist-packages (from pydantic!=1.8,!=1.8.1,<1.11.0,>=1.7.4->spacy<3.6.0,>=3.5.0->es-core-news-md==3.5.0) (4.5.0)\n",
            "Requirement already satisfied: idna<4,>=2.5 in /usr/local/lib/python3.9/dist-packages (from requests<3.0.0,>=2.13.0->spacy<3.6.0,>=3.5.0->es-core-news-md==3.5.0) (3.4)\n",
            "Requirement already satisfied: urllib3<1.27,>=1.21.1 in /usr/local/lib/python3.9/dist-packages (from requests<3.0.0,>=2.13.0->spacy<3.6.0,>=3.5.0->es-core-news-md==3.5.0) (1.26.15)\n",
            "Requirement already satisfied: charset-normalizer~=2.0.0 in /usr/local/lib/python3.9/dist-packages (from requests<3.0.0,>=2.13.0->spacy<3.6.0,>=3.5.0->es-core-news-md==3.5.0) (2.0.12)\n",
            "Requirement already satisfied: certifi>=2017.4.17 in /usr/local/lib/python3.9/dist-packages (from requests<3.0.0,>=2.13.0->spacy<3.6.0,>=3.5.0->es-core-news-md==3.5.0) (2022.12.7)\n",
            "Requirement already satisfied: confection<1.0.0,>=0.0.1 in /usr/local/lib/python3.9/dist-packages (from thinc<8.2.0,>=8.1.8->spacy<3.6.0,>=3.5.0->es-core-news-md==3.5.0) (0.0.4)\n",
            "Requirement already satisfied: blis<0.8.0,>=0.7.8 in /usr/local/lib/python3.9/dist-packages (from thinc<8.2.0,>=8.1.8->spacy<3.6.0,>=3.5.0->es-core-news-md==3.5.0) (0.7.9)\n",
            "Requirement already satisfied: click<9.0.0,>=7.1.1 in /usr/local/lib/python3.9/dist-packages (from typer<0.8.0,>=0.3.0->spacy<3.6.0,>=3.5.0->es-core-news-md==3.5.0) (8.1.3)\n",
            "Requirement already satisfied: MarkupSafe>=2.0 in /usr/local/lib/python3.9/dist-packages (from jinja2->spacy<3.6.0,>=3.5.0->es-core-news-md==3.5.0) (2.1.2)\n",
            "Installing collected packages: es-core-news-md\n",
            "Successfully installed es-core-news-md-3.5.0\n",
            "\u001b[38;5;2m✔ Download and installation successful\u001b[0m\n",
            "You can now load the package via spacy.load('es_core_news_md')\n"
          ]
        }
      ]
    },
    {
      "cell_type": "markdown",
      "source": [
        "Es necesario hacer restart"
      ],
      "metadata": {
        "id": "2fSi4g6UuMQd"
      }
    },
    {
      "cell_type": "code",
      "source": [
        "import spacy\n",
        "nlp = spacy.load(\"es_core_news_md\")\n",
        "embed_madrid = nlp.vocab.get_vector(\"Madrid\")"
      ],
      "metadata": {
        "id": "Tw0yNhxIs12F"
      },
      "execution_count": null,
      "outputs": []
    },
    {
      "cell_type": "code",
      "source": [
        "len(embed_madrid)"
      ],
      "metadata": {
        "id": "4ceTKbLVrOwf",
        "colab": {
          "base_uri": "https://localhost:8080/"
        },
        "outputId": "489f011b-82ac-4787-d0e2-c02c7fc92547"
      },
      "execution_count": null,
      "outputs": [
        {
          "output_type": "execute_result",
          "data": {
            "text/plain": [
              "300"
            ]
          },
          "metadata": {},
          "execution_count": 47
        }
      ]
    },
    {
      "cell_type": "code",
      "source": [
        "\n",
        "import gensim.downloader\n",
        "print(list(gensim.downloader.info()['models'].keys()))"
      ],
      "metadata": {
        "id": "MbaEspuCum0c",
        "colab": {
          "base_uri": "https://localhost:8080/"
        },
        "outputId": "636424bc-1b7d-479d-d5b3-5c047b8d0812"
      },
      "execution_count": null,
      "outputs": [
        {
          "output_type": "stream",
          "name": "stdout",
          "text": [
            "['fasttext-wiki-news-subwords-300', 'conceptnet-numberbatch-17-06-300', 'word2vec-ruscorpora-300', 'word2vec-google-news-300', 'glove-wiki-gigaword-50', 'glove-wiki-gigaword-100', 'glove-wiki-gigaword-200', 'glove-wiki-gigaword-300', 'glove-twitter-25', 'glove-twitter-50', 'glove-twitter-100', 'glove-twitter-200', '__testing_word2vec-matrix-synopsis']\n"
          ]
        }
      ]
    },
    {
      "cell_type": "code",
      "source": [
        "import gensim.downloader as api\n",
        "model = api.load(\"glove-wiki-gigaword-50\")\n",
        "model.most_similar('twitter')"
      ],
      "metadata": {
        "id": "T4PaKw3wts23",
        "colab": {
          "base_uri": "https://localhost:8080/"
        },
        "outputId": "ea57c748-191e-44d2-97be-7541f59d8b0b"
      },
      "execution_count": null,
      "outputs": [
        {
          "output_type": "stream",
          "name": "stdout",
          "text": [
            "[==================================================] 100.0% 66.0/66.0MB downloaded\n"
          ]
        },
        {
          "output_type": "execute_result",
          "data": {
            "text/plain": [
              "[('facebook', 0.9333045482635498),\n",
              " ('myspace', 0.8801369667053223),\n",
              " ('youtube', 0.8430657982826233),\n",
              " ('blog', 0.8262057304382324),\n",
              " ('blogs', 0.8064824342727661),\n",
              " ('blogging', 0.7970671057701111),\n",
              " ('tumblr', 0.7901089787483215),\n",
              " ('email', 0.778261125087738),\n",
              " ('tweets', 0.7604537010192871),\n",
              " ('e-mail', 0.7538726925849915)]"
            ]
          },
          "metadata": {},
          "execution_count": 49
        }
      ]
    },
    {
      "cell_type": "code",
      "source": [
        "model.most_similar('boy')"
      ],
      "metadata": {
        "id": "X98ZEsVXuWgr",
        "colab": {
          "base_uri": "https://localhost:8080/"
        },
        "outputId": "3cb25cd7-f6e2-4171-c53f-033e25ad8554"
      },
      "execution_count": null,
      "outputs": [
        {
          "output_type": "execute_result",
          "data": {
            "text/plain": [
              "[('girl', 0.932719886302948),\n",
              " ('woman', 0.8596121072769165),\n",
              " ('man', 0.8564430475234985),\n",
              " ('kid', 0.8192578554153442),\n",
              " ('mother', 0.8179757595062256),\n",
              " ('teenage', 0.802985668182373),\n",
              " ('baby', 0.8001461029052734),\n",
              " ('dad', 0.7850530743598938),\n",
              " ('her', 0.783680260181427),\n",
              " ('old', 0.7815377712249756)]"
            ]
          },
          "metadata": {},
          "execution_count": 50
        }
      ]
    },
    {
      "cell_type": "code",
      "source": [
        "model.most_similar(positive=[\"king\",\"woman\"],negative=[\"man\"])"
      ],
      "metadata": {
        "id": "aJvRfSobQjWl",
        "colab": {
          "base_uri": "https://localhost:8080/"
        },
        "outputId": "11fa375f-0fd9-456c-8edb-ffd9d1eac7fa"
      },
      "execution_count": null,
      "outputs": [
        {
          "output_type": "execute_result",
          "data": {
            "text/plain": [
              "[('queen', 0.8523604273796082),\n",
              " ('throne', 0.7664334177970886),\n",
              " ('prince', 0.7592144012451172),\n",
              " ('daughter', 0.7473883628845215),\n",
              " ('elizabeth', 0.7460219860076904),\n",
              " ('princess', 0.7424570322036743),\n",
              " ('kingdom', 0.7337412238121033),\n",
              " ('monarch', 0.721449077129364),\n",
              " ('eldest', 0.7184861898422241),\n",
              " ('widow', 0.7099431157112122)]"
            ]
          },
          "metadata": {},
          "execution_count": 51
        }
      ]
    },
    {
      "cell_type": "code",
      "source": [
        "import gensim.downloader as api\n",
        "\n",
        "model_glove_twitter = api.load(\"glove-twitter-25\")\n"
      ],
      "metadata": {
        "id": "hynhvQgTvUPh",
        "colab": {
          "base_uri": "https://localhost:8080/"
        },
        "outputId": "f1f3ec28-c0f6-4456-e6cd-90046759b958"
      },
      "execution_count": null,
      "outputs": [
        {
          "output_type": "stream",
          "name": "stdout",
          "text": [
            "[=================================================-] 99.4% 104.2/104.8MB downloaded\n"
          ]
        }
      ]
    },
    {
      "cell_type": "code",
      "source": [
        "model_glove_twitter.most_similar(\"spain\",topn=10)\n"
      ],
      "metadata": {
        "id": "J4X6Djv0Soco",
        "colab": {
          "base_uri": "https://localhost:8080/"
        },
        "outputId": "18a9198c-413b-45c4-9b94-2dbac00b5a50"
      },
      "execution_count": null,
      "outputs": [
        {
          "output_type": "execute_result",
          "data": {
            "text/plain": [
              "[('australia', 0.9237664341926575),\n",
              " ('united', 0.9107807874679565),\n",
              " ('england', 0.9033312797546387),\n",
              " ('manchester', 0.8976269364356995),\n",
              " ('cardiff', 0.8962202072143555),\n",
              " ('canada', 0.8941836357116699),\n",
              " ('newcastle', 0.8902029991149902),\n",
              " ('city', 0.887923538684845),\n",
              " ('germany', 0.8877134919166565),\n",
              " ('ireland', 0.8812164068222046)]"
            ]
          },
          "metadata": {},
          "execution_count": 53
        }
      ]
    },
    {
      "cell_type": "code",
      "source": [
        "#what doesn't fit?\n",
        "model_glove_twitter.doesnt_match([\"trump\",\"bernie\",\"obama\",\"pelosi\",\"orange\"])"
      ],
      "metadata": {
        "id": "gmVEVmSLRqOL",
        "colab": {
          "base_uri": "https://localhost:8080/",
          "height": 35
        },
        "outputId": "6344ed29-0b9b-4f4a-f015-efa11e8c37ed"
      },
      "execution_count": null,
      "outputs": [
        {
          "output_type": "execute_result",
          "data": {
            "text/plain": [
              "'orange'"
            ],
            "application/vnd.google.colaboratory.intrinsic+json": {
              "type": "string"
            }
          },
          "metadata": {},
          "execution_count": 54
        }
      ]
    },
    {
      "cell_type": "code",
      "source": [
        "model_glove_twitter.most_similar(\"deporte\",topn=10)\n"
      ],
      "metadata": {
        "id": "fAvtikztSjvN",
        "colab": {
          "base_uri": "https://localhost:8080/"
        },
        "outputId": "c47b2883-2430-4562-b4f2-235b70ff9146"
      },
      "execution_count": null,
      "outputs": [
        {
          "output_type": "execute_result",
          "data": {
            "text/plain": [
              "[('fútbol', 0.8974477052688599),\n",
              " ('clásico', 0.8759745359420776),\n",
              " ('femenino', 0.8744509816169739),\n",
              " ('equipo', 0.8658016324043274),\n",
              " ('espectáculo', 0.8649243116378784),\n",
              " ('baloncesto', 0.8360757827758789),\n",
              " ('clave', 0.8343752026557922),\n",
              " ('proyecto', 0.8330948352813721),\n",
              " ('periodismo', 0.831794023513794),\n",
              " ('juego', 0.8314617872238159)]"
            ]
          },
          "metadata": {},
          "execution_count": 55
        }
      ]
    },
    {
      "cell_type": "markdown",
      "source": [
        "# N-grams"
      ],
      "metadata": {
        "id": "sQljTHw3jmhH"
      }
    },
    {
      "cell_type": "code",
      "source": [
        "from sklearn.feature_extraction.text import CountVectorizer\n",
        "from nltk.tokenize import word_tokenize\n",
        "\n",
        "corpus = [\n",
        "     'La vida es una lenteja',\n",
        "     'o la tomas o la dejas',\n",
        "     'otra serie de ejemplos con bigramas',\n",
        "]\n",
        "bigrams = CountVectorizer(ngram_range=(2,2))\n",
        "result = bigrams.fit_transform(corpus)"
      ],
      "metadata": {
        "id": "1dqdex_lTbNw"
      },
      "execution_count": null,
      "outputs": []
    },
    {
      "cell_type": "code",
      "source": [
        "bigrams.get_feature_names_out()"
      ],
      "metadata": {
        "id": "ICI-fYJDjvP1",
        "colab": {
          "base_uri": "https://localhost:8080/"
        },
        "outputId": "94d5a5e2-c77d-4a7e-9ef7-b03bc9802986"
      },
      "execution_count": null,
      "outputs": [
        {
          "output_type": "execute_result",
          "data": {
            "text/plain": [
              "array(['con bigramas', 'de ejemplos', 'ejemplos con', 'es una',\n",
              "       'la dejas', 'la tomas', 'la vida', 'otra serie', 'serie de',\n",
              "       'tomas la', 'una lenteja', 'vida es'], dtype=object)"
            ]
          },
          "metadata": {},
          "execution_count": 63
        }
      ]
    },
    {
      "cell_type": "code",
      "source": [
        "trigrams = CountVectorizer(ngram_range=(1,3))\n",
        "result = trigrams.fit_transform(corpus)\n",
        "trigrams.get_feature_names_out()"
      ],
      "metadata": {
        "id": "LIZx5mnYkVbP",
        "colab": {
          "base_uri": "https://localhost:8080/"
        },
        "outputId": "9c8651fe-5870-4d7f-ed97-cc423764caf9"
      },
      "execution_count": null,
      "outputs": [
        {
          "output_type": "execute_result",
          "data": {
            "text/plain": [
              "array(['bigramas', 'con', 'con bigramas', 'de', 'de ejemplos',\n",
              "       'de ejemplos con', 'dejas', 'ejemplos', 'ejemplos con',\n",
              "       'ejemplos con bigramas', 'es', 'es una', 'es una lenteja', 'la',\n",
              "       'la dejas', 'la tomas', 'la tomas la', 'la vida', 'la vida es',\n",
              "       'lenteja', 'otra', 'otra serie', 'otra serie de', 'serie',\n",
              "       'serie de', 'serie de ejemplos', 'tomas', 'tomas la',\n",
              "       'tomas la dejas', 'una', 'una lenteja', 'vida', 'vida es',\n",
              "       'vida es una'], dtype=object)"
            ]
          },
          "metadata": {},
          "execution_count": 64
        }
      ]
    },
    {
      "cell_type": "code",
      "source": [],
      "metadata": {
        "id": "DHi1M6-SlOTf"
      },
      "execution_count": null,
      "outputs": []
    }
  ]
}