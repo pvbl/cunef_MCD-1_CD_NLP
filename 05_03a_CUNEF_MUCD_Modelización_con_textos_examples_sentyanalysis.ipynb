{
  "cells": [
    {
      "cell_type": "markdown",
      "metadata": {
        "id": "syya-LOKuE-P"
      },
      "source": [
        "Se recomienda que este código se ejecute con un Kernel de una GPU."
      ]
    },
    {
      "cell_type": "code",
      "execution_count": null,
      "metadata": {
        "colab": {
          "base_uri": "https://localhost:8080/",
          "height": 35
        },
        "id": "bjsQaafftxyG",
        "outputId": "1917ede5-51fa-4f12-eb4d-8358315f288d"
      },
      "outputs": [
        {
          "data": {
            "application/vnd.google.colaboratory.intrinsic+json": {
              "type": "string"
            },
            "text/plain": [
              "'2.8.0'"
            ]
          },
          "execution_count": 1,
          "metadata": {},
          "output_type": "execute_result"
        }
      ],
      "source": [
        "import tensorflow as tf\n",
        "import tensorflow_datasets as tfds\n",
        "import numpy as np\n",
        "\n",
        "tf.__version__"
      ]
    },
    {
      "cell_type": "code",
      "execution_count": null,
      "metadata": {
        "colab": {
          "base_uri": "https://localhost:8080/"
        },
        "id": "ZTgvM_sGuSIp",
        "outputId": "f36bf329-431c-4383-9a8c-2702be0e0d5a"
      },
      "outputs": [
        {
          "name": "stderr",
          "output_type": "stream",
          "text": [
            "WARNING:absl:TFDS datasets with text encoding are deprecated and will be removed in a future version. Instead, you should use the plain text version and tokenize the text using `tensorflow_text` (See: https://www.tensorflow.org/tutorials/tensorflow_text/intro#tfdata_example)\n"
          ]
        }
      ],
      "source": [
        "dataset, info = tfds.load('imdb_reviews/subwords8k', with_info=True,\n",
        "                          as_supervised=True)\n",
        "train_dataset, test_dataset = dataset['train'], dataset['test']"
      ]
    },
    {
      "cell_type": "markdown",
      "metadata": {
        "id": "UrPfD5OxudYg"
      },
      "source": [
        "Usamos un text limpiado y convertido a vocabulario. IMDB reviews subwords8k. El dataset ya está tokenizados a un embedding de 8000 palabras."
      ]
    },
    {
      "cell_type": "markdown",
      "metadata": {
        "id": "F3LP4uaou5G3"
      },
      "source": [
        "# Encoding"
      ]
    },
    {
      "cell_type": "code",
      "execution_count": null,
      "metadata": {
        "colab": {
          "base_uri": "https://localhost:8080/"
        },
        "id": "nhJLASGIuUrT",
        "outputId": "e7be0049-3d29-4482-9c31-9c381f499b26"
      },
      "outputs": [
        {
          "data": {
            "text/plain": [
              "8185"
            ]
          },
          "execution_count": 3,
          "metadata": {},
          "output_type": "execute_result"
        }
      ],
      "source": [
        "encoder = info.features['text'].encoder\n",
        "encoder.vocab_size"
      ]
    },
    {
      "cell_type": "code",
      "execution_count": null,
      "metadata": {
        "colab": {
          "base_uri": "https://localhost:8080/"
        },
        "id": "OW5s667Bu7Ba",
        "outputId": "c615c189-1dad-4dfb-ffb9-c8f8e61de812"
      },
      "outputs": [
        {
          "data": {
            "text/plain": [
              "[4025, 222, 113, 29, 37, 1076, 7975]"
            ]
          },
          "execution_count": 4,
          "metadata": {},
          "output_type": "execute_result"
        }
      ],
      "source": [
        "encoded = encoder.encode(\"Hello how are you today.\")\n",
        "encoded"
      ]
    },
    {
      "cell_type": "code",
      "execution_count": null,
      "metadata": {
        "colab": {
          "base_uri": "https://localhost:8080/"
        },
        "id": "2vLzo3KOu_Jx",
        "outputId": "e70c43ca-9557-4c23-be78-8bf977790caf"
      },
      "outputs": [
        {
          "data": {
            "text/plain": [
              "['4025 ---> Hell',\n",
              " '222 ---> o ',\n",
              " '113 ---> how ',\n",
              " '29 ---> are ',\n",
              " '37 ---> you ',\n",
              " '1076 ---> today',\n",
              " '7975 ---> .']"
            ]
          },
          "execution_count": 5,
          "metadata": {},
          "output_type": "execute_result"
        }
      ],
      "source": [
        "[' ---> '.join([str(index),encoder.decode([index])]) for index in encoded]"
      ]
    },
    {
      "cell_type": "markdown",
      "metadata": {
        "id": "8KtbSqePvW9f"
      },
      "source": [
        "# Batching\n"
      ]
    },
    {
      "cell_type": "code",
      "execution_count": null,
      "metadata": {
        "id": "ZmCzM3imvOlp"
      },
      "outputs": [],
      "source": [
        "BUFFER_SIZE = 100000\n",
        "BATCH_SIZE = 64"
      ]
    },
    {
      "cell_type": "markdown",
      "metadata": {
        "id": "x-xdrP1JveXp"
      },
      "source": [
        "-*BUFFER_SIZE* : representa el número de observaciones individuales que queremos mezclar (shuffle). Para un correcto shuffle lo mejor es que sea mayor que el número de datos de los que partimos.\n",
        "\n",
        "-*BATCH_SIZE*: Número de observaciones que se van a utilizar para entrenar el modelo en lotes.\n",
        "\n",
        "A continuación mezclamos aleatoriamente el training dataset"
      ]
    },
    {
      "cell_type": "code",
      "execution_count": null,
      "metadata": {
        "id": "8lsSTM7KvhVU"
      },
      "outputs": [],
      "source": [
        "train_dataset = train_dataset.shuffle(BUFFER_SIZE)\n",
        "test_dataset = test_dataset.shuffle(BUFFER_SIZE)"
      ]
    },
    {
      "cell_type": "markdown",
      "metadata": {
        "id": "YkEPIsIVqZ4R"
      },
      "source": [
        "Cogemos una muestra"
      ]
    },
    {
      "cell_type": "code",
      "execution_count": null,
      "metadata": {
        "id": "9RZc3iZuvhm6"
      },
      "outputs": [],
      "source": [
        "train_dataset = train_dataset.take(10000)\n",
        "test_dataset = test_dataset.take(3000)"
      ]
    },
    {
      "cell_type": "code",
      "execution_count": null,
      "metadata": {
        "colab": {
          "base_uri": "https://localhost:8080/"
        },
        "id": "laHq0fXZxd8M",
        "outputId": "2e112cf3-1667-4d73-8146-45016cc01b87"
      },
      "outputs": [
        {
          "data": {
            "text/plain": [
              "<TakeDataset element_spec=(TensorSpec(shape=(None,), dtype=tf.int64, name=None), TensorSpec(shape=(), dtype=tf.int64, name=None))>"
            ]
          },
          "execution_count": 9,
          "metadata": {},
          "output_type": "execute_result"
        }
      ],
      "source": [
        "\n",
        "train_dataset"
      ]
    },
    {
      "cell_type": "code",
      "execution_count": null,
      "metadata": {
        "colab": {
          "base_uri": "https://localhost:8080/"
        },
        "id": "LSpAeBC7xqf3",
        "outputId": "f7cc80d8-01ac-4cb9-a356-69e56b5e2f3c"
      },
      "outputs": [
        {
          "data": {
            "text/plain": [
              "<TakeDataset element_spec=(TensorSpec(shape=(None,), dtype=tf.int64, name=None), TensorSpec(shape=(), dtype=tf.int64, name=None))>"
            ]
          },
          "execution_count": 10,
          "metadata": {},
          "output_type": "execute_result"
        }
      ],
      "source": [
        "test_dataset"
      ]
    },
    {
      "cell_type": "code",
      "execution_count": null,
      "metadata": {
        "id": "BsLc_wl2vknd"
      },
      "outputs": [],
      "source": [
        "train_dataset = train_dataset.padded_batch(BATCH_SIZE)\n",
        "test_dataset = test_dataset.padded_batch(BATCH_SIZE)"
      ]
    },
    {
      "cell_type": "code",
      "execution_count": null,
      "metadata": {
        "colab": {
          "base_uri": "https://localhost:8080/"
        },
        "id": "rkVMFaAOxXw9",
        "outputId": "fe149163-1d53-46d7-b978-3c4eb0c4e16b"
      },
      "outputs": [
        {
          "data": {
            "text/plain": [
              "<PaddedBatchDataset element_spec=(TensorSpec(shape=(None, None), dtype=tf.int64, name=None), TensorSpec(shape=(None,), dtype=tf.int64, name=None))>"
            ]
          },
          "execution_count": 12,
          "metadata": {},
          "output_type": "execute_result"
        }
      ],
      "source": [
        "\n",
        "train_dataset"
      ]
    },
    {
      "cell_type": "code",
      "execution_count": null,
      "metadata": {
        "id": "JkL4t9U4xT1P"
      },
      "outputs": [],
      "source": [
        "# Our vectorized labels\n",
        "#y_train = np.asarray(train_labels).astype('float32').reshape((-1,1))\n",
        "#y_test = np.asarray(test_labels).astype('float32').reshape((-1,1))"
      ]
    },
    {
      "cell_type": "markdown",
      "metadata": {
        "id": "485p-CkYvrxb"
      },
      "source": [
        "El tamaño del batch es un hiperparámetros con el que se puede jugar para mejorar las predicciones. Generalmente va de valores de 32 a 256."
      ]
    },
    {
      "cell_type": "markdown",
      "metadata": {
        "id": "6HoG18V8wd7a"
      },
      "source": [
        "#  Compilar y entrenar el modelo\n",
        "A continuación, usaremos una bidirectional LSTM, de manera que contectan 2 capas en ambas direcciones. A continuación mostramos la diferencia entre una única y una capa bidireccional. Esto permite  a nuestra RNN aprender hacia adelante y hacia atrás en una oración.\n",
        "\n",
        "![image.png](data:image/png;base64,iVBORw0KGgoAAAANSUhEUgAAAjgAAALdCAIAAACuno6QAAAgAElEQVR4nOzdeXhc1X0w/jNz7507+6pttEuWtcvyIm/gEGwgdoBAliY2CaRp07cU+rxt07cNeUnyK++TpQnv+2vS/N40kDxpKSEBSpuwgyEYgsHYsmzL1upFsvbRMvt6t5n7++OaQZtlSZ6554z0/Tzz8NhCc8+Zr8/3fM9dRyPLMgIAAABIpcXdAQAAAGApUKgAAAAQDQoVAAAAokGhAgAAQDQoVAAAAIgGhQoAAADRoFABAAAgGhQqAAAARINCBQAAgGhQqAAAABANChUAAACiQaECAABANChUAAAAiAaFCgAAANGgUAEAACAaFCoAAABEg0IFAACAaFCoAAAAEA0KFQAAAKJBoQIAAEA0KFQAAACIBoUKAAAA0aBQAQAAIBoUKgAAAESDQgVIMTg4qNFonE4n7o6QDqIE1hsoVCDrXn311UcffdTn8y39axMTEwihQCCQ/onP53v00UdfffXV7PZveYjqzOwoAbDmQaECVzz66KMajebRRx9d9P8+/vjjGo3m0KFDq9jyHXfc8dBDD/3yl79c6Rt/+ctfPvTQQ3fccccqGs04ojpzTU6nUzPX9u3bF10uKL/pdDrPnj27cDuHDh3SaDTvvfde+idnz55Nb3DRxYeywcx+HLDOQaECyxIKhRBCwWBwFe/dsGEDQqi5uXmlbywvL0cItbW1raLRVVMK9uOPP05CZ1ZN2eVqa2vbv3///v37N2zY0NHR8dBDDx04cGBedVF+MxAI/Nmf/dnC7Sz8F49EIsofOjo6/umf/ulqTQOQQVCoQNZdunRJluXbb799pW88dOiQLMsnT57MRq+WphRmQjqzaj/60Y9ef/31119//dKlS0ePHnU4HB0dHd/+9rcX/qbyv5555pllbtnhcCCEvv/97w8ODmayxwAsBgoVAOvCnj17HnjgAYTQG2+8sfD/fuMb30AIPfjgg9c8lajYsWPH/v37lbdktJsALAIKFVil9957TzmnpVxlUFNTo5zqWHgi5MCBAxqNZt4pkMHBwQcffFA5n1FTU7PwUFu6idknxtKNDg4OKpudfXJldk+WOCvj8/kefPDB2b/2+OOPK+/VaDQPPfQQQuihhx5S/m9NTc3VOqN45plnlJ4oDh06tPCCC+UXlI0oZ300Gs2BAwdmn/tJh+Wb3/zmvI9w1X+DFbLZbAghv9+/8H99/etf37BhQyAQWP6pxH/5l39BCB0+fHjhpwAgw2QAZFmW5R/+8IcIoR/+8IdL/N/9+/enf3L06FGE0MGDB5VTUG1tbenzN7N/TZZlZel99OjR9E86OzuVY0cOh0M5g4Jmnf6Z18TCRh9++GHl7cp7lS17vV5lC8o2lUaVzXq93qs1nW706NGjTz/9dLozGzZsUDbywAMPXK0zsiwr+yjow7NBynsRQul3zY7Aww8/nG5X6cO8sLzyyivKD5XW0317+OGHZ29tOZm7cOPp3h48eHDRraVbHxgYWOLfbnYclE+0YcOGlXYPgBWB8QSuWF2hUmbe9ESWnuw6OzvTv7lwslN+cvDgwXQJUba/zEKlNDq7CXlWMUj/JF26Zn8o5ScPPPBAuumBgYGHH344vbWrxWFhZ5TfnP3xZVl+7LHHlB6+8sor8/o2u12v15sOwuz37t+/f/bWnn766YXFYxWFamBgIN3beXGbvbWFXVq6UHm9XqXiPvbYYyvqHgArAuMJXLG6QrVw4ltYG+ZNdp2dnQsnX3nWFD+viUUL1bx9BWWbbW1t87o9bwvKrzkcjtn7WMuMw8LOKHP0008/Pe83F+64KBGYt5uVLupX64lC2Uub/XmXX6jm2b9//7x/rHlbS//TpJtbulDJH/6rzQ4pFCqQcXCOClyXHTt2tLa2zv7J5z//+aXfcvz4cYTQ/v37q6urZ/+8qalpmY3u379/z549C7c5MDBwYK6vfe1rCKHDhw8rv6b8YceOHS6Xa5ltXc17772nXIe98KzVF7/4RYTQs88+u+jP05Z5GWT6JNkqzD4g6XA4vvKVr8z7x5qntbVVqbJK3Jbj/vvvV05uLXqpOgAZQePuAFh3Fl75naltBgKBdE2abd7NT/v27ctUu9m4reqZZ57p6uo6deqU8tf29vZVb+pHP/qRUtGfeeaZe+6555577rFarUsXyO985zvPPPOMcqn6Mu/vfuKJJz72sY99//vf/+pXvzpv8QFARsAeFZgjG1VENfOudEjLlZufzp49W1NTc88993z/+98//KGM3D976NAh5ZDmX/3VXy39my6XS7lU/Vvf+tYyL1Xfs2fP7KtFAMg4KFRgjkVvskEfFrC1sV4+cuRIpjbV0dGx8IfhcBh9eEvsinzuc58bGBg4ePDgwgtPrt9Xv/pVhNDAwMA1H1eoXKo+MDCw0kvVn332WbhUHWQDFCpwhTIhdnR0LHzmm8/n+9nPfoYQuummm66/oRtuuAEhdPjw4XkL9p6enlVvU+n84cOHl35QgvIYp/b29mXuKyyhoaFB+cPCef/ll19Gi527uqaBgQGE0E9/+tN5Z+AywuVyKeefnnzyyWv+8k9+8hOE0A9+8INlBqq6ulrZnfrud797fd0EYBFQqMAVra2tynS/d+/e2eti5dbaQCDQ1ta2uofSzrNnzx7l9P7sZ/k8+uijf/EXf7Hqbba2tiqniw4ePDi7Vg0ODs5+5Pntt9+unPn/9re/nZ6ClVt95+0KPPfcc0u3mJ7377333tml/fHHH1eK+v3337+6z/Lmm2/O7tiiZ91WJ32VxzWfe3T77bfv378/EAgsusu4qL/92791OBwZ7C0AH1Hr8kKQA9I3HqEF95y2tbXNu7J50Rtg5cUu7154ifO8O1uVo2Tpm2eXaOJqjcqz7uRFH17tlu787Lt80k3Puy84/TvKbk26b+m7WRc2PTtc8274nXfN+sIIKOZ93vQ5HmVrysdRmljd5ekLW1R6OPtus6ttLX2pOlry8vTZ0jcYwMQCMgvGE5hPue00PePs37//scceW3jj0UoL1cI6d/DgwfS8rNwe63A4HA7HvCZm35C08Cezeb3ehx9+eHatPXjw4ML7nDo7Ow8ePJiuags/4CuvvJIuOekPsmjTXq/3hz/8YbpFh8PxwAMPLLxXaZmFSoleuumDBw++8soryuw/r1DNjtKilC3Mu1NN/rCWzL7hbImtpQvP7E+09D+B8m96ze4BsCIa+Sr3BgIAAAAkgHNUAAAAiAaFCgAAANGgUAEAACAaFCoAAABEg0IFAACAaFCoAAAAEA0KFQAAAKJBoQIAAEA0KFQAAACIBoUKAAAA0aBQAQAAIBoUKgAAAESDQgUAAIBoUKgAAAAQDQoVAAAAokGhAgAAQDQoVAAAAIgGhQoAAADRoFABAAAgGhQqAAAARINCBQAAgGhQqAAAABANChUAAACiQaECAABANChUAAAAiAaFCgAAANGgUAEAACAaFCoAAABEg0IFAACAaFCoAAAAEA0KFQAAAKJBoQIAAEA0KFQAAACIBoUKAAAA0WjcHVDb1NTU5ORkPB6PxWIcx/E8z/M8y7IsyxoMBqPRaDKZCgsLCwsLcfcUEEEQhImJCZ/PF4vFEokEx3EcxyGE9Hq9Xq83GAwWi8XhcBQXF+t0OtydBWBt0siyjLsPWZdMJsfHx0dHRz0eD8MwFouFoiiaphmGUf4riqIkSZIkiaIoimI8HhcEobi4uLS0tKSkhKIo3J9AVZIkjY+Pp6dmZXZGc6dmp9NZUlJC02t2oRONRsfHx0dGRrxer91uZ1k2PVqUT62MFuW/giAEAoG8vLyKiori4mKz2Yy7+1kESz0FpIma1n6h6u7u7u3tNZlMRqPRYrEsc9krCEIkEkkkErFYrKmpqbGxMdv9xI7juPHx8eHh4cnJSbvdbjQaZ5dzNHdq5nk+EAgUFRVVVFSUlJTo9Xrc3c+YaDTa3d19+fJlp9NpMpksFotGo7nmu2RZjkQikUgkGAxWVla2tLSspXIFS700SBMs1nKhOn/+fE9Pj8FgcLlcqx4iHMd5vV6O45qbm2trazPbQ0LwPN/V1TUwMKAknsVi0WqvffIylUpFIpFoNBoOh2tqapqbm1mWVaG32SOKYnd3d39/f0FBgcvlWk4QFkqlUjMzM16vt76+vrm5mWGYjPdTZde/1GtsbGxqasp2P7MN0gSjtVmovF7vBx98oNVqnU6n0Wi8/g3G43G/359KpXbv3p2Xl3f9GyRHd3d3T0+P0+nMy8tb3co3mUxOT08Hg8GWlpbc3fUcHh5ub2+3Wq0ul+v6q4soil6vNxwO79y5s6KiIiM9VF9ml3otLS0bN27MbA9VA2mC1xosVAMDA+3t7aWlpVarNbNbDgaDExMTu3btqqqqyuyWsfB4PO3t7TqdzuVyXf8qj+d5r9crCMLOnTvdbndGeqiarq6uCxcuuN1uk8mUwc3GYjGPx1NbW9vS0pLBzaoAlnppkCYkWGuFqrOzc3Bw0O12ZyS7ForH4x6Pp7q6evPmzdnYvmouXrx4+vTpkpISi8WSwc1GIpHx8fFt27bV1NRkcLNZ9f777/t8vuLi4mwcphNFcWJiwuVy3XjjjRnfeJbAUi/twoULZ86cgTTBbk0Vqvfffz8YDBYVFWX15G0ymZycnHQ4HDfccEP2Wsmqzs7Oy5cvFxcXZ+PsLsdxExMTVVVVOVHL33zzzWQyWVRUlNVWPB4PTdO33XZbVlvJCFjqpUGakGPtFKrOzs7x8fGSkhJ1mhsbGystLc3FQaZCOU8mkx6Px+FwEL4bcezYsXA4nO0qpfB4PFarlfCAwFIv7dixY8oFe9lOE6fTSXIcCEE98sgjuPuQARcuXLhw4UJxcfFyriTOCJPJNDQ0xDCM0+lUp8WM6OzsnJmZKSkpWd0lbcuk1WqtVuv09HQ8HlenDKxCV1eXx+MpLi5Wpzmz2ezxeERRJPYGI3XGBvpweExNTRE7PDo7O6enp9VJE5LjQI61UKg8Hs+JEydKSkrUfDSAVqs1GAx9fX0ulyuzx6+zZ2BgoL+/v6SkRJ1ybjKZLl++bDAYHA6HCs2tyPDwcFdXV3FxsZq3+BiNxsuXL5tMJrvdrlqjywRLvTRIEwKthWf9nThxoqioiGVZWV0sy7rd7hMnTuAOwLJ4vV4lUKpNzRRFud3u48ePe71edVpcJlEUT5w4UVhYSNO0mgOGpunCwsL29nZRFHHHYA6Px3PmzBk1xwb6cHh0dHR4PB7VGr0mSBMy5fweVXd3dzwex7UoY1lWuQm/oKAASweW76233srPz8/s5dfXpNyxPzg4WFdXp2a7Szt37pwkSVh2axiGkSQpFosRdWmyMjaydPXEEmia1ul0ly5dqq+vV7npq4E0IVNu71HxPN/T02Oz2TD2wel0dnd38zyPsQ/XdP78ea1Wi+UQpfKvc+HCBfWbXlQ0Gu3v78d4mMXhcJw/fz4ajeLqwDzd3d16vR7X4WuLxcIwTHd3N5bW54E0IVZuF6quri6bzabT6dQ8gDOPTqez2Wxnz57FHYyl9PT0YDwvotRyXK3P09XVlZeXp/JBv9lomnY6nV1dXbgjgRAs9eaCNCFWDhcqjuMGBgZIOBPrcrkGBweVZycTSFkyGwwGXB0wGAx6vb6npwdXB9Ki0ejQ0BD2axmcTufQ0BAJO1Ww1EuDNCFZDheq8fFx5SnOuDuCKIqyWCzj4+O4O7KIZDLZ19dnt9sxzkSyLNvt9p6enmQyiTcaExMTdrs925dfX5NWq7XZbBMTE3i7AUu9NEgTwuVwoVKu6cQ7sNKMRuPg4CDukCxifHzcaDRif2Azy7J6vR57LR8aGiJkzCiXquONBiz10iBNCJerhUqSpOnpaZUvzlmCyWSamZmRJAl3R+YbHR1V/8L9RRmNxrGxMYyhEATB5/MRMmZMJpPP5xMEAWMfYKmXBmlCuFwtVOPj4zabTaPR4B5XV2g0GrPZTOBSyOPxkDM1443PxMSEckEX7sEiy7KMEDKbzRiP/sFSbzZIE8LlaqHy+XykfSWdXq/3+Xy4ezHH1NSU8sWjuKdlWZZl5aaZqakpXNHw+XxqPrvkmvAOGFjqpUGakI/G3YFVisViFEXJJD1Rl6KoSCSCuxdzTE1NYbyKaSGWZScnJ3E97I60MUNRFMYL/4hd6qn/PZOQJuTL4UJF1NhCCNE0HY/Hcfdijmg0iv0Kt9lomsY4NcfjcaLGDN4BQ1rZRviWepAm5MvVQsVxnMlkIirNtFotCTctzhaPx4majCiKwjg18zxvNpuJigbGC7JhqZcGaUK+XC1UPM/TNFmdp2matEKVSCSw39w6G96lIsdxJFyKnUZRFMar/mCplwZpQj6y5voVUe37CHIXz/NarZacyQj7TieMmTRY6qVBmpCPoCOzK8KyLGk3LUmShP2GwXkEQSBqMqJpGuM+hF6vJ2rMJJNJvFchQtlWQJqQj6B/nhUxGAyiKBI1vCRJ0uv1uHsxh06nSyaT5BzvkiQJ49SsLG7IGTOiKGI8S6REg6gL/3At9SBNyEdK0q6UyWQi7SGwyWSStEKlTEbkXNGEd6dTWdzgan2hZDKJPRrklG2Eb6kHaUI+Uv5tVspoNBJ1GAchJEkSad9JT+DBLoy13GQyEfW4T0mSzGYzrtZJiwbCNzwgTchH0HpqRVwu19jYGDnnPxFCoijm5eXh7sUcFouFqHuQ8U7NeXl5ExMT5IwZSZLy8/NxtW40Gkm7tEySJCxfaAlpQr5c3aMqKSmJRqOpVAp3R65IpVKRSKSkpAR3R+YwGo2iKOJ5FMxi8J7GKy4ujsViMhmFSpblcDhcXFyMqwMul0sQBNwjYg5cSz1IE/LlaqGiabqgoICc2+Li8XhBQQFRR/wRQoWFhURdPsTzPMZartPpXC4XIWMmHo/n5eVhPGcOS700SBPy5WqhQghVVVVxHId79XMFx3Hl5eW4QzJfYWGhKIqEHH+XJEmSJLxPMKusrOR5HvdgkWUCBgws9dIgTciXw4WqpKQkHo+TsCRMpVLxeJzAQoUQKi0tVY53YReLxYqKivBGo7i4OBwOy7iP/smyHIlESktL8XYDlnppkCaEy+FCpdfrq6urg8Eg7o6gUChUVVVF5mHlkpISQu5yF0VR/Qdjz2M2m6uqqkKhEN5uBIPBiooK7CfMYamXBmlCuBwuVAihTZs2RaNRvOeEBUGIRCKtra24g7E4JQOxH4IXBCGRSJBw5L25uTkUCmE8eS6KYjgc3rRpE+5IwFLvI5AmhMvtQsWybHNzM95LSyORSHNzM7E36FEU1djYGIlEcM3Likgk0tjYSMLN/2azua6uLhwO4+pANBqtqanBvjulgKWeAtKEcLldqBBCzc3NyWQS1znheDwuSVJzczOW1pepublZEASMRzaUtSo5UWppaeE4DsuTTTiOi8VimzdvVr/pRcFSLw3ShGQ5X6gQQjt37vT5fOpfzcXzvM/n27VrF+4AXFtLSwvGySgSiTQ1NeFqfSGGYXbs2BEIBCRJUnPASJIUCATa2tqIesIeLPXSIE2ItRYKldvtbmtrCwQCap4WTqVSgUBgy5YtbrdbtUZXrba2VqvVYnkSQTQa1Wg09fX16je9hIqKitra2kAgoGajfr+/pqamurpazUaXA5Z6CkgTYq2FQoUQUvJfzdPCgUCgsrKyrq5OtRav0+7du/1+v8qXI3Mc5/f7b7jhBtyffhGbNm3Kz89XrVYFAoG8vDxyDvrNBku9NEgTMlGPPPII7j5khtvt9nq9fr9fp9Nl9Yt2UqmU3+/Py8sjZyW4HEaj0Ww2Dw4OGo1Gdb6IKJVK+Xy+trY27DcMXU15efnw8HA0Gs329WbBYJBhmFtuuSWrrVwPp9PJ8/z09LRq3zzi9/vLy8tbWlrUaW6ZIE3ItHYKFUKovLw8Ho+PjY0xDJOlW9x5nvf7/ZWVlTt37szG9rPK4XCoORn5fL7KykrCD7tv2LBhZmbG6/WyLJuNL3pIJpM+n8/pdJJcpRQqL/VcLheZSz1IEwKtqUKFEHK73QaD4cKFCxRFZfxBarFYTFn75O6oUmcySu905kQ5Ly8vF0VxdHQ04+sbZVmzYcOGnIgDUnepR2aVUkCakEYj436cTDZ4vd4PPvggmUyaTKaMXPbK83wsFtNoNDfeeCNp3+WxCp2dnQMDA3a7PRsPRRUEIRgMVlZWbtu2LeMbz57h4eETJ06wLGu1Wq//RpZkMhmLxRKJxLZt2wi8emJply9fPn78uMPhMJlMmd1yLBYLBAI7duzYsGFDZrecDZAm5FibhUpx8eLFrq4urVZrsVhWfUGwKIqxWEySpMbGxrV0Tc6lS5c6OjqcTmdmj28kEgm/379ly5YcuswkTRTFrq6u8+fPWywWi8WyuqW0LMuxWCwYDNbV1W3atImoK9GXD5Z6CkgTQqzlQqXo6enp6enR6XQ6nU6v1y/zgIYkSRzHCYIgCEJjYyMh93lklsfjOX78OEVRJpPp+udTpaInk8ldu3YRdR3XSkWj0bNnz46MjBiNRr1er9frl1OxlGu3lOm4vLy8tbWVkGdPXA9Y6iFIEzKs/UKFEEomk+Pj40NDQ1NTUzRN0zRNfUir1VIUlUwmU6lUMplMJpOyLAuCIEmS2+0uLy8vKSlZ20806e3tPXfunNFotFqtq7uaIJVKRaPRWCxWX19P7DMPVyoajU5MTAwNDfl8PoPBwDCMMlSUMYMQSg+YVColimIikXA4HJWVlaWlpWugRM0GSz0EaYLbuihUs01NTU1NTUWj0Wg0ynHc6dOnw+Hw7t27WZbV6/XKxalut3tdfR8Mz/Pnzp0bHBw0GAw6nc5gMCxzHyKRSCiP0aysrNy8eTP2p+BkgyAIExMTMzMzkUiE5/mOjo5QKLR9+3adTseyrNFoNJlM+fn5xcXFGL8FMdtgqYcgTbBad4Vqnr179waDwTNnzuDuCH4cx42Pjw8ODs7MzJhMJmqWefsQilgslpeXV1lZWV5eTuZXnGQDDJh1vtSDNMFiXReqd955Z+/evQih3/3ud5/+9Kdxd4cUkiSNj4/7/f5gMKicdzl9+nQ8Ht+zZ49OpzObzWaz2eVylZSUYPk+VoxgwCy0bis3pIma1nWh2rt37zvvvIMQ2rx58zrMtOVbt5PRPDBg5oHKPRukSRap+Ugrorz99tuz4/C73/0Od48IlQ7UOg8RDJiFbr75ZiUamzdvxt0XzCBNsmr9Fqp0jkGmLQ0mIwUMmHmgcs8GaZJV67RQzcsxyLSrgclIAQNmIajcaZAm2bZOC9W8HINMuxqYjBQwYOaByj0bpEm2rceLKYLB4Ne+9jXlz0888QRC6Ctf+Yry13/4h3+orKzE1jPCpE+Vz7YOT5vDgFkofV3JbOvzGhNIExWsx0I1m3LL3joPwtXAZLQQDBgElXsuSBMVQKGCeWdxMBktCgbMPOs8IJAm6oBCta7TbJkgSmkQinkgIGkQiuzJ/FeaAgAAABkEhQoAAADRoFABAAAgGhQqAAAARINCBQAAgGhQqAAAABANChUAAACiQaECAABANChUAAAAiEbQdyR3dXWtw6ZbWlpwNZ3rYMAAsE4QVKjANWGcHzG2DlPzMkHlVkCarD1w6A8AAADRoFABAAAgGhQqAAAARINCBQAAgGhQqAAAABANChUAAACiQaECAABANChUAAAAiAaFCgAAANGgUAEAACAaFCoAAABEg0IFAACAaFCoAAAAEA0KFQAAAKJBoQIAAEA0KFQAAACIBoUKAAAA0aBQAQAAINq6+yp6nfcCO9VDJ3x0IkglAm//5VatGC9+6b+nWGvS4JAMdsng4gubhLxa3D0FRNBIvN5zhg0M0XE/lfC//Tc3aPhoye/uT+mtKdaaMjh4U77oqODcW2Saxd1ZANam9VKo2IlOk+e0fqJTw+gZV7WGMWnyqjU6084Gs4Y1ynxcFqKyEJP5mBz1iKPHZYnj3K0x91a+eDPuvgMMtFzI4Ok0jZ1kJrs0eRspq1trcmgcZTuqbtToTAghWYjJfFQWoiYhIg28JR//mVjUEivdnnBvTultuLufRbqZfv1UN50I0gk/xYXSSz2ZtSb1dsngkIxOrqBRyK/H3VOwdqz9QmW++Ia1/2WtwU47KqiWz2iNzoW/o2HNGtac/itTdWMq7tf5Bg29v5VP/TLccHe05lYVu4yZVoyzE526wBCT8FNcUMuF3nmgBSHkfu3vZb01ydoFU57oqEy4W2XGiLuzmaflI9a+F0yDf9Dk1TDOSrrm44jSLfw1Dc2iD8cSgxBKCpJvUD/ygXTmV7HqvZGGu1KsRdV+Z5M2JbITncaJ06znnFZvpZ2VGp1JY96o0Zl2Npg+XOrFrrxiU+LpkzIX5tytieItfPHmlJbB/QkyTyvG9Z6zjH+QTgRoLqDlwn94YBNKp4neLpryBXsF525NrcU0UZlGlmXcfbiiq6srsxs0jHxg632eZi1s2Tat1b26jaTCHmG0Q+Si4ebPxMt2ZbaHCKGWlpbl/3LGQzQbHfPqJ04ZPZ3MdD9y1TDWIo3OpGHNGp1JozMjhK7sdApRmY+J0Sk0c1HMq4uVtvHuzZIpL3sdu1qIshENa99Llv6XaHczU7ZdwxhWsQVZTIgj7dJkT6jhrmj9nRnv4RIDJkvDw9r/krnvZcpeStvLKGe1xrCs/UU5EUr6B4XgqBwaD9ffmY1QKBYGJKtpQsVmjJ5Ow/hpxtuvcdXQliXTJDKl8V0S8mpjJW2cuzVpys9ex1Y0k+SctVmo6OiU8+QvdGJCV7aNclZd/waT/svC6CmBMfi3/zfJXHj9G0wjoVDRMa+l7wXj5Xe17hbGUUm5qpGWuvbbUsmkbzDpH5QmexJVHws3fDpL5UqdQqWf6rafeoIx5+tKt2lNruvcWirmE0dPijFvYNufcIXNGemhQs1CZb70prXvZcpWrCvbpl3tP24q5pVGTorhyUZJsfIAACAASURBVHDT3dHqfZntIVKxUNGxGXPvi6bho9qi5tWkyVRvomJPuPFuKTvlCgqVSjI1vPRT3c7jP2NKt+lKt2Rkg2ni2Clh7Ix/1wMZnHrwFiqNmLD2v2juf42u2Kkr3460qzoUnJLE4XZxpD1W/8lQ/V3yqnZElqBCoTJfest67ml9/QHKtSFT20QIJX0DXP/roc1filXvzdQ21SlUOv+A8+QvaJ2JLd2qtRZf/wZT4Ql+7LTEx/w7/pvgzGSQVShUGjFh7XvRfOE1pmIXU9Z2XWky2h6t/WS4Qb00WRuoRx55BHcfrpienr7+jZgvvWnv+KW+9lamsPH6tzYPZXVTBpvuzK9l1iw4MrCjhhAqLFzB/llGQpRmHD2e/4cfGmmdvvEO2rUBaVZ7r4JGS9nL6KImZrrfdPbppClPtJVmsJ9XC1GmomHres469I6h8VNURruNENIaHLSjkjn/moYL84VNGdnmEgMmUwExDR11vf9jtvIGtupGTYbOtGlYC5NfS2k0+lNPSMZ8yV6ekc2ixQKShTR51ETr2MY7KFf19aeJbrrf0PnrlDlfnTRZG9bUxRT2c0+bJs6wrV/QmvKytJ+odW1gW79gO/8aFZ0JbTqYnUbUYO153nL5bX3jnVpbSUY2qGEtuo376II6R+dv6PBkuOnTGdlstjlPPGaMTbEtn9XQ+myMGY05n930Oc2FN6kTj/l3/kUWWsgwW/d/mofe12/6I621GGX6cAtd2Kg12F09z0WinlDzH2V249lg6X3eMnDE0HhHxtOEOvs0FZmMNOZGmmC3dm74NV960zR+xtDwKa3RhWQ5ey+t0WVovMs8cco8eAT3h14l14nHrBOnDC2fuzIZZTA41mLDpj+yTXS4TjyG+1Nem63rP42xaX3DnRqKzd6A0VAs23CnKTZl6/pP3J/4GpwnHjNP9+o3/ZHGUpyleGgsxWzL5y3Tva520keIq/1x+8QpY7pmZzRN9C2fs411uNofx/0pc8MaKVT6qW7ruWfZjbcgnSpXguqMbM0tts7f6Ke61Wguowre/p5RjOqbP4N05mzMREhnZps/axIiBW9/D/dnXYpp6D3zyPtsTeZP7y9KV3OLefiocfiYOs2tgr37OVNs2tBwh4bRIyRn76Vh9PqGOwxhj737Odwf+qoK3vmegY+wTVlME33LZ018uOAdotOEEGuhUNHRKefxn7Ebb8v2vtScNZHRpdt4m/P4z+joFO4ArICz/XGWZtkNe7M6EyEk62r26WkdsftVOv+gveOX7IZ9GlqvzoDR0Hq25lZH+891/kHcn34R5oEjppETuo23qNYiW/cJ88hx0+A7qrW4fM72n+soVl+jSppQOtivuqa1UKic7b9gSrZQrupsj6p5L8pVrStudbb/AncAlsva87whNMbWZOwKtKXpavYZQ2PWnufVaW5FnO0/pzfeorUWqTlgtNYi3cZ9zvaf4/708+mnum1nn2Y33pLVQ6DzKzfF6jbeajvzFGmHJSy9zxtDo3oV08QQHLH0kpgm5Mj5QmUcPc5ICcbdqm6RuvKii7foxJhh5APcYbg24+hxy+ARfc0tqs1ESJZ1G2+1DB4xjh7H/ennsFz6PaUzMnl16g8YKr+BofWmS2/hjsEcjlP/ptt4q9aUp3I4tKY8tvY2x6l/wx2AjxhHj1sHjrDqpgm78TYbeWlClJwvVPae3+mKN2OoUR++mJKtNiJ3GmbTiAn7qSfYjbdoWJOawdGwJnbjLfZTT2jEBO4YfMTc9xLrbsU3YLZY+17AHYOPWPtfokz5lLMaSzwoZzVjdFn7X8IdBoQQ0ogJW8e/YUkTXQ1xaUKU3C5U5gtvaHUmyl6Bac5BSEaUvYLRGU0X38QdjKXY+l6kXTVaS7H68dFaimlXjY2YIxvWvpdoq1trceMaMFqLm7EUmftfxh0JhBCihKil90W8Sz26ZKu55wVKiOIOBrL2vajLr8WVJkzeRnLShDS5Xags/S/hzTHlxZRssfW9iDsYV0XHvKbzrzElW/HFZ6vpwmE65sUdCaRJCubzrzDuTXgHDF282dr3kiYp4I4HsvQ8TxU2aQ0ONY90zXtpDQ6msMHa/Vu8oaBjM+YLr9HFW/CNii2mi4fp2AzeOJAphwsVO9GpNdi1pgKMOXYl00wFFGthJzpxh2Rx1t7n6bI2jc6EKz4anYku3WolYLXIes5qLG6twYl5wBiclLmQ9ZzFGw2KC5ku/4EpyfCTxlaBLm0zDL1LcSGMfbD2Pk+XbsecJiVEpAmBcrhQmcY7mAzdLn79KEe5aeI07l4sgo55DUNHmWLMkxFTss0wdBT7TpVp/BSTiSfXXT/KXmbEPWD0nk6No0rNK/2uOkdTLO2s0nuwLfWo2Ixh+H0G95fPMSXbDMPvU7BTtUAOFyr95DnKVoE9x5QXZavAmGZLYD2d2sJGpKEwh0hDUQUNLO4QsZNdlL0c+2hBskzZy/WT5/BGwzTazthL8R4FTb8oW5kZ32Vves9ZbX4DEWmSX2/AvatNoFwtVDrvBUSzyGDHn2EIyQghgx3RrM57AXdg5jONnaRtRExGlL3MPNaOMRTszHnEmhFrxR8LhBBrRTozO3MeVzQ0Es9MdVP2SvyxkBGSEWWvpKd6NRKPJRqmsZM0GTWbspeZRk9gCQLJcrVQsVM9WhsRS+P0i7GWslM9uAMzh0aMM94LlG3OVZGhaBzPTGSroL0XtWIcVzTYqR7aWop9nHw0YCzF+sksfsXf0gyeTuSqkSkG/9x8ZYZmtI5KA459bu1iaYLrRdkqaN8ljGlCplwtVHTcR2f6C12uk0ZnYuL4L2ybzeA5q3FUyVpqdi6cHRzb9Vff/dVbH6idg1pKY6/AeMkJHfdpl/2l4KFY1mcKjc5MJXzZbuVqdIHL9AofORaKxrJaubXmQl3gsvqh0HvOahyV89IE20tLae0Vejj6N1fOFqpEQMMYsS+KZ780jJFJBHAHZg7GP0iZ8hd29dzg6P0/emL3X333qd8fUzNEFKaZSEFzAQ1jWGZXzw2M7v7r7MZHwxiYuB9bNGJeDWNc0RR6bnB0919/96m3jmVpitYwRjqK4ToCxj9IreTi4VA0ntU00ZoLGSIfCIlRrhYqKhFAjAH76mfOizFouSDuwMzBJPwa3aKTEUIInRscvf/H/57VqWf+TKQzMnFs+xDaRBCtZGo+Nzh2/z8/uftvvvfUWx9kZ8AYtXwYVzQ+XOqtrMvnBsfu//GTu//6e0/9/oOMx0PDGOkEhspNx6+WJlcbGCPZLdhY04RMufrFiVo+oln2YZxVM9314MrfRMQTB5ZPmXp++sKRv7xr37237M5qWxraSCeGstrEErR8WLPyb4FRytVPXzryl5/ad+8tuzLYHw1j0HCRDG5wZa1zoQ9n5+W78stZiolGZ9TwGALCcAGNuWgFkZCzmzUa2sjgSxMy5Wqh0vDhK4dxQCYMT/tCsXgoFreZVnzmb+Xl/L9W2kTmvLu6t12Zml888pef2rucqdl0918ud9Pf3rS6LmXCG9fz5pXG5Jo0tEGD455fDRfW6AwrqdkfFuzLH0bgrswWbAPisO1qkylXC5XMWmUhocny9RSx5//v8n9ZFmPc+Vcn7vr/VtRES0vL8n+5q2tlF4mV/O7P9S0HEaWb/cOj3RcPfPPH6b/aTIZv3nPHvft2XSlRUPuvbnjaF4zFQ9HVlPO1anjaF4wlQrHEojFZQcFOewRL5V59zZ5Vrvbeuy9DBRvfMWEy5WqhSrEWWYxpGD3ujnxEFuIya8HdiwU0Vz0NOb9ErVbshZ8u91eTQuLcMxOfXdk3eF2tlq+0bBcd/p+Gku1ao2s5v3y0++KBb/0k/VebyfDwoU/e91GsrlHOY89fe72Sinu58Q7P/n9cTn/SlljZrCgg7lf/zlB1s4a1Lv8tR7svHvjWP6f/ajMZHj50+32wxEEIXTkmcdWCDa5TrhYq2WBHYhyhZU06KhHjKYMddyfmSLFWWYjNn4xk2WYyfPPQ7ervRclCHOlXMDNmuHX9asbMghKVOWIipcc2YFJ6myxENStbWl0ZJ8sv28sp2B91KTKR8F2a3PftlXRpkcq90hXMSmv2woKd2WwidMmLVa4WKsGYZxBiGpIWcbIYFwxO3L2YI6VXCtWcQf+x5pq+n/+vZe4ZZJYsxlIrWcJnlmjKk4X4cseMUs4PfvK+fTuzVM5lISYaHJnd5vJJRpcsxFb2oWTZZjI8nLWYyEI8pbdlcIPLtGiaLOmjgv3NQ7ffm45GhrJJFmMyjjiQLFcLlWRwyMFhlefZpclCNOWswt2LOZJ6x6KTkc2ox3KgRhZiSRZbBkp6hxwYWuaYuam5pv/xf8hqOZeFWNJWmo0tL0fS6ETRGc1K3nJT88b+xx/J4qEtMS6a8rK18auT9PaV1WwZKYuYe7NVsGNJKFRz5Wqh4gubpOH3mUKMV0zNJ4UnEg2fwt2LOUSjE8UDK5qMsktMSDhmIgVf2CSNfMDIy31CdrbLeTLi4ervyN72lyY4qqSpXlpOrehdNiOLVviW5ZPiXr5sR5Y2vlS7RteK0uSm5posF+yEuLwzqetHrt7wK+TVyklBxvoFNrPJXEhOCkJeLe6OzCE4qpLxGSSnCHmJcS/v2oArGnx+nSzGZRx36iwk85GUGOPz63B1IOHeLAeHUUrE1YH5UqIcGEq4MXzRhuisllaYJlcKdtbSRHDVqB8HkuVqoUIIJYq3JEOj2Cdf5ZUMjfJFK7jQXB188eZUcATJSdwdQQghJCdRcDjhbsXYhYS7NRkmYswkw6NCQTPGUMg0KxY0JYOjWX0a0PJfyeCoWNAk06z6oeDcrShEVppwWNOEQDlcqOLuLcmIB3cvrpCinmgphqMWS0sxRtG1kZDJKBkcFV0b5ew/T2QJieItycgkxg6kSdGpaNl2vH2Ile8UIxNZeg7QSl/JyHistA1LHFKMUXCSlSYprGlCoBwuVHzx5qQQScVmsI+tVGwmxYV53F8PuqhY2Q4p6sE+DSEkJyMTCUwzURrvbk3GZlKJAOYBkwjI0Wke96qZc2+WQyOyyGHPIFnkkqExrmQbrlDEIU3IlsOFCiEUarhbmOnDPrbE6Z5ww124g7E43r055b2AkiLmySgpJn0XE8Vb8UZDpnTR+jtEbz/eASNN90bq75DnPjFEfUm9LVZ1szSN7Tux0sSZnnjlHoyXuiXcrSnfRSLSxH8pXrwFVxyIlduFKrbxNknkkqFxjGMrGRqXJD5aux93MBYnmfLiVTeJ05i/0VGc7uErbsR4yV9auOEuKTqdik7jGjCp6LQY9xKysok0fVr0DaQSAYyn61KJgOS7GG7+HMY4JE35sYo9RKRJ+Q1JUz7ebhAotwsVQijU/BnR269BCNdLnOkLN30adxiWEmm4W5rqloUorplIFqLSVHew6bO4I3FFuPHTovc8tgHjPR8lo0ohhJI6c7TpbtHbhzGDpJneaOPdSZ0ZbyiijXdL07jTZLo72PQZvHEgU84XqkT5boE1izN9WFbH4kyfyJpjFTfiDsNSJFNetO6ANN2DbWqe7o3X3ErC7pQiVnOLkBIk/4D6A0byD4hJIbLxNtwx+Ei4/lMSF0qG8FxKkAyNilwoXI//BkTJlB+txZkm0kxfYsOtEuxOLSbnCxVCyL/jzwXfhWR4VO3TnuFRwXvet/N+3AG4tnDD3WJoLBWdUn8mSkWnpNBIEOuBnYUCO+7nx9pT8Rk1B0wqPsOPtfvJGzCBtj/lRj9IJfwqZ1Aq4edGjwe2fxV3AK4IN9wthrGliRgcDhCWJuRYC4VKMhf6dz3Ijx5X82quVCLAj50I7LxfMhfiDsC1yYwh2PYVbrxdFmNqzkSyGOPG24Nb7pOz/IUsKyU4q4M7/pwba1ftmjdZ5Lix9lDbVwVnNe5PPx9X2Bzcch8/3i5LvGoZJEs8P94e3nwPV4jzfrLZZMYQ3IYnTfjx9tDWL5OWJuRYC4UKIcQVNoe2fImfOIUkTo32JI4fPxlq+QKWG+lXJ162K7LhFm7spGozEZJlfuxEtHpvvHIP7k+/iHjFDdGqmzjPKXWa4z0dsco9saqPqdPcSsWrb45U3MBPdKjWIjfeHi3bFd1wi2otLke8bFd4wy38OIY0IfwMAl65+qy/haLV++jIJBp5j3Vv1Wbz2xNSXJCfOBUt2x7d+InstZIN4abP0NFp7cQptliNG1b4iVMJe0WI4KMZoZbPU3EvGj2md2/VZO1icTkp8BMdcVtJcNPBLDWREaGWL1BxHxo9xrq3arL5hAhZ4rmJjoStNNh6KHutrFqk6TNMdFoz0cEWq3E/Ez/RkbBXkHZsnDRrZI9KEWz9YrDhTu7y28nweJaaSIbHuctvB2s/GWz9YpaayCr/zvs5rYaf6Mj20Qx+ooNHKe/ulX/Bq7r8Ox+IFG3ihv6Q4oLZ2H6KC3JDf4gUtfh2kR4KhJB/5wNhdys39Hb27qNPxWa4obdj7lbfrgdxf9yr8u+8n9Nq1UoTmfw0wY565JFHcPfhiunp6evfiOCoEl0bmP6XNLJMGTL8BGIhMCBM9wZ2PZDBY1mFhSs4xZWREMWqbqKne9HkWdqYr9FmfpdaFhP86LGExT1z099nZINXC1FGooEQ4gubkoye7ntJy1q0ukx+YV0yMsGPHgs1fy7ceHemtrnEgMlIQPjCJpG1Mb2/1dCGjB+ZkIJD/NgHwc33hjP32PiFAclgmmimzlLZS5ORYwlr1tNkbVhrhQohJJkLEqXb6dHjsu+8lma1mbg/Ixmd5CfP8HLKe9PfZfbBxuoXKoRQonQ7EqLay29TrFWT0aeKpeIz3NjxSMWewLY/ztQ2s12oEEKio0p0VTOX3pQTXq3OfP0HvlJ8WJjuEiIT/l0Pxst3ZaSTimwXKoSQZC/ni1qYy2+nwuMUY9Bk4gx/Ku4TJjt5LuD72P/gMvrkhSwVKoRQonS7zEep7KQJP3Y8WrnHn/00WRvWzjmq2SRz4fS+bxtHj9u7/4sKDrPOGu1qv3s3lfDzvotJWQw13B0j8qKA1Qk3fUayuh2nnqDNbiav/vonI1lMCL4Lych4YPO9ZF49sTSusHnizh+Z+1+29TzP2CuYvPrVnbWSk4LgvygFBmN1d+TuzZuCc8PkgR+aB49Ye55ndFYmr1a72m+8TPEhwX9J4oLh+jtz7rRupOkzSavb1vFvOktxptJE9F8Uw2Ohzfeupfkk29ZmoVLEy3bFy3aZL/3e2vs8xRhpYwFlKVrmsZ2UEElGJsX4TEqMhevvjNYeyHZv1Rcv25UoarX1vWA6/yqTV69z1SEttZoNpZK8/6I00xff+IngTX+X05fYRuvvjFd93Nr7vPHSYdrips2FlNm9nCM/ckpKRj1SdCoZnYxX3Bi64b+nVvDV5oSKVu+LVu8z979s7XtRa3AxpnzaVKTRmZbzXlmISbFJMTaTSvii9XcS8sioVVDSxNr7gvnia4yr7nrSRAhcEqd7Yhv3hz72P3I6TdSnkWUZdx+u6OrK4sMx2YlOy+hx3VSPlmJoY56WNmhovYbRa2i9hmZliZclThY5WeJSSUGKTaWSIlfUEivdke1nore0rOBbrLIUIjrmtff8Fzt8jLZVUJYi2uxGmmVcZSOnpKhHik0nA5e5ihtCTZ/L0rMnrhairA4YLRcyeDrNI8fp6V6ttYTW2zXKmKH1GkaPEFJGiyxxspSQuGAqPC7l18fKdsRL2lLZfLjqEgMmewHRpkR2otM02q6b6tbqTLTBpWU+jAat19D6D0ORzqDplBDji1ripdv54s0pLZOljqHFApK1NJmx9/yOHTlGW8tXkybBIb78hmDTZ7L07IkVzSQ5Z70UqjSd9wI71UPHvLqET5sIfnB+LBSJfnJTqawzpwx2Ue9ImvISRS2qfVcvCYVKQce8rKfTNHqC8V3Smotog3NWLdcjhNK1XJY4KeFPRScl54ZYaRtX0pbVxyNhKVRpGonXe84wgWF9eELDhT7oGw5HIrfXO2TWIusskilPMuXxzirOvUWdL/3DUqhm083066d76ZiXjnspLnSsfzQcjX+ypVhmLUm9LWlwikYXV9Qi5Ner0BmkYqFSULEZveesafSEzn9JY3LTBseSaRJIRT2SozpeviNevDWrT5td24VqLR/6W5SQVzu7CH3nua9GIkLrt/4vxi4RQjLlSTW3xmpu1Yhxg+cs67tER2eosE/Lh98/Px7ikre3lsusWdI7JWsRV3kjX7x5PXy9m0yzibJdibJdYYQQQt97+quRiHbzw7/A3C18hPz62UXou899NRKRWr/1Lxi7pKakKT9Wc2us5latGNd7zuq8F5mYlwr7tHzovf7xMJ/85KZypLdKBodoKRSq9nDu1vWQJtm27grVbCdPnjx58iRC6MiRI/v27cPdHVLIjDFevjtevjv9k+/+9quRSGTzw/+EsVckgAEzz3oOSGpBmnzvSpr8CGOv1qo1dcPvSj322GPz/gAWUiaj/v7+I0eO4O4LZjBg5oGApEGaZNX6LVTpxSBCCIbXEmAyUsCAmQcCMhukSVat30I1bzzB8FoUTEZpMGDmgYCkQZpk2zotVLMHlgKG16JgMlLAgJkHAjIbpEm2rdNCtehIguE1D0xGaTBg5oGApEGaqGA9XvUXiUSKi4vvvvtuhNALL7yAEFL+jBCamJgoLi7G2TmSXG0yWm/Xd8GAmQcCMhukiQrW3Q2/82zatAkhdO7cOfWbVpBzw+88kUjk0UcfVf48bzJ64IEH1JyM8N7wOw/JAwYCooA0WXvW4x4VWA6LxfKd73xH+bOSgem/AgAUkCbqWKfnqAAAAOQKKFQAAACIBoUKAAAA0aBQAQAAIBoUKgAAAESDQgUAAIBoUKgAAAAQDQoVAAAAokGhAgAAQDSCnkyB8REga/vpI2sVDBgA1gmCChUA4HpA5QZrFUEPpcVCo9EghNZ5EK4JopQGoZgHApIGocgeOEcFAACAaFCoAAAAEA0KFQAAAKJBoQIAAEA0KFQAAACIBoUKAAAA0aBQAQAAIBoUKgAAAESDQgUAAIBoUKgAAAAQDQoVAAAAokGhAgAAQDQoVAAAAIgGhQoAAADR1t33UV329VyYPuOLTwXjM2HOX9FSkExJ33r5C2bWbtU77cZ8l7GwtmBLlasJd08BEYQk1+M5MeI/749Phzhv5abCZCr59RfuNrN2C2u36l0F5uJSx8Ym904dpcfdWQxuvvlm3F0Aa996+T6qHs+JLs+xHs8JmtK5TCUMxbK0kaUNLG1kaT0vcbwU56UEL8V5MR5MTIlJrsm9q8V9Q5N7J+6+47d3716E0Ntvv427I+qJ8IEez4kzo3+4MHOmyFplM+TTWh3LGFnayNJGhBAvxZXRwkuJuBCcCA3U5m/ZUvbxJvdOC+vA3f0sujRz7vz0qWDCG4hPR/hgjA/FhLBJZzWxNqveaTfkOY2FG/M31+Rvwt1Tta3DNFHN2i9U71z87VsX/kPPmB2GojxzqUlnW867YkLIGx0LcVNxIby/4Ut7qu/Kdj/JkRCjvZPtI/4LgcR0iPNFuGCUDyKEzKzdzNpsele+ubjEvqGxaIeBMePubObFhPDrvb86MfxGkbXSpi/MN5dSWuaa70qmxJnomD8+PhMd3V11+yfqv2jSWVXorTrEpNA7eeLs+Pv9Ux0Gxuw0FTMUy9IG3ZXVnrLUSwhSgpfinBQLJWYSQqSxaEdL8e7Gop0MpcP9CTJvnaeJytZyoTo1+vZrvU/qaEOprc5myF/dRkKJmdFgn5jkb2/6462la/kohy822e354Nz4sSF/T5G1ysQ6lD1OHW1I70MoMxEvJeJCyBMaqHA2bim9qbFoh8tUhLv7mfFG/9Nvnn+61FZb4WxiKHYVWxCT/GXfuYnwwIH6L91SdzDjPVTfG/1PH7nwHw5joU1fmGcuMTCW5bwrIUa80fEwN+2PT95Wd2hthAJBmmCyNguVNzbx65P/O8IHSx0NeabSTGxwbCzQZ2HtX9r+93mm4uvfIFF8sck3+n9zcuTNUnudst+p1VDXfFdKTnqjY97YmCc80FZ2y4GGe525nIf9U6eeO/MTA2MpczSaWPt1bi3GB4cDPQkhfHDr39QXbstID9X37qXn3zz/jE2fX+aoN6/2eGaUDwz5u6N84EDjvTdW3ZnZHqoJ0gSjNVio+qdOPdn+jxXOxhJ7XWa3POLvHQue//KO/5m7U888nBh/o//X71z6bXXe5nJ7A6VdzcU1yZQ05O8a8nffXPPZT9R/Sc8YM97PbHtv8KUXu37RUHRDvrksg5udiY72TR77zKa/2F11ewY3q4Jhf/+vO/4PpWVK7HV2Q8H1bzCYmB4PnpeSwr3b/77CWX/9G1QTpAl2a61QvXvp+Ze6f9lQdEO+uTwb25+JjvRNHvv0pvtvrM7htaHi9Ng7z535SYGloszRqKdN17k1TooN+bq80dEvbP3r3DpG+lL3v54aOVJbuNPCOjO+8Qjv75/6YEf5rXc2/2nGN54lJ4YOP3vmx83uPQWWysxu2RMa6Jv64Ivb/q6t/JbMbjl7IE1IsKYK1fPnHj87/l5twY5VH6ZYjigfOD99YmvpzXe1/Fn2Wsm213ufem/wpfrCnXZjYQY3G4xP9U8d31N914HGezO42ez51ckfjAcv1xbsWN0ZqeUQk3z/1PEyx4b7tn8jS01k0Mvd/3pi+M26gh22TOxILRRKTJ+fPrGz4hM5UbkhTQixdgrVu5eef/vifzW5b9LRWb+dRZC4Hs+7t9YdzNH9qifbfzASuFBfuFs5/ZtZvBTvmzxW4az78g7S5+WXu/+129Pe6L5Rhba6J97dVLyb8Nn5Vyd/MBEa3pi/jcnmPWFikrs43VFsryS8ckOakIN65JFHcPchA/qnTj1z+kdN7o8t85Kk60RpaQvrfOfif5Q76vLMOXZtA3KQOQAAIABJREFUxT//4W9jQqSx6EZ6GVddrwKtZYqs1SOB/pMjb+6q3J+NJjLixNDhty/+tqnoRkqjxm3vDmNhx+jvrXpHsa1aheZW4eXufx3wdje6b9Su6hzM8mm1dL6l/NJMZzDhrSvYktW2Vg3ShChr4RFK3tjEk+3/WF+4O6tH/OYxs476wt1Ptv+jNzahWqPX76mTjyZTqZr8bTKSs/qqLdguJsUn2/8R9yde3LC//9nTP67N357VXYfZGEpfl7/jN6f+z7C/X50WV+TowIsdI0c25m9HMlLnVVew8+TI7z+4/Cruj74ISBPSrIU9qp8f+3+cppJCa5XK7Rp1VllOdY6/u6vygMpNr87rvU/1TZ1qKNytTnMuU8n56Y6EECXwIQU/fffrVXmtTpNbzUZZxqinTceHXr2p5m41272mDw9I7NGreGuqVktZ9a4j5B2WgDQhUM7vUZ0eeyfGh4ptNSqtA+e+yhz1Yc5/ajQHHppyeuyd9y6/tLGgLduLxNmvusKdRwdfPD32Du5PP8e7l56ntEy+uUz9AVNkrdJotO8NvoQ7BnM8e/rH9QW71DwgoTCzjobC3c+e/rHK7S4B0oRMOV+oXu359yLrRvXG1IJXia3+td4ncYfhGjgx/h+n/3lj/vZsnBZeAksbawt2PHfmJ5wYV7Pdpf3+/LNuG7YxU2KvP9z3a9wx+Mgb/U+bWXueuQTLUi/PXKJnzG/0P407DAhBmhAstwvVOxd/y1B6l8mNJceUl8vk1mroowMv4A7GUt7o/3WBpdxuyFc/PnZDfr657PW+X+GOwRVv9D9t1jtt+jxcA8amzzOzzrfOP4s7EgghFBPCvz//NN6lXqm94c3+38SEMO5gQJqQK7cL1e/PP1tk3YAvxa68Sux1h/t/gzsYV+WPTb5z6bcltnps+xC2+ncHnvfFJnFHAolJ4ciF/yi2bcQ9YGrfPP+MmBRwxwO93vsrt3WDSWfFVbYRkk06a5G1+tWef8cbCkgTkuVwoerxnDDoLFa9C3dHkFXv0lH6Hs8J3B1Z3Ot9T1U6W1jagGsmYmlDub3xcN9TuCOBeidP2A0Fy3yCfvaYdDaz3tk7iXnARPjAieHDJfY6vGVbRnKZo6F9+I0IH8AYDUgTkuVwoeoce9fKuvAtBOe8HIaicxPv4w7JInyxyY7Rt0rstZhnImdDx+hb2FeLZ8ffs5AxZhz6wq6JD/BGo8dzIs9Umr1HciwfQ7F55lKMSz1IE8LlcKHqnz7lMLqxLwaVl8PoJnOPqneyvdhWs5zHPGeVVkMVWav7JtvxduP89GmHsQj7aJGR7DAW9eKORsfIEZuhQCaD3VB4cvj3uEIBaUK4XC1Ul309tFZn1Fnwr42RjJBs1FkYir3s68EdmPnOjP3Bqs/HPQvJsizbDYUdIziv4780c46ljXrGhH20ICTrGZOeMV2aOYcrGkKSG/CecxpJuYHJaSwe9HULSQ5L65AmhMvVQnVh+ozDWIR/YTzrZWFdF6bP4A7MHAkxOuzvcxpVva31apxG90igPyFGcXXg4kynTV+AfZykX2bWdX76FK5o9HhOFFmrKC2FvWYrL0pL5ZlLsByWgDQhX64WKl9sktLQ2LNr9oulDTNRsh6n1DvZnmcu1Wq02IODkKzVaPPMJRiPd/liU7RWhz0OHw0YyuCPT+OKxoj/vJ42495/mMOsc474z6sfCkgT8qnxOM5sCCRmGNok4+7GbAytD3Fe3L2YY8R/wcTYZZmUOJl1zhH/hW1l+7C0Hkp4GdpMSiwQYmh9AF+h8sWnVPiegRXR0fqZmEf9diFNyJere1Rhzq+j9NiXP7NfOkof5vy4AzOHn7DJSEfrfXFsVzSFOZ+OYrGPk1kDho3yQVzRCCZmdJQBfxRmvXSUIZSYUT8UkCbky9U9qigf0mn1SMbdj1l0Wn2Ux393/WzBhNducJMTJIbSBxLjuFqPCmEdRdCY0VE4B0yUC+abKhExuxHoSkBC6rcLaUK+XC1UcSHM0KxMzqyDEEPr4gQ8Bma2mBAqMFeRMxnhmokUcSHMUHpyxgxD6RNiBFfrUSHEUIRlEMXGcAwPSBPy5WqhMuqsQpIn4V7FNEHijDo1vrZx+aI8WZMRQ7EYa7lRZxWSHDljRkhyBhW/VmMhjSZXj/xnFqQJ+XK1UJlZm5BMkDPpIISEJIf92TwLwWSUZiKsUIkSZ2axDRiTzsZLcTW/gOqa+GTChCkgkCaEy9VCZWEdvJQwklQYhGTCqnfi7sUcZpasyYhPJow6K67WzaxdkHB2YB4+mVD/K6DSrHoHn0ywjAlXBxbipYSZtavfLqQJ+XK1UOWZ3dORSXIOKyOEBInLMxXg7sUcZtZO1GQkJDkLvqk531zsjU6TM2ZEiXMaC3G17jAWxIQ4OdFACIlSwqrHMDwgTciXq4XKYcj3hEbIOayMEOKluN2Yj7sXc9j0Lk5KkDMZCZiWzAq7IW88NETOmOGTcYu+BlfrdkNeII7h7tolCEnObduofruQJuTL1SOztQVbgjhuuVhChPc1FLbh7sUcDmOBIOF5eNqiBIlzmYpwtb4xf3MM6xdJzBPl/U1FO3C1XuGsj4th3I+RmvNKiJEqV6P6oYA0IV+uFqoqV1MyJcTFCPbsUl5xMZJMiVWuJtyBmaPCWZcQQ9iDk35xUrTK1YArGjX5mzgpzkkx7HGQkcxJMV5K1ORvwhWNJvdOb3RMSonYQ6G8pJQ4Ex1tcu9UPxSQJuTL1UKFEGouviEYn8Q+qpRXMD5ZV7ANd0jmayza4YtNJOUk9vjISE7KyZnISCO+fQiEULN7VyA+hT0UMpID8ana/C0YQ6Gj9BvyWoKJSdzPo7jyCiYmN+S16CgMT4iANCFfDheqFvfuCO/DnmDKKyoEtpXtxR2S+QyMudxZT8hkFExMVjgb8N451OzeFSVjzMSF4Nayj2MMBUKorfyWCOfHPjUrrzDn3Vx6E5Y4QJqQL4cLVZN7p5jkolwQ99BCUS7ICVEsRy2uaVvpzVEugH0akpEcTnhbS/fgjUZj0c4YH0wIEbwDJiFEwpy3sQjzgGly7/THJqSkgD2DpKQQjE+1lmAbHpAmhMvhQoUQ2l//penokIxSeF9T4YHb6u/BHYzFNRTtmIpcTqWSeGeiVCo5Ex1pcd+ANxoMpdtX+/npCOYxMxW+fEvtFxhKhzcaFtaxs/LAROgi9tl5MjzYVnYrxmuyIU0Il9uF6mMb7pZTyWBiBuPoCiZmZJTau/FzuIOxOJepaHv5bROhS3hnoonQpS2lN5NwLdMn6r8YE0IRPoBrwET4QFwMf6L+i7gjgRBCn2y8zxcdx3tRUlyMzERG7mj+CsY4QJoQLrcLFULo9qY/9kaGMa6CpsOXDzTchzsMS/lE/RcnwwO8lMCVfryUmAwP3NH4x7gjccWBhntnwtjGzEx4+LY6Uva/TTrrbfX3YM+g2+rvMeF+FgOkCclyvlBtK9trM7gmw5exJNlk+LLN4NpRcRvuMCzFZSr6eM1nJ8MD2KbmyNANVXc4iVkn7qn+FKXVeqPj6sfCGx3XaDQfr/k07hh85BP1X+SleCA+hWVwBOJTgpQgYf8S0oRkOV+oEEL3bv+6LzoWiE+qfKYhEJ/0Rce+vOMbuANwbfvrvxThvBHOr37+RTi/P+a5s+lPccdgji+1/f2IvzvK+9UcMFHeP+Lvvm/713F/+vkObf3asK8rLoRUHh1xITTi675n29/iDsAVkCbEoh555BHcfbheRp2l1F7z9oXnrIY8RqvSs7ETYmRo5ux9O75R6cyBW/NoinGaCk8MvWo15lNa9Z6bJSS5Id+5z7Y+UOGsV63R5bAb8lwmd/vQ63ZjoVZDqdCilBKGvec+2/pgs3uXCs2tSJ652MLaO0Z+bzMUaNV6jriUEod95+5o+go593VAmhBrLRQqhFCeudiks3aOvWM1uFSYd6SUMOLvOdBw346KW7PdVqa4rZWCxPd6jjuM6h1bGPKe2115gMwrTYpt1XEhemnmjM2gxhMaR3y928r23lr3BRXaWoUyx8aYEFYtGgihEV/3ltKb9jd8SZ3mlgnShExrpFAhhModtaGEt2+yXa+z0Nm88DchRkf8vdtKbz7QcG/2WsmGjfmto8ELY8ELVkOeCs2NBfrLbBu+sPWvVWhrdeoKtgz5+0YC/UbWnr09CSkljvp6yh21h7b+TZaayIi6gq2zopHF1Z6UEkZ9veWO2kPbvpa9VlYN0oRAa6dQIYTqC9t0FHts8CWWNrKMMRtNhOIzQ95zn2y4L+eqlKK1ZM/p0bd9sQlLlpNwPNCvp/UPfuwHWW3l+rWW7AklvN0T7xuys75JCJERX8+W0pvInJTnaS3ZE0r4zo0f1TNGhmazcTomxgeGfd3byvaSXLYhTUizpgoVQqjcUVvuqHt/8EVZTmX820L90Ynp8NCXd3wjh474LbSr8sCgr/uyt9ukt2m1VMZnIjHJDXm7yuwbciX96gq2GhjT+4MvsYxRn9EvJQolZoa85+5o+hPSDnAtoa5gi03vevfSfzG03qCzZHbj/phn2Nv12dYHiT0EmgZpQhSNLMu4+5B53tjEUycf9cenXZYyq8F1/RsMJ3yB6LiZtX9l58N5puLr3yB2r/X+6r3BF92O2sx+802UD074z99YfccdTX+Swc2qoH/q1NOn/l+a1udZyq6/XHFizBsZlSTunm3/o76QuKcVX9Owv/+pjv+dTCWdlpKMLPhifMgXGdUi7Zd3fCOHLhmANCHE2ixUitNj77zS/W9Io3Wai1f91c5xIeyNjGo1mv319xJ+v9RKnR5759lTP7YYXAW2Cua6n1otJjlfZCwUn/ls64O5G6i3zj/7Wt9TDlNhgbWS1jKr2IKUEn2RMV90fG/tH92e4zdvvn/55dd7n6IptsBavupvaufEqC86zovxW+sOEXUD2TJBmpBgLRcqxXuDL77W+yuaYk2szaJ3LfPcFS/GI5wvIUQEKXFr3aG1ekEOJ8YP9//6D5d+m28pL7D+/+zdeXQc5Zkv/re61t43yVptyVq8SpYXeQOTCzaMHXYmCyZh5jI3MyEwv5uczM0NMxAOnpNLJnBuJsv5JYaQTJgZEswwk7AmGBIgsQFblm3ZlmRbtmTLsnb13tVdXVXddf8ouyhasq2lu97q1vM5fTi2aNX79tfv20/tVTO7Q+gZJR2IDw2Hz36q4e5PL/9LLj9HBw3Di9Hfdf/7wfNvuWwldtY7zfNIM0o6mgzwqVAsGWhduO22pr/CfquFXPnD6ZfePv2ijXHZWLeT8zGUdTq/JcrJmBBMpCIJMbptyefNcEnvrME0wa74C5Wqa/hg+8C7PWNHSQtlZZw0yVIko/1XSqfktKj+N6PIcSGczsjLytatrb7RnPdEz60gP/JG9/MdF//osZU5rX4X5yemcQqcomSiQoAXwkF+aHX1f7ttxQPFdI+yWCrUNXzwUP/v+wKdXns5S9n0YwYhpA0YKZ1KyYkQP1LrW7Fu0U0tVVsw3lw1T6S02D1y8PDA+2fGOxiK42gHTXI0yVAk88kZJMrpVEZJ86mwKCeXlq1bU/WpFeUbsd9+NydgmmA0XwqV5lygq2fs6AQ/HEyMRoVQQowmxJiNdtpYl4vzeqylfnvZ8rL1ZntWrwEC/Ej3SNvhgfcGQqdd1hKOcdIkQ5EsbWE+/mrOiHI6JaVFQYxFEuPV3sa1C29srriuiOeemBa6hg9eDJ0ZivXHhFA8FeZTUYSQnXXZGZfPXu63ldX4lq2s2IjloX/GOzt+/Mx4R4AfCSZGokI4IUaTUtxKO2yMy8V53NZSv71s2YJWjA8vziuYJljMu0IFrikpxbtH2voC3QF+OJ4Kx4RQQowjhGyM0866PNZSr21BnX/FivIN8Hg3MG/BNDESFCoAAACmVgw3pQUAAFDEoFABAAAwNShUAAAATA0KFQAAAFODQgUAAMDUoFABAAAwNShUAAAATA0KFQAAAFODQgUAAMDUoFABAAAwNShUAAAATA0KFQAAAFODQgUAAMDUoFABAAAwNShUAAAATA0KFQAAAFODQgUAAMDUoFABAAAwNShUAAAATA0KFQAAAFODQgUAAMDUoFABAAAwNShUAAAATA0KFQAAAFODQgUAAMDUoFABAAAwNShUAAAATA0KFQAAAFODQgUAAMDUoFABAAAwNShUAAAATA0KFQAAAFODQgUAAMDUoFABAAAwNShUAAAATA0KFQAAAFODQgUAAMDUoFABAAAwNShUAAAATA0KFTCFhoYGgiCOHTuGuyOm9vTTTxME8eyzz+LuCACGgkIF8ujYsWNPP/30dMpPb28vQigWi2k/efbZZ83zjWyqzkQiEdxdAMBQUKjAbPh8PuKT1q9f//TTTwcCAf3bHrlspsvfv3//V77yla985Sv79+/PXa9nyVSduaZnn30265/G5/Pt3Llzcue1dz788MOTl3Ps2DGCIHbs2KH/ofrv7vP5plz52LlzJ0EQBZESKCwU7g6AghQKhRBC27dvV/8aCATa29vb29tffvnlQ4cOaW+rq6tDCK1bt26my3c6nV6vFyFUWVmZmx5PD0EQXq83GAyaoTOzo25veb3eDRs2qD/Zu3fvSy+99NJLL7344os7d+7MeidCaPfu3bfffvutt96qX45+61aj/ruHQqG//uu/1v9Dq8LhcO4+BwAfgy0qMHtvXXbo0KF9+/YhhNrb2/W7yH7yk58oivLkk0/OdMktLS3BYDAYDKqlzkjqd7FJOjNrGzZs0P51JiYmHnroIYTQfffd19fXl/VOtQZ/9atfnf7CvV5ve3v7nj17cthhAK4CChXIjS1btqjfhu+99x7uvoBP8Pv93/72t9U/t7W1Zf3fhx56yOv19vb2Pv3009Nc4N///d8jhB5++OGsPb0A5AkUKpAztbW16JP7f6Y8Sy0QCDz99NPqaX4+n++xxx6b8vtO/b9ZP9mxY0cgEHjsscfUgyv6lfo9e/asX79e/XlDQ8PDDz88eetB7ZL+bY899pj6NvUnWkNZy5/cGYRQX1/fww8/rH4QbWlZn0VNYP/+/eqb1WM8DQ0NkzdHAoHAs88+m/URclUJ/H6/+ofJJ2K43e6f/OQnCKHvfve702zum9/8Zn19fSgU+vnPf56T7gFwdXCMCuTMkSNH0FRHpPRfjoFAYMeOHe3t7Qih7du3BwKB73znO2+//faUC5y8Fw4h9MUvfnHv3r2tra0IoQsXLqg/fPjhh3fv3o0uHzZra2vbvXv3nj173nvvvZaWlimbRgjt3bv3O9/5jtvt/uY3v6n9BOmOvVVXV1+pM8eOHbvppptCoZDX69Uvbffu3fpGVb/61a/27NkTCoW2b99+9uzZ3t7e++6778KFC9/85jfVN/T19bW2tmYtbffu3YcOHZp8KGgWtJq9adOmyf93586d3/ve99rb2x9//HG1aF3Tj370o9tuu+2RRx757Gc/W0B7REGhUgCYucmD58UXX0QIqTuRtB8+9dRTCKGnnnoq6yf19fXa29588031MAlCaN++fVdpQhu0L774ov7n6jK3b98+MTGh/VDdD7l9+3btJ48++ihCqLW1VWt6YmLimWee0S/tSpMi6+cTExNqnx966CGt0d7eXrV8tra2ZvUtq121J16vV3tbR0dHfX29vicdHR1qE/ofTs5zMi0N7Sdvvvmm2rGHHnpo8jvVpamHGBFCHR0d6v9Vf6JfTlYOakG99957tf+r/kT/jwhATkChArOhfmFtv0z9HtR/zakmf7FO/vJVFKWjo2P6hWry17S6TH2VmnIJ6tuu/jU6zUL1zDPPqOU2623q1WD6HNQEWltb9d2bmJiY/HknU2vt5DI/nUKVxev1Tv6trKXde++9+sp0zUI1+V8NChXIEzhGBWZv72Xq/jSE0Gc+85nf/va3V3r/sWPH1B1o+pOkEUJZO8quTttdlrXML37xizs+SX2DelnP/v371bdt2bJl+m1dyW9+8xuE0Je//OWsn9fV1el3IWo+97nPaUeJEEJ+v1/bu3gV6jG/2VF3IWqtbNiw4Utf+tLVf+U73/kOQmjv3r1X+RfUa2lpUUvp17/+9Vn3E4DpgGNUYPYU3e64Y8eO/dM//dNLL7102223dXR0TFl7prw0Z460ZWbVBpXX69Vf/DSd8jB9TU1NOVwaQmj//v0ffvjhu+++q/717Nmzs16Ueno6unxkbu/evTt27Lj64a66urqnnnrqkUce+epXv5p1TdWVfPvb396zZ496qnrWygcAOQRbVCA3Wlpa9uzZo+4DxHK3oSn3GBTKxU9qObnhhhseeeQRbTtV25E4F36//6233prmlU9f+tKX1KOM0/wX9Pv96qnq3/rWt+BUdZA/UKhALn3uc59DunPMzGbKra5Z6+zsnPxD9fva7XbPaFGPP/64eirjm2++qR3NmvJo0yz4/X51H933vve9a75TPevvH/7hH6LR6HQWrp6q3tvbC6eqg/yBQgVy6fz58wghj8cz5f/Vjg9lHQWZy03Tt2zZop4lcfXNheXLl6t/yMmd6NRT8F9++eWsn/f19amH62655ZYZLVAt7f/4j/9466236o9m5Yp6gKq9vf2aUe/cuVM9Uf5HP/rRNBeuvnP6l2EBMFNQqEDOPPvss+rFTHffffeV3qOu2j/xxBPal9pvf/vbm266aS7tqst8+OGH9UUoEAjs2bNHu9uCtlXx9a9/Xb/Bt2fPnsm7ua55NoH2va+/nWtfX5964ty99947u/2Nb7zxhr5j3/3ud2exkClpZ3lMZ5/e97//fTSTrc9bb711+/btoVBIO6cGgNyCQgVmT3+KXUNDw1e+8hWE0EMPPXSV4+rf+MY31OMljY2N6m/ddttt9fX12gnus/B3f/d36kbADTfc0NDQoPanpKTkvvvuU69Bzmq6vr5efY/P57vvvvv093xSi9ltt92m9u1KW2l1dXXqdWO7d+/2+Xzq0urr69vb21tbW3/84x/P9COot9rbvXu32v+Ghob77ruvvr5+psu5igceeEBt4prbPVu2bFEr7vTlai8lAFOCQgVmQ93btlcnGAzee++9+/btm3xrA/0Bm7q6uvb2drUeqOvsTz311KFDh9QvZafTObmVq/8EIeT3+w8dOvTMM89s3769t7d37969bW1t27dvf+aZZ/Q1o66u7syZMw899FB9fb3a5/r6+kcffVQ9LVv17W9/W9837Qbkk5veuXPnvn371C90dWmtra3PPPPMoUOHZrHv7tZbb1Uvy1X77/V6n3nmmZ/97GdTvnk6B8Amb9Lt3LlT/QgHDx685tJ+/OMfq/8ik/fiTvlP0NLSol5bhib9IwIwd4T+DGMAAADAbGCLCgAAgKlBoQIAAGBqUKgAAACYGhQqAAAApgaFCgAAgKlBoQIAAGBqUKgAAACYGhQqAAAApgaFCgAAgKlBoQIAAGBqUKgAAACYGhQqAAAApgaFCgAAgKlRuDuAwfj4+MjISDweTyQSgiAIgpBKpViW5TiO4zibzeZwOMrLy0tLS3H3FCdZlgcHBwOBAM/zyWQymUwKgoAQUlOyWq1Op9Pn81VVVVFUkY8iiCILzCDN6OjoyMhIIpHgeV7NQY2CZVmr1Wqz2ex2e1lZWVlZGe6eFrZ59JiPwcHBgYGBoaEhkiQdDgdFURRF0TSt/leSJFmWtf/yPC/LclVV1cKFC6uqqnD33TiCIAwODvb394+MjHg8HpvNRpKkFhRCSJ9SKpUKhULl5eU1NTVVVVUcx+Hufi5BFFlgBqnS6bQaxfDwME3TTqdTPzC0KNQcJElKJBKiKFZWVlZXV1dVVZEkifsTFJ55UahOnTrV3d1N07Tdbnc6nSzLTue3UqlULBZLJBKpVKq5uXnJkiX57ideqVTqxIkTvb296pey0+m0WK69ZziTycRisXg8Ho1GGxoampqaphmvmUEUWWAGaTo7O7u7u+12uzowGIaZzm+JohiLxZLJJM/zK1euXLFiRb77WWSKvFCdP3/++PHjNE17vV6bzTa7hSQSiUAgkE6nW1paampqcttDk+js7Ozq6vL5fCUlJbNb40un02NjY+FwuLm5uaDnIUShBzNIc/r06a6uLqvV6vf7Z73FLAjCxMSEIAhNTU3FUbmNUbSFKhaLffTRR4Ig+Hy+nDwbOxaLBYNBjuOuu+46h8Mx9wWaxPDwcFtbG8Mwfr9/7lsAqVRqYmJCFMWNGzdWVFTkpIeGgSj0YAZpJiYmPvroI4vF4vP5Zl2t9RKJRDAYzGQymzdvLikpmfsCi15xFqrh4eEPPvjA7/f7fL7cLjkQCASDweuvv74Qv3omO3PmzJEjR6qqqnLyTaSJxWKDg4Pr1q1raGjI4WLzCqLQgxmk6e3tbWtrq66udrlcuV1yOBweGhratGnT4sWLc7vk4lOEher06dNHjx6tqqrK+cBSRaPRoaGhtWvXNjY25mP5huno6Dh37lxlZWU+jvwLgjA0NLR48eLVq1fnfOE5B1HowQzSdHR09PX1VVRU5GRDarJEIjE8PFxXV1coYwOXYitUR44cuXDhQnl5eV5PuxIEYWRkpKamZs2aNflrJa8++OCDcDhcXl6ev3OQ0un08PCw1+u9/vrr89RETkAUejCDNB9++KF6Jmdez9NLp9MjIyNer/e6667LXyuFrqgu+D19+vSFCxeqq6vzfXIwx3HV1dX9/f1nzpzJa0N50tHREQ6H832mLEmS1dXVoVCoo6Mjf63MEUShBzNI09HREQqFDDibnCTJqqqqYDBo8rGBF7lr1y7cfciN4eHhAwcOVFdX0zRtQHMWi8VqtZ48edLv9+f2qEa+9fb2njp1qqqqiiAIA5qz2+3nzp2zWq1er9eA5mYEotCDGaTp6enp6emprKw0ZmAghOx2+/nz52mazvlBweJQJFtU8Xh8//79lZWVRl5PYPuTAAAgAElEQVS5wrJsZWXl/v37Y7GYYY3O0cTExMGDB/O9N0OPJMmKiooDBw5MTEwY0+I0QRR6MIM0w8PDR48eNXJgoMtjo729fXh42LBGC0iRbFG9//77DocjT8d+r0K93G9gYKC+vt7gpmfnD3/4Q2lpqd1uN7JR9XL9vr6+pUuXGtnu1UEUejCDNOrAyNPZE1dBURTDMGfPnl22bJnBTZtfMWxR9ff3C4Lg8XiwtO7z+RKJxPnz57G0PiOnT5+2WCxYdrO43W6EUE9Pj/FNTwmi0IMZpOns7OQ4DteuSKfTSdN0Z2cnltbNrBgK1bFjx3DNMZXP5zt+/DjGDkxTV1cXxqB8Pp95ZiBEoQczSJVKpbq6utQ1CVzUsZFKpTD2wYQKvlCdOnVKvUUmxj44HA6CIE6fPo2xD9ekriparVZcHbBarRzHdXV14eqABqLQgxmkOXHihNvtZhhGwYdhGLfbfezYMbxRmE3BFyp1DQjjwFJ5vV5TrSNnSafTJ0+e9Hg8eFPyeDxdXV3pdBqiMEMUKphBKkEQent7zXDSnd/v7+vrUx8lA1SFXagGBwcZhsG4aqyxWq0kSQ4ODuLuyNQGBwdtNhv2m3mrjyzCmxJEoQczSDM4OKg+sANXBzQkSTqdTuxjw1QK+zlv/f39HMcp5ri5ht1uHxgYMOejdwYGBliWNUNQNpvt4sWLixYtwtUBiEIPZpBGvcTNJFHYbLa+vj7znAmJXWFvUY2MjBh8evFV2O12064EDQ8PmyQo7ClBFHowg1SyLI+NjZkqivHxcVmWcXfELAp4i2p8fNxisdA0bZKVIJqmSZIcHx832xO4R0dH1WePmiEo9WKR0dFRLA/nhij0YAZpBgcH3W43QZjl3qcEQTgcjsHBwcJ9fFduFfAWlalWBlUcx42MjODuRbbR0VEzHITQsCyLKyWIQg9mkCYQCBhz46jp4zguEAjg7oVZFPAWVTweN+xOXNNEUZSpbgajisfj03mSumEoiorH41iahij0YAZpeJ4nSdIkm1MqkiRN+GWCSwEXKnOOrUQigbsX2RKJhKmCwpgSRKEHM0jD87ypNrURQhRFmfDLBBcTrV3OlCAIFGWuQktRlAmvfkgmk6YKCmNKEIUezCCNIAgWiwXD5WNXZrFY4P4UGnMN0xkRBMHr9SpmWh+0WCwmLFSpVEqdhLg7cgnGGQhR6MEM0qRSKRPWbChUmgLeohJF0YRjSxRF3L3IZragMKYEUeiZLQ2ENRCzHa4DegVcqBiGMcMdaPRkWVYfW2AqZgsKY0oQhZ7Z0kD4AmFZ1mwXLcmyjP3+KeZhrvWpGeE4TpIkU53EZc6xpU5C8wSFMSWIQg9mkMZqtUqSZKrtS1mWOY7D3QuzMNEYnSmO48y2PphOp8127hBCiOM4U60tptNpXDMQotCDGaSx2+0mjAIKlaaAC5XT6TTVlw5CSJZls11BiRByOp2mmoQYU4Io9GAGaWw2mwmjwPX8RhMy0abuTNlstlAoZKpzlmRZNv4J1tdks9mCwaB5gsK4TwOi0IMZpPH7/RcvXjRVFJIklZSU4O6FWRTwFlV5eXkymcTdi08QBKGyshJ3L7KVlZWZ6lzEVCqF6w7ZEIUezCBNVVVVPB7PZDLGNz2lTCYTi8XM+SgGLAq4UJWWlmYyGUmScHfkEkmSMpmM2e5IixAqKyuTJMkkezZkWZZlGddtWCEKPZhBGoqiFixYYJ47QSQSiQULFpjq5A68CjuI6urqYDDodrtxdwQhhHier6iowN2LqVVXV0ciEZfLhbsjiOf58vJyjB2AKPRgBmkWL17c3d1tkmPMgiAsXboUdy9MpIC3qBBC1dXV5rl4WxTF2tpa3L2YWlVVlUmCkiQJ75MLIAo9mEGaqqqqRCJhhr1/mUwmkUjgfaKm2RR2oaqqqkqn02aYaalUShRF0+5TVr+dsR+eEUUxmUziTQmi0IMZpOE4rq6uLhwO4+qAJhKJLF68GM5N1yN37dqFuw9zQpLk0NAQ9quXQqHQ8uXLTXiASqXe4A7705gikciSJUvw7u+CKLLADNKUlJQcP37carVivAhakqRgMHjjjTfCASq9wt6iQggtXbpUURS8Jy8lk0lFUZYvX46xD9fU1NQkiiLGdWd1lbmpqQlXBzQQhR7MIA3Lsk1NTXifAhWLxZqamkx4gxu8Cr5QIYRaWlowPn0OIRSNRletWoWxA9PU3NyMcRLGYrGVK1fiaj0LRKEHM0jT1NSUTqcxPi9NlmWTrMGYSjEUqtraWqvVGo1GsbQejUZtNltdXR2W1mdkyZIlFosFy1eS+jDZZcuWGd/0lCAKPZhBehs3bgwEAqlUyuAHUKVSqUAgsGnTJtwBmFHBH6NSlZWVdXd3WywWmqaNbDeRSMRisW3btpnwpulT8vv9XV1dLMuSJGlYo6lUamJi4sYbbzTVbTsgCj2YQRqn08lx3Pnz5202m2HP/shkMoFAoKWlxbRnDuNVDFtUCCGn07lly5ZgMGjk1YuSJIVCoeuuu87hcBjW6ByVlJRs2rQpFAoZdhpuJpMJhUIbNmww2/1gIAo9mEF6DQ0N9fX1Rp4BGAqFamtr4dqpKymSLSqEkNPpZFn2woULVqvVgPWgTCYTDAabm5vNs8timrxebyqVGhsbM+ZEr0AgUFtba6pDMhqIQg9mkF55efnExEQwGGQYJq9pqDmoq035a6XQFU+hQgj5/f5EIjE8PEzTdF5PMFVPIa2pqTHJEeCZqqioMGASajNw48aNeWpi7iAKPZhBeosWLUokEhcvXqRpOk8ni6dSqWAwWFtba/KBgV1RFSqEUGVlJUVRZ8+epWk6T3vbk8nkxMREc3OzmefYNS1atCiZTA4ODtI0nY+DNKIoqt9E5l9PhCj0YAbpVVRUWK3Wnp4ekiRzfhSN5/lAINDa2mrajWzzIEx1Z/tcGR4e3r9/v91uz/kDXXiej8Vimzdvrq6uzu2SsTh79mx7e7vP58vtvq9kMhkMBtesWVNA+9whCj2YQXoTExMfffRROp222+05ucIplUrxPE8QxPXXX2/CA5YmVJyFCiEUj8c/+OADnucdDkdObkYiCALP8xzHbdmypZgeaDY8PHzgwAGSJO12+9zXoCVJ4nk+nU5v2rTJtLfovRKIQg9mUJYzZ86cOHHCYrE4nc5ZDw91VMiyvGLFClNdomByRVuoVP39/R0dHQghu90+6y13URTVa19Me+B37rq7u48fP26z2Vwu1+wOTmQymXg8zvP8smXLWlpact5Dw0AUejCDsnR1dXV1dTEMwzAMx3HTPHYly7IgCKIoiqK4YsUKuKR3poq8UKl6enqOHz+u7mW2Wq3TH1vJZFJ9fNHKlSux398l31Kp1PHjx/v6+qxWqxrUdE4uUO++o95itba2dvXq1UVw9xeIIgvMIL10Oj04OHj+/PnR0VGKoiiKIi+zWCwkSabT6Uwmk06n0+m0oiiiKMqyXFFRsWjRoqqqKiOv2ysa86JQqQYHB8+dOzcyMqJe1agfWOrY0oaXepV4JpOpqKiora3FfotrIwmCMDg42NfXNz4+brfbSR1180KbgSqe50tKSmpraxctWlRk93uGKLLADJpsdHR0dHQ0Ho/H43FBEILB4PHjxzdv3syyLMdxNpvN4XBUVFRgfDxmcZhHhUozPj4+MjKiH1vHjh277rrr9GOrsrLStLdCN4Ysy4ODg8FgMBwOqykdPXq0tbWV4ziGYRwOh8Ph8Pv9VVVVRX+bZ4giC8ygK9m1a9cPf/jDUCiEuyNFx+D7WZnQE0884fF4cPfC7CAlDUSRBQJRhUIhj8eDEPrFL36Buy/FpkhuoTRr4XD4hz/8YTgcfv7553H3xbwgJQ1EkQUC0fzgBz9Q77r09a9/HXdfis18L1QwtqYDUtJAFFkgEJVasLU/Q9nOrXldqGBsTQekpIEoskAgGq1gq+Z52c65eV2oYGxNB6SkgSiyQCCq8+fPawVbNc/Lds7N30IFY2s6ICUNRJEFAtE8//zzk58JMm/Ldj7M30IFY2s6ICUNRJEFAtFEIpEHHnjggQceUM/6u/vuux944IG7775bvakHmLt5cdnHlNSxhRB65ZVXwuHw3XffrQ6yjo6O1atX4+6dWUBKGogiCwSi+f73v6/+oaOjo6Oj44knnphvCeTbfLzgN8uaNWs6OjqOHj0KY+sqICUNRJEFAtFAFHkyf3f9AQAAKAhQqAAAAJgaFCoAAMgN9ewS9VgdyCEoVDC2pgVS0kAUWSAQkG9QqAAAAJgaFCoAAACmBoUKAACAqUGhAgAAYGpQqAAAAJgaFCoAAACmBoUKAACAqUGhAgAAYGpQqAAAAJgaFCoAAACmZqLnUZ04cQJLu6IoIoROnz4di8WMb725uXlG74eUNBBFFghEA1EUGdiiAgAAYGpQqAAAIDfUDSmn04m7I8UGChWMrWmBlDQQRRYIBOQbFCoAAACmBoUKAACAqUGhAgAAYGpQqAAAAJgaFCoAAACmBoUKAACAqUGhAgAAYGpQqAAAAJgaFCoAAACmZqKb0gIAQEFbv349ltvRFj1CURTcfbjEmBseE3LKOtzBhM5RiSCZDFmEcDoeQAhZ7D5k9cicR7SXyN7FyYrVCsUa0B/T3j2dmehhR7uoZIBKhslkSIyMWZGYYZ0K505bvbLVI1v9qbKVYskSAzqD9w7ZWWOGHx+wESJFUQrnVji3wWMG+93TC2IGGROFRUpww8foYB+VDFFCyCJELUIEIZTh3ArnSnMeyV4qemqEipYMbTOgP0V89/T5skVFChFuuMN+sZ0eOU6UNJKuSovdS3gXEqyDYOwIIUXklVRcEeOKGJd6f+898BOpfBVf3SpUrE5zbtzdNw471GEfPsINdRA0R/vrCNpOlNQRjN3BOAjWpqQSihhXRF5J8Up8WBo4oMiCUNHCV6xNVa7G3fccu9KYcSy+bh6OGZhBGpIftw13WAeP0BOnCH8D5SwnHCWEv5Zg7ATjQAhdmiNiXEnxUt97xKHnxJIlfFWrUNGStpfi7n5BKv5CRYpxZ/cr9nN/tJQ0Ut4aquFTiGQmv42gWGTzqX+mEUJpUQ70cQMfpY++EF98Y3zlXWnGYWi/Dec487br1BsWq4fy1pDN91gup6FHsA6C/TgHevH1mUSQCfRZu3+tHP55dPld8YabDexyvsCY0YM0NBQ/7uh+zd6/z1LeRJfUk0tvQRZy8tsIyveJKDJpJtBnHT4id7yQrNkSXXGXDOVqhop815/r1OvO7teoimZ60XqCts5iCYqUlC60ycOdkRV3xZfdnvMemmHXn/XCR+7uVyjWyS5cZ3FVzG4hmeiwONAuCfFo0z2JhZty20Mjd++YfMwYvOvP5Gkgo8YGISVdJ19z9PyOrtlEL2xFllmt4mdkqb9NGmiLL/l0dPmdyqzyvIoi3vVXtIWKG+30Hn6espcwC1stdv8cl5bhA9LAISk+EWr9K6GsKSc9VOEtVFR81HfoOUZKMgvXkb7Fc19gOnhOHDgs0tbg+r+RHWVzX6DKmC+jghgzhhWqgkgDGTI2bAMHPIf/lS5dQi9cR7BzfZqJkopJFw6J4z2R1r/K7SpdERcqcteuXbj7cMnY2FiuFuXoe8976Gdcw43MovUEk4PDmARjo0oaSNbOHP1lhnVJ3tq5L1NVVjazb/McpsSNdpbs+x5bupRbss1i9eZkmRarly5fQaZi3LGXJG+N7FiQk8VOmVIOo0CFM2auMmBgBmlyGIWz+xX3ydesyz9NVa4icnF6CEGxpH8x5apgul9V5JRYumzuy1TN9MukgBThMSp358uOCwe5VZ+1OEpRTrcXSV8dt+qz3lOv04nxcNPncrhk4znOvuM6/hK3dDvpr89tSgghumqthXP7P/hBZPUX4nVbc7vwfIAxowdpaPxtz9qiF9lVnyVYR26jsLgquebPoNNvM/HRwIYHc7jkolRsF/z6Dj7jGjvJrfpzwlGqIJTzF+EoZVd9xjHS5Tv4DO7POnue4y+6z77DtXze4q/PR0oKQhZ/Pdvyeffp37mPv4T7414DjBk9SEOz4P0nrakYu/IexDgUBeX8hRgH1/zn9lR0wftP4v6sZldUhcrd+Z82foxdfhtBsrkfVpdfBMlyK++wxUfcnf+J+xPPhuPsO/bBo9bld1hs/vylhBTFYvNbV9zpGDrs6HsX94e+IhgzepCGxtf2U4ZkuYab8rMi9/GLadjKkYy/7Vncn9jUiqdQ2c/vs5/fzzYYtKOJbbzZeX6/9fwHxjSXK9xop+v4S2zjNpSLAw/XxtjYhm3ujl9xo51GNDdDMGb0IA2Ns/sVW2SAa7jJmOaYhq3W8AVn9yvGNFeIiqRQMcFeT/vPuYZtBMXldSvh47VCimMatvnan2OCvbg//XRR8VHfgd1s4y353pbSvyw2P9N4i+/Abio+ijuAT4AxowdpaGwDB1y977IN2wybI0hR2MZb3H3v2gYO4P70JlUkhcrX9hzVcLPFVZ7v7XT9y+IqZxq2+tqew/3pp8vX9hxdtYb01xmZEkIK6a9jKlvMFhSMGT1IQ0VISXf7L9jGbQRrNzIKgrUzDds8h58npCTuDMyoGAqV48w7FGOjS5caOK4uvcjS5TTN2Xv/gDuDa7MNHKDlJF3RYnxKSEFU5RpG4q0XPsIdwyUwZvQgDY3r5GtM6RKLs9L4KCzOSrqk0Q07AKdSDIXKdfoNpqLF6GF1+UVXrnF3v4o7g2vzdP2GqVyNKyWEFLpqrbvLLJMQxowepKGi+HFHz++oyjW4oqAq19jP7KX4cdxJmE7BFyrXydctjnKLswLT0EIWZwXlLHecegN3Elfj6HnbwthJTw2ulJCCSE8NzdjsZ97BHQaMmU+AND6OovsVqno9wdiNPDr1ieN2jJ2qWuuCjapJCrtQWTKS4/SbTCW2lUH1RVWudp183ZKRcOdxRc5Tr+PdnFJfdNUa98nX8EYBYwbSmBLJj1v7P6BxPwSArlpn7f+AhI2qTyrsQsUOdRDOCovVh2sNSH1ZrD7SWcYOdeDOY2rsUIfF6rHYF+BNCSmKxb6AZJ14g4IxA2lMiRs+ZildjggS8zQhSLJ0mXX4GMYoTKiwC5Vt8DDtqsTdC4QQIt0LbUNHcfdiavbBdtpdhbsXl5DeRfahIxg7AGNGD9LQ2C8eojzV2Pc6IKSQnoX2gYMYozChwi5U7Ggn6VmEeQ1IUZCikJ5F7LBJt6i4keOkuwZ7RJeCctdwWIOCMQNpTGaREvRED+nGeRBXe5HuGipw1iIlcKVhQgVcqJjxU4ixI9aFe1whBSHEuhDrZMZP4U4lGzPRgygWWT363ob5BLagrB5EscxED540Zjhm8hoU9jEDM0jDDR8jvLWKhcSeg4KQYiEtnhoO9v7pFHCh4sa6afdC7GuC2ot2VnIjeXmU31ywo10Wd/Yq8/Hegc1f/T8v/P5DPEG5qtnRLixpzHTM5DsovGNmLjMoEueLKQ062EfO4SBuJJ7IbRQWRxkd7MMShTkVcKGiEgGCyvEjMueCYBx0MoS7F9moRICa6kGix/sGHvzBv27+2pMv/MHoi3AJxk4nJgxuVDWLMZPXoPCOmbnMoON9F3OeCcY0qESQYGyz3gQ63ndh89f+zwt/+DBX21QEY6MTASxRmFMBFyoyGSJoa55WdWfxImgrlQziTiUblQwRtG2KDiOEPv4WNnTriqBtuL6PZjNm8hkU3jEzxxmU80wwpkELIYKyzaW4HO+7+OAP/m3zV5984fcfzb1UERS2OWJOBfzgREoII/8Sdf92/tjvfHiGv/GrvPQjn473XXzwh//249ff/ds7tt6/bZbPxp55UC/MriGMchLUJ9A2ixDJwXJmZW4zSCvhucsEXxqEECUY6xy+TC6nce7igz/8tx+/9u7f3jmnNAjGioTorH+9+BRwoSKEWE4ekg1U/aOBMJ+I8Em33UQ7VE1opkFdu4T/7zdz0K1Zys39IKZfrkycxtu5WpCuXN10/9bZlCuCshIpKFQfK+RClYpeeiRBPvGv/nja780I7f8y+Ll/ndHym5ubZ/T+EydmdrS56uX/zrV+CSFC/8N9nWd2PPYD7a9uu/XRnbf9xbZNl755ZxVpXoOaMqWZRoGukMZV5COoItY/GgjHE5F4AtZ1EEL9Y4EIn4Q1v5wo4EKlsC5FTBJTnSmAhSIlFcaBuxfZpk7p8jes2259dOetf7HV0G9eRUoorMuAhqZoeqZjJhdB8a/8/1dcvJQQTr0+dNf0a/zV1mxmWrkrX/uf3NLbZzeD9nWe2fGtH2p/nX4+uU0D5WglpuK337AuvpGY7bCcnMZjO2+9fw7TShETCuucXWeKUkEXKqci8QTN4e7IJYrEKxye79+ryEydkuK2Wx/d+emPv1nyfKjvE23jm4QzHzP5DQrvmJnbDNKX8NzkgzGNDOdSRJ6Y/bD8OI3Hdt56/9aNc0xDkXiFc8+2M0WogAtVmnUhKYGQH3dHLpOSadZ0Y0uxeiandENT48mf/iO2PRJSImP1YGl5pmMm70FhHTNznEGTStSc4UtD5jyKyM9+j4KC3HbrY/d++uMSNbedE4rIp6FQ6RRwoZLsJYqYIExznEARedlumqp5mWgrsYr85JQ8trwf3rsSRUqIVh+WpmcxZvIaFN4xM5cZ9KmVDaee3ZXbPcYY05BtfpQITffQ5SSfatKlkRNSUrKZ7ssEowIuVGmbTwmeN3Kf1dUpIp/xVOPuRTbZ6lXC/eZJCSGkiPGMbzGWpmHM6M0xDbedy/GOUHxpSL46eeItSsnMegluG4vm8OvZ/UlMiNXrcrW0IlDAF/wKC1bI8ZF8X506/Vc6NpwoX4U7lWypspVy5CL2cPQvOTqULGvCkgaMGUhj6igqWlDkAlLSWFrPpqRRuF+oaMHdDxMp4EIlli5TxLiSiuHuCEIIKalYRuLF0mW4O5JNLFmipEUF31WlWRQhoqRFsWQJltZhzOhBGpoMbRN9jenwAPZqjRQlHR6Q/I0ZGi4S/VgB7/pDCCUr1zDRAaoEf3lIRwdETFsJ15SsXMNEBihznO2ajgykymd26VhuwZjRgzQ0iYUb2IGDpGcRxj6o0rGh5MINuHthLgW8RYUQEipWy9Fh3L1ACKE0P8ZXr8fdi6klKtakY6ZICSEkx4fj1TgnIYwZPUhDk6xoyQTOoLSEeYsqLaWDZxOVazBGYUKFXahSlasziYlMMoR3bGWSoUx8NFW5GnceU0tVrk6LsQw/jn2fRoYfzwhRvEHBmIE0ppS2l/I1W6QxPA+g0UhjXalF16XtpXi7YTaFXagyFjq+/HZx/GSu7q4/u5c83h1bdnvGQuPO44oiy+/CnhJCijTWFV1+J94oYMxAGlcSX3GXPNapiHGkZLC8FDEuj3WGV96DNwcTKuxChRCKLrsjw49n4mPYVgbjYzI/EV12B+4kroZvvEWWhHRkEONaczoyKMup+JLtuMOAMfMJkIZGtpfGl+yQx7oIhLC85PGTyfqbZdicmqTgCxVCKLLybnH8FK6xJY6fwr6VMB2RpnukCWwpEQhJ4yejK+/GHcMlMGb0IA1NdPldUvRiJj6Ko2CPSuH+UNNncGdgRsVQqPj6bbIiycFe48eWHOyVFSneeAvuDK4tuWizyDqk8ZNY1pql8ZMS6+BrrscdwyUwZvQgDY1CW8PrHhAG2xSJN3LnpyLxqcG2yNq/VExzl21TKYZChRAKbviyONiWSYwbObYyiXFxsC244cu4P/10BTd8WQz0pKMDBh+BSEcHxInTgY0P4g7gE2DM6EEamsTCTdH6banBQ0YW7NTFg/G6m8yzJmc2RVKoRF99sPVvUoOHFEkwZmApkpAaPBRe9yXRV4/700+X7CgLbno4NXDAyLO8MslQ6uLB0MYHZUcZ7gA+AcaMHqShF1t5D+9dnBpqN6a51FB70lMThp1+V1YkhQohlKy9PlZ7Q2r4iDHNCUOH+Jrr+cU3GNNcrghlTZE1X0wNHUayYER7spAaPBRp/nyywozn7sOY0YM09IIbHxQsltRQe743K1ND7SmkTGz+W9yf2NQK+84UWSLNn6MSE2jgQ7ZiLUEyeWpFSYvCYHvSUx1adW+emsireN1WKjaCLuxnK9ZauDw+biMjhFNDh+ML18cb/yx/rcwRjBk9SENv7KZv+Q/sVvr/xFa05uMBrYqUTA0eSnproEpdU/FsUakCGx+KVawS+v+UEcL5WH5GCAv9f4pXrApsejgfyzdGuOUL4eW3C+feS0cH89REOjoonHsvvOTT4ZYv5KmJXIExowdp6AU2PRReuCnZ/8cMn+PT9zP8mND/x9iijVClpqOotqhU4ebPS/YF7qP/zlVtIJ2VOVxyOjYkDLZFW+6LN9ycw8ViEa/bKtsX+D76MSPGaX+ObxErhnqliZ7Q5v8vWSB3goExowdp6MVW3pN2Vbjbf8E4K+mSZXPftFKkpBQ8I0UvRlbfz9duyUkni14RFiqEEF93Y9pe4j30Mzo2SPuXWNi5Pt86k4pKgR4pFQ1t+bqA+0aiuSKUNY3dvMvX9lOm/4+MfwnpKJ/7MtPxETF4RqTtwZufMNvZE1cHY0YP0tBLLNyULG9xdb/qOPM72r+U8S9FFnI2C8qkxdBZaayLb9weueF/wZno00coioK7D5ecOHEi58t0nHrD1fUK46mhS5bNbp+7khbFYI8cPBdfdlskD7c2aW6e2a3E85GSbeCAp/O/SAvD+hoss332biYZTAXOpBUpsvyunK8nTplSPqJAph8zVxkwMIM0eRobFD/u6foNe+FDyrWIdJZTjgpETOPoiZKR48MyP5YOn08tui688p483Xtipl8mBaTICxVCiBTjzq7f2M/9kXRWUvYFpKOCsFx7O1LJyGl1bMWGE7Vbok2fSTOOfHTPDIVK5Tj7e1f3KyRto2wLSGe5hZnWY0EyYlbqOh8AACAASURBVCwdG5ES4xmJjy67Pb5kRz76ZuSXETL3mDG4UCFzp4EMHxsIIZIf54aP2QcOMsGzhL2CsnoJiiNojqA4guIQQoosKJKgyIIiC3IylIkPy966xKINicq1eb3bLBQqI+R3bAkRbrjDfuEAPdZtcVVRnIegrOrAImgOIaQNLEVOykI4Ex2US5fFqzcI1a1pzp2/jpmnUKnYoQ7nwAFmtMtC0pStxKKmdGkSsoqc0iZhJi3K/GgmLQnlzXz1hrze+tr4LyNk1jFjfKFSmTMNhGlsqCxSghs+xkycofkJMhW1pCIoFUcIKYwDcS7Z6pWsPrGkUahoMeYpiFCojGDM2CLklHW4gwqd42IjFiFCCBEiFUMIKaxTYZyyvUS2l4i+umTFaoViDeiP2QqVhpnoYUe7KH6CSQYsybBFjKNUTGGdCuPIWD0S503bS5LlzcY8qxfjlxEy2ZjBVag0pkoD4R4bplLEhao4T6a4CoViEws3ooUbo7h7YnJiyRJcD4w3GxgzepAGMF6xXUcFAACgyEChAgAAYGpQqAAAAJgaFCoAAACmBoUKAACAqUGhAgAAYGpQqAAAAJgaFCoAAACmBoUKAACAqUGhAgAAYGpQqAAAAJgaFCoAAACmBoUKAACAqUGhAgAAYGrz7jEfAACQE5ee2ZYMUMkwmQxZUlFCiCqcK8O60lavbPXIVn+qbCU8Lmfu5l2hYsZPcaOdVDJMJYOkECEujy2FdaU5j2z1yjafsGCFWLoMd09xUh9dSgf7qGSIEkIWIWoRIgihDOdWOFea80j2UtFTY9ijSzGCKLLADGKHOuzDR7ihDoLmaH8dQduJkjqCsROMg2BtSiqhiHFF5JUUr8SHpYEDiiwIFS18xdq8PgW7uM2LQmXJSOxQh23oCDt83MK5KF8twdgJRyPB2AnGfnls8Zde/Kh05JAiRIWKlmTlmlTl6oyFxv0JDELy47bhDuvgEXriFOFvoJzlhKOE8NeqkxAhdGkGinElxUt97xGHnhNLlvBVrUJFS9peirv7uQRR6MEMUjnOvO069YbF6qG8NWTzPRabb/J7CNZBsA7tr/Ti6zOJIBPos3b/Wjn88+jyu+INNxvY5SJR/I+id5163XHyDdJTTXkWkr46wuqezm8pyUg62CeGB5TIYHTZ7fFlt+ejb8g0j6Kn+HFH92v2/n2W8ibaW0v665CFvPavZdLpQF862CePdidrtkRX3CXn5zvayMeNF2IUKphBmpxHYb3wkbv7FYp1sgvXWVwVs1tIJjosDrRLQjzadE9i4abc9hAV9aPoi7lQOc6+4zr5BumuZBaus9hLZreQDD8hXzgkRUciK+7k67fltofIBIWKkJKuk685en5H12yiF7Yiy6w2sjOy1N8mDbTFl3w6uvxOhbbmtpPGfBkVbhQqmEGaHEZBxUd9h55jpCSzcB3pWzz3BaaD58SBwyJtDa7/G9lRNvcFaqBQGSGHY4sJ9voOPUcxdrZ6rcVVOfcFZqJDqYtH5BQf3PA3oq9+7gvU4C1UtoEDnsP/SpcuoReuI1jnHJempGLShUPieE+k9a9yu8JoQKEq6ChUMIM0uYqCG+30HdhNV69jqtfkZIEa6eJh8eLR4KaHhLKmXC2ziAsVuWvXLtx9uGRsbCwny7Gf3+f/4Ads7XXs4uvn/o2jIlgnXbqEJAju8POyrVT2LMrJYhFCZWUzW6XKVUoIIWf3K+6Tr1mXf5qqXEVQ7NwXSFAs6V9MuSqY7lcVOZXDw+lTpgRRZIEZpMlJFI6z73jaf84tuZkuWzH3pWUhXRWk1c0c/aXCOkRvDjbU0My/TApIsZ1M4e78T8f5D7hVn7W4KlGuNxapshUWq8ff9XIsPhxp+mxuF24wf9uztuhFdtVnCdaR26Asrkqu+TPo9NtMfDSw4cEcLjlPIAo9mEEqz/EX7UNH2ZbPW+wledrpZPHXsy2fd5/+HRkfj6y6Nz+NFImiuuDXd/AZx1g3t+qzhLNSUVA+XoSzkm3+nHOs29/2DO6PO3sL3n/SmoqxK+9BjCMfKSHGwTX/uT0VXfD+k7g/6zVAFHr+NphBCCHkOPuOffCodfkdFps/LylcfllsfuuKOx1Dhx197+L+0KZWPIXK0/mynR+zLr+NoDmElPy9CJrjlt9mjQ57Ol/G/aFnw9f2U4ZkuYab8poSQgrTsJUjGX/bs7g/8RVBFHqezpdtcZhBiBvtdB1/iW3chhhDLoxjbGzDNnfHr7jRTiOaK0xFUqgcve/aLxxkGnN/TtGVsEv/zHHhgL3vfcNazAln9yu2yADXcJMxzTENW63hC87uV4xpbkYgCj2YQSoqPuo7sJttvCXf21JZ21VM4y2+A7up+CjuAEyqGAoVN9rpPvYi27iNIFnDxhZBskzjze6jLxTQepBt4ICr9122YZthKSFFYRtvcfe9axs4gPvTfwJEoQczSONre46uWkP66/K9kZ31Iv11TGWLr+053AGYVDEUKu/hXzCNN1vsJQaPLYu9hF1yi/fwL3AHMC2ElHS3/4Jt3EawdiNTIlg707DNc/h5QkrizuASiCILzCCVbeAALSfpihZjY7j0oirXMBJvvfAR7hjMqOALlevU66S9lPTVYRlbpK+Otvldp17HHcO1uU6+xpQusTgrjU/J4qykSxrdptnrBVHowQzSeLp+w1SuxpDC5RddtdbdZaKxYR6FXahIMe7sfg3v2KKq1jq6XiXFOO4wrobixx09v6Mq12BLqXKN/cxeih/HnQRE8QkwgzSOnrctjJ301OBLApGeGpqx2c+8gzcKEyrsQuXseoUsW2mxeo080pD1sli9dNlyV+evcYdxNa7uV6jq9QRjx5USwdipqrUuE2xJQBR6MIM+juLU63gLtvqiq9a4T76GNwoTKuBCRQoR+7k/0lU5vrXJLFDVrdbzfyKFCO6OTI3kx639H9C4HzFAV62z9n9AYt2SgCj0YAZp2KEOi9VjsS/AWLAvlW37ApJ1skMduKIwpwIuVNxwB+FdbOR5SldcRyZZyreYGzbp2OKGj1lKlyOCxBwUQZKly6zDxyAKM0SBYAbp2AfbaXcVrtazkN5F9qEjuHthLgVcqOwDbbSnGvumuvoi3Qsd5jvtWGW/eIgyR1CkZ6F94CBEYYYoEMwgHW7kOOmuwV6w1RfprjHtWi8uhVqoCDlFj3aSnlrc8+vSi/TUUqPdhJzCHUw2i5SgJ3pIN85DxB+n5K6hAmctUgKiwBsFghmkw0z0IIpFVg/uDC69kNWDKJaZ6DE+CtMq1EJlHe5A/gaFpLGPqksvkrZ4a63mWw/iho8R3lrFQuKPCCHFQlo8NRymXV4QhR7MIA072mVxL8K+IaV/0a5qdrTL+ChMq1ALFRM6Rxl4j5PJr0icz/qJxVHGhM7hDiYbHewjjTpEPDmTyS+Lo4wO9hV9FNPJBGMUCGaQDpUIULl+vuUcEYydTkzg7oWJFGqhovgJgrZhWfPbd+L0jkf/+ZvPvZz1c4K2UXFTXByjRyWCBJP3oK6UyeQXwdjoRKCIo5h+JhijQDCD9FEkQwRtw1izJ78I2kYnQ8ZHYVqF+jwqKhki7AuQYmij+070PLnnzX0nehBCNds2Z7VO0DYq3G9oh6aBFkKEozx/QV09k8kIykYnz+erN1eV7yg008wEYxQIZpAOmQwhfwMyOIuro60WIYy7EyZSqIWKECKX146NsO9Ez5N7fqtOsMuUrNYJxkakYsb0Z/oIIUow1nwENZ1MpugPY0VCNOedmY78RaGZUSYYo0Awg3QsqRhBG/JEj2kjaBshmO7LBCNCUcyyHnHixInpv7nyN1+2Nt+LSCZ//VHt6zzz5Itv7us8k++GjPTozlsfu++2Wf86ZDIZZHIlRZnMY/fd9ujOW/PZQkZo/5fBz/3rjH6nubk5T73BrlC3qBBCiDDiAFs4nrgwFjSgoQICmUwGmVxJcSajHkzK3+KlhMK68rf8glOoW1QVv/2GdfGNhFH/lq8fPP7Iz/+rf+zjQ9/3b9307Ffv179HEcLJ838cvvV7M1ryTFeCZpQSymdQ08lkMkWIJM+9N3zbP8+orSlTMk8UmhllksMoVDCDNDOKonzvo9aqVovNP6N28yrDTwhDh4e3f2dGv1XEW1SFetZfhnMrYtyw85Tu2Njc/dNde/7hb2oW+C53Ifs9isQrnAdnKFPJcC5F5HFlcoWU3EUWxewywRgFghmko1g9CN+V11OTEhmr6b5MMCrUXX+yza+IfF63vie7Y0PzHRuaXz94/JF/+TVCKKt1RUxk8H3vXInMefIa1NUzmUwR+TSmlPIdhWaamWCMAsEM0hFtJVaRJ0yzbwkhpEgJ0eq79vvmjUItVGmbD8XHCRxN37lx1Z0bVx0/N5jdupSQ7CU4enQ1ss2PEqF8B3XFTCaTkhKmfSzGRKG5dib4okAwg3Rkq1cJ9yNkpkIlxjO+xbh7YSKFWqhE72J5tJtSMrg6sKq2An2ydTkxkVq4AVd/rkTy1ckTbxkT1ORMpuhPYkKsXmdAZ6Zo2sAoNFfJBGMUCGaQTqpspdz/AV22yvimr0SODiWX34G7FyZSqMeokhWrlXA/yki4O3JZRlJC55MVmB90NJlQ0YIiF5CSxt0RhBBCShqF+4WKFiyNQxR6MIM0YskSJS0qpnmenCJElLQolizB3RETKdQtKoVipQUrmfAA6TXFBnI6PCAtWKlQLO6OZMvQNtHXSIcHSE8N7r6gdHhA8jdmMF1cCVHowQzSS1auYSIDFOvE0nqWdGQgVV605+/NTqFuUSGE+EUbpdiQYactXf2Vjg3y1a24I5laYuEGOT6MPSKElHRsKIk1JYhCD2aQJlGxJh0bxtV6Fjk+HK823UEEvAq4UAkVq5XIBUUSsN9BUpGEdOSiUIXteMPVJStaMoEzKC1hDiotpYNnE5U4H3wOUejBDNKkKlenxViGH8ceRYYfzwjRVKXpDiLgVcCFKs25+cU3ymMzu+ozH6TxrkTtFoynGl9d2l7K12yRxjA/3kYa60otui5tL8XYB4hCD2aQXmT5XeL4SexbltJYV3T5nRhzMKcCLlQIodjKu6VAbyYZQkoG1yuTDMmBM9Gmz+AO42riK+6SxzoVMY4rJUWMy2Od4ZX34E4CovgEmEEavvEWWRLSkUGMm1PpyKAsp+JLtuONwoQKu1ClGUd85V3SxEkCIVwvebw7vuKuNOPAHcbVyPbS+JId8lgXvpROJutvlnFvQ0AUWWAG6UWa7pEmTmGMQho/GV15N+4YzKiwCxVCKLrsDlmIpCMDmNaABiQhEl1WAFc8RJffJUUvZuKjGHa7x0elcH8I9yqzBqLQgxmkSS7aLLIOafwkliik8ZMS6+BrrscdgxkVfKFCCIVa/4cw8FEmGTR4b3ImGRQGDoTWfwl3ANOi0NbwugeEwTZFyu/97rJeisSnBtsia/9SMc3TvvFGETZTFCqYQZrghi+LgZ50dMDgKNLRAXHidGDjg7gDMKliKFRCWVN4zV+kBtsUOWXY6o8ip1KDbdHV9wllTbgDmK7Ewk3R+m2pwUNGriemLh6M191ktvVEXFHE6m5KmCwKhJBQ1hSBGYQQQkh2lAU3PZwaOJBJhgyLIpMMpS4eDG18UHaU4Q7ApIqhUCGEEnU3xmquSw21G9aiMNgWX7gpXr/NsBZzIrbyHt672LCgUkPtSU9N2Ex7ujRYooiYMgqEEF93YxxmEELoUtn+YmroMJIFI9qThdTgoUjz5014XxvzKJJChRCKNH+ed1cJAx8qspDfHTiykLywP+muDrfsxP2hZyO48UHBYkkNted7b0ZqqD2FlInNf4v7E18RRKEXbv58AmYQQgiheN3WePW65IX9mWQwz2c8BpP9++IL18cb/wz3hza14ilUCKHgxoeiFS3C+ffyd+Fehh8Xzr/HV7QENj2M++PO3thN3+LtpUL/nxQxkZe9OmJCOPfHhM0/uu0J3J/1GiAKvQDMoMvCLV8IL79dOPdeOjqYpybS0UHh3HvhJZ8Ot3whT00UDXLXrl24+3DJ2NjY3BeSKlspsW66+9cEZbXk+iFscvh86uJH4dX3R5fdlqtllpXNbK90TlJCCCWr1yupOHnuPZJ1ETm941wmMZ66eCBeuyW47r/naplTpgRRZIEZpMlJFKJ3seSvp0+9TigKac3xA1nEUK841h3a9FCidkuuljnTL5MCUqg3pb2KZO31465yX9tPqdgw62/MyROmM4mAFOgRM3Jw6+Oir37uCzSD2Mp70q4Kd/svGGclXbKMmPOpaIqUlIJnpOjFyOr7+dxNPwNAFHowgzRCWdPYzbt8bT9l+v/I+JeQjvK5LzMdHxGDZ0TaHrz5CTh7YpqKsFAhhERf/ciOpxx977q6XqEZF12yxMLO8u4smVREDJ6VhXB02e3Ftx85sXBTsrzF1f2q48zvaP9Sxr8UWcjZLCiTFkNnpbEuvnF75Ib/ZbbTr6cDotBTZ5C99w/u7lfn+QySHWVjWx+3DRzwdP4XGe5nfQ2W2T57N5MMpgJn0ooUWX5Xwa2+4FWchUoVr9sar9vqOPWG6+RrFquftpdS9nKCsU/ndxWRl/kRiR/PJAPxZbcX8d23FNoaadnJN2zzdP2G7XmNci0ineWUowIR0zh+qWTk+LDMj6XD51OLrgvf+n9NcsOF2YEosvD12/j6bTCDEEKJhZsSCzc5zv7e1f0KSdso2wLSWW5hpvVYkIwYS8dGpMR4RuKjy26PL9mR794WH0JRFNx9uOTEiXzdHNOSkdihDvtAGzPaaWHslNVvoa0ExWkvRRa0VyYtyvxYRuRT5c2J6vWpytUZC52njiGEmptn9uCZ/KWEECL5cW74mH3gIBM8S9grKKuXoDiCvpQSQkiRBUW6FJScDGXiw7K3LrFoQ6JybV5vsTplShBFFphBmryODXaowzlwgBntspA0ZSuxUFbd2GAVOaWNjUxalPnRTFoSypv56g35vif6TL9MCsi8KFR6zPgpbqyb4ieoxAQpRKLh0J72iw/eUKuwzjTnTlt9ks0vlDeLpcsM6AwyWaHSWKQEN3yMmThD8xNkKhqLBF48cO4rmysUxoE4l2z1SlafWNIoVLQY8+g/47+MNAURhQpmkMagKCZ62NEuip9gkgFLMhyLhF88dOHBT9UpjCNj9UicN20vSZY3G/as3iIuVMW8629KYuky/RR69dVXH3/78XV/97PKykqMvTKbDG1LLNqcWLRZ/eurr776+N7HW7/+03mYEkSRBWaQRixZoi9C8zmKfCuq66hmKhaL/fKXv0QI7d69G3dfzAtS0kAUWSAQDUSRV/O6UL366qunTp1S/zA0NIS7OyYFKWkgiiwQiAaiyKv5W6hisdgLL7yg/RXWg6YEKWkgiiwQiAaiyLf5W6iyVnzeffddWA+aDFLSQBRZIBANRJFv87RQZa0BqT+B9aAskJIGosgCgWggCgPM00L1wgsvTF7lgfWgLJCSBqLIAoFoIAoDzLvT01VOp/P++++PxWLvvvtuLBbbunWr0+lECA0ODsKppRpISQNRZIFANBCFAeZpobr//vvVP6jD684779y6dSveLpkQpKSBKLJAIBqIwgDzdNcfAACAQgGFCgAAgKlBoQIAAGBq871QxWIx3F0oAJCSBqLIAoFoIIr8me+FSqWepQOuDlLSQBRZIBANRJEPUKgAAACYGhQqAAAApgaFCgAAgKlBoQIAAGBqUKgAAACY2jy9hRIAoIg1Nzcb36jdbkcI1dXVYWm9uJmoUGH515UkCSG0du3aQhlbkJIGosgCgeAVDocRQh6PB3dHihDs+gMAAGBqUKgAAACYGhQqAAAApgaFCgAAgKlBoQIAAGBqUKgAAACYGhQqAAAApjbfCxVc+jAdkJIGosgCgWggivyZ74UKAACAyUGhAgAAYGpQqAAAAJgaFCoAAACmBoUKAACAqUGhAgAAYGpQqAAAAJgaFCoAAACmNt8LFVyjNx2QkgaiyAKBaCCK/JnvhQoAAIDJQaECAABgalCoAAAAmBoUKgAAAKYGhQoAAICpQaECAABgahTuDmD2ta99DcEZpdcCKWkgiizzNpCkFO8eabsQ7AklxyJCICaEV+xYgNCCHx34moN1uzl/qaOyylO/onyDlXbg7mzBIxRFwd0H40weW/FUGCHkYD0wtvTOjh8/PXY4nJwIJcZiqTCfivBi1M647Kzbxfk81hKfrayxdHVD6SrcPc07GDN6kEaAH+kc/uj44Ifng13lrsV21stSVpayMZSVpWwIoZScEOVkSk6k5GRCjAxHemt8K9ZUf2pF+Qa/vRx39wvVvChUMLamQ0qL3SMHjw1+cGq03Uo7fPZKmmRZyspQNpayshSXkoWUnFSDEmQ+khxPirEV5RuaKzevKN9IkwzuT5BLMGb0IA2EUIAfefvUrw5deKfas9RrLS9xVFsI8pq/lVHSE/GLE/zF4Whv68JtO5bf7yuWQIxU5IUKxtY0vX3qxXd7/sNrK3NzZSWOKivtnM5vJaXYRHwwKowFEyO3LN25bem9+e6nAWDM6EEaCCFBSrx96pfvn/11XcnqRZ7lpGU2R0zSGfl88MT5YOeNDX/+Z8u+yNG2nPeziBVtoYKxNU1/OvvKO6f3uLnShd5lDtY7u4XEU6Hzwc54KrR9+Re31N2R2x4aBsaMHqShOnLx/ZeP/miBs2ahdwVH2ee4NEHmzwdOTMQHPr/2a2urb8xJD+eD4ixURwbef7kjD2NrzdfWLiyesdUfPPXL9v9LWugqz1KPdcHcFxhOjg2GT8tp8f71/7vGt2zuCzQSjBk9SEP1VvcL+/teX1a20WMry+Fiw4nRU6MHttTduWPF/TlcbBErwkKV17F1Q/2d25cXw9g6eH7vS0d/0FSxZYGzNrdLHo70nhz96AvrvtG6aFtul5w/MGb0IA3Vv7V990KoZ1nZZvU4XG6l5MTJkQ9rfEv/csPf53zhxafYChWMrel4o/NfDva/s3TBBncuNqQmiyTHTo8d3FjzZ7c3/Y98LD+3YMzoQRqqH/7x79KZTGNpa15bOT3WRpPU1/7bP+e1lSJQVIUKxtZ0/Puh7w5F+htL19Ekl79WpLRwZqy90lP7F+tN/ZUEY0YP0lC9cOjpsfhQQ+k6A9rqGWtb4Kj8yw3/YEBbhYvctWsX7j7kxguHno6nogaMLb+9ajw+cHb8WEvVDfluK+fe6PyX3onOFRXXW2Z1bHz6LBaq1Lno7HhHJDmxZMGavLY1azBm9CAN1VvdL5wcPby8bLMxzfntVafH2pNifD5clThrRVKoYGxNx77e1z7oe2N5+fUkYdAdSby28iMX/8BR1oXeRmNanD4YM3qQhurIxff3nvrlivLrSQttWKMeW1nbhbe81tIKd44PGBeNYihUOMeWrbTCVRhj69To4T1Hvr+yYgtn4C0DLBbSxfnfPfMfi7xLSxyVhrV7TfB9pAczSCVIiR/v++bSsk0O1tA7QlEW2s56/tT7n1vq7qBI4/4JCkjB35RWkBL/ceSHjaXr83Hs9ypYyrZkwYaXj/5IkBJGtjtrLx35wbIFm2Z9pdSsOVjv8rLNLx35gcHtXgXmMdNhrjEDM0jz9qlfLnAu8lhLEVIMfnmspaWOhW+d/HfcGZhUwW9R/bb7+VQ6VeluML5pjran5ESAH15Wlt+Dz3P39qkXw8nxai+ea5tsjCucHEuIsfqSZiwdyAJjRg/SUAX5kX879N3lZYZuVurZGPeH515tXXSzjSnO2yTORWFvUQX5kffP/rrKvUxREJZXlXvZn3pfCfAjuJO4Gl6M/v70i+WuRlwpKQqq9ix/59SveDGKOwwYM58AaWjeOvlCra+ZpazGb06pL5ayLvKs2HvyBdxJmFFhb1H95vgzDOXw27Ed/KAstKIoI9FzzZXX4erDNb1+4mcZBS1w1mDsA0P+v/buLrat8o7j+ImP3+3YsZ2kSZM2Tds0abIuLbAUGBQqaCnKpLGisQEaK5N2QTVt2q42TZO4mpB2sU27n/bCNPViuxjbGAhWQHtrKVB1NH0hfclLExfHL/HbsY994l0Eeac0wIHEfp4Tvh/5Nn4e/fS3f7Fz8hxPxSi/m5sZ6d4rcBsKM3Mj0liWLMSPvfXTke67W1paBG4j5IudmPoLH6puZuNPVMlC/NTMyz1tO8R9TqjVlNqm6M5TMy/L8CvhinLl9ImpF3raBsWmVFNqmyI7T069mCunBabBzJDGiibiJzeGt1s5b7ehHC1qV2jrufhJsduQkI2Litmy4uz8ifZAr0v1iN6I4lI97cHes/MnBO6BmTEjjbq3Zl8NeTtqEmjzbTg1fVxgFHKycVExW1acmv572NcpOqH3tPk2vD71ksA0mBnSuJlWyU+lzkX93aI2YBb1d0+nz2uVvOiNyMWuRcVsWaEbpUsLZ6J+Wf6BKerfeDn5tm6UhKzOzJiRRt1E/GR7sNfR4hB1GYX54WhxtAd7JkR/2paNXYuK2bLi7PyJrlC/6lCFR7T8UB1qe7BH1Ld/zAxprGg6dTHgahP9qfL/gu7odOqikCikZdeiYrasmE5d8DqDorO5QdAdnU5dEJQGM0MaK0gVr7udDTyg+eNyO73JoqQXZ4nSpDPf1hyzZUVSspQURXE7vYnCvJClmRkz0qjLaAttvu6akLVX4lK9ae2a6F3Ixa5FxWxZkdESYW+XPCkpiuJWfRltTsjSzIwZadQV9MXOYL9SkyUMt+rNlxdF70Iudi0qZsuKfCnTEdgiT0qK0KCYGTPSqMuXF12qp6bIEoVL9RQlOMNFKnYtKmbLirwuV0qKorhUT4H3I0VRRM8MaZi1tNj1r/WfEnYtKoXZsoaUzEjDjDSWBT3hcrXYzNvffLiyofndIdG7kItdi4rZsiLglislRVHKhhbwhIUszcyYkUZd0NNWNjSPKyBk9ZvpKYJ2kwAAB+BJREFURqm16bfjkZx9i4rZ+mghb0SqlBRFKVe1Jt+Vro6ZMSONurA3Vqpq8vy5Thf3GpGWXYuK2bIi4u8s6EV5UlIUpVLVQl7ejxRF9MyQRl3E3zmVmhSy9Ir0amlDZKvoXcjFrl9SR/ydelXMSTwr0qulWKBL9C7er83Xrlc10bu4gW6UYgExx/YwM2akUdcXHdQqi2KPkDc/StV8f2ynkCikZdeiYras6IsOFStZ4eGYH1ol1x8bFpQGM0MaKxjuGksW5oyaITyEmlIzakYiNz3cNSYkCmnZtaiYLStGuvcu5GerSxXhES0/qkuVRF7YvROZGdJYkc8V3Bwdymhx4WceKkoto8X7ojt90lzkIgm7FhWzZYVb9W5r3yVJSstBbWvf5VbFnNzDzJDGB7m19958KS28sGtKLastjPbeJSoHadm1qBRmy5rbNt+XK6WER/ReUKWF3b37BKbBzJDGinZ2jV3PXVlaMsRW9tKSkchP7+q+U2AUcrJxUTFbVox0700V5qqGLvqXZqVq6Jni9dEe3o9kmRnSqIsFuj63+cDc4qTYwp5bnNzTe6+El2UJZ+OiYrasaPVE9m45NLf4jvDfmuPZy7dtul/sf5sxM6TxQQ4OPRbPXipXNVE5lKtaPHtpfPjrYnOQk42LSmG2rHlw+GvJ/LViJSfwzahYySVy0+OfOSI6DGbmBqRRFwt03bP9cDx7SdRHy0Tu6p3941HRhS0nexcVs2VFwB06MPToQm5K4Pc772avHBh6NCDBKVPMjBlpmD0w9HiutJArpZofRK6UShXmvzDyDdEZSMreRaUwW9YcHHqsXC2mi9eFvBuli9f1qnZw6DHRMbyHmTEjjTqvy//lPd+eTZ/TDa2ZSeiGNpOeeHjPt7wuv+gMJKU+/fTTovewKk7VFQ1sOHH1ryF/h+po3olQulG6mjxzePSpvuhQ0xZdja5Q3/GLx0K+mEv1NHPdop69kjj9xNgP2oMbm7nuhxA8M7uP9kUHm7boR+IVZNYd2qJXyxPz/4n4m/ch7+rCmdv7Du0fONy0FW3H9kWliJutO7Yc2j/wcNNWXKX24MZWT9up6ZfCvk5Hs+7vUF2qTCXPjI8cuXXT/uasaBHvR2a8gswGOkZnMhdnMxdDvvYmLDebPt8b3vaVW77ThLXsaz0UlSJitjaFtz1it9naFBko6NnJxFthX0dzVpxOvr2nd98DOx9vznIfC+9HZryCzEZ77npz5niyMNfa4DSupc97nd6jdz/T0FXWgZZarSZ6D2vm5698t1DJ90Qa+03C8mx9b/8vGrpK4/zm9Wem0xe72wacDnfjVqku6ddSFzZHBo7s/WHjVlk9ZsaMNMx+ffLHV5LneqKDjfi2vGKUZ5Ln+qNDT97+ozV/8vVnXRWVwmxZ89zbv/z31ed7IjsCjbmxQqGcuZa+uLfv4Bd3fbMRz7+2mBkz0jB7fuK3/7j8p+7IjrW9BUm+nJlLXfj81vHxkSfX8GnXsXXy1V/d7p67tUrhzLXXPK6A27mWZ8rly5mZhbN39B+S9vsK6wY794S9sdcm/+Byen3u1rV98lRhfmrhv4dHj94/+MjaPnODMDNmpGE20DEa8Xf+69Jz5WrR6w44Vn2xScUovZu9mshOfWn0KQn/Piet9faJatmbs68ce+Nnrb5YZ7jPteojUCtGKZmbXSwmDo8eHes7sCY7lMFU6vyzp35iLBnR1p41uT18obyYzM04FMcTY9+X6lIuK5gZM9IwK1WKL5z/3auTf+xo3dwZ6nO0qJ/gSZZqRjI/N5+Z3Lf9oQd3PsGV6B/L+iwqhdmy7J9X/vy3iWedqqcztNn7SY+vLlXyyfy1cqV4/+BX79n+0NrusGmYGTPSeJ9UIf7niV+dnn21zb+h1RcLeWMtFq6erdWWsqVkoZRJFeZ2994zPnxE+GFRdrRui2oZs2XRyxeOvXjh9353yO8Jt3qjbqfPyk/pVS1XShXLi0U9e9+OR+T5l97VYGbMSON9koX4RPzkGzPHZ9IXQr52r7vVpbqdqsflcDtVt6IoVUOvLOlVo1wx9JKeWywmeiMDt2y6d1f3nesmhOZb50W1jNmyomLoE/ETb8y88k7itNvp9bqCLtXrUt1O1e1U3S7VUzHKVUOvGHrVKC/VjEI5o1e1wQ237unZN9y116U28BrC5mNmzEjjZlolPxE/eTk5kSzM58uZXCld1POKovjdrQFPqM3XEfF3bo0ND3eNSXinOtv5VBRVHbNl0WTizDuJ08lCPFWMZ0uZop7VKnmfK+h3h0LetrCvIxbYMNR52/aOz4reacMxM2akASE+XUUFALAd2x9KCwBY3ygqAIDUKCoAgNQoKgCA1CgqAIDUKCoAgNQoKgCA1CgqAIDUKCoAgNQoKgCA1CgqAIDUKCoAgNQoKgCA1CgqAIDUKCoAgNQoKgCA1CgqAIDUKCoAgNQoKgCA1CgqAIDUKCoAgNQoKgCA1CgqAIDUKCoAgNQoKgCA1CgqAIDUKCoAgNQoKgCA1CgqAIDUKCoAgNQoKgCA1CgqAIDUKCoAgNQoKgCA1CgqAIDUKCoAgNQoKgCA1CgqAIDUKCoAgNQoKgCA1CgqAIDUKCoAgNQoKgCA1CgqAIDUKCoAgNQoKgCA1CgqAIDUKCoAgNQoKgCA1CgqAIDUKCoAgNQoKgCA1CgqAIDU/gche7ieMTCdBgAAAABJRU5ErkJggg==)\n",
        "\n"
      ]
    },
    {
      "cell_type": "markdown",
      "metadata": {
        "id": "hYKuchbgwqT-"
      },
      "source": [
        "Como métrica, usamos la BinaryCrossEntropy, indicada para clasificar datos en 2 posibles clases: negativo y positivo."
      ]
    },
    {
      "cell_type": "code",
      "execution_count": null,
      "metadata": {
        "colab": {
          "background_save": true,
          "base_uri": "https://localhost:8080/"
        },
        "id": "VBMeozC0333o",
        "outputId": "3f30f88b-7058-42b1-c3ef-c30831b36eb5"
      },
      "outputs": [
        {
          "name": "stdout",
          "output_type": "stream",
          "text": [
            "Epoch 1/50\n"
          ]
        },
        {
          "name": "stderr",
          "output_type": "stream",
          "text": [
            "/usr/local/lib/python3.7/dist-packages/tensorflow/python/util/dispatch.py:1082: UserWarning: \"`binary_crossentropy` received `from_logits=True`, but the `output` argument was produced by a sigmoid or softmax activation and thus does not represent logits. Was this intended?\"\n",
            "  return dispatch_target(*args, **kwargs)\n"
          ]
        },
        {
          "name": "stdout",
          "output_type": "stream",
          "text": [
            "157/157 [==============================] - 30s 105ms/step - loss: 0.6928 - accuracy: 0.5022\n",
            "Epoch 2/50\n",
            "157/157 [==============================] - 17s 101ms/step - loss: 0.6873 - accuracy: 0.5051\n",
            "Epoch 3/50\n",
            "157/157 [==============================] - 18s 104ms/step - loss: 0.5844 - accuracy: 0.4970\n",
            "Epoch 4/50\n",
            "157/157 [==============================] - 17s 101ms/step - loss: 0.3873 - accuracy: 0.4986\n",
            "Epoch 5/50\n",
            "157/157 [==============================] - 17s 104ms/step - loss: 0.2989 - accuracy: 0.4977\n",
            "Epoch 6/50\n",
            "157/157 [==============================] - 17s 104ms/step - loss: 0.2618 - accuracy: 0.4994\n",
            "Epoch 7/50\n",
            "157/157 [==============================] - 22s 130ms/step - loss: 0.2373 - accuracy: 0.4999\n",
            "Epoch 8/50\n",
            "157/157 [==============================] - 17s 103ms/step - loss: 0.2206 - accuracy: 0.5028\n",
            "Epoch 9/50\n",
            "157/157 [==============================] - 17s 103ms/step - loss: 0.1960 - accuracy: 0.4974\n",
            "Epoch 10/50\n",
            "157/157 [==============================] - 16s 97ms/step - loss: 0.1937 - accuracy: 0.4993\n",
            "Epoch 11/50\n",
            "157/157 [==============================] - 18s 106ms/step - loss: 0.1801 - accuracy: 0.4952\n",
            "Epoch 12/50\n",
            "157/157 [==============================] - 17s 99ms/step - loss: 0.1649 - accuracy: 0.5012\n",
            "Epoch 13/50\n",
            "157/157 [==============================] - 17s 101ms/step - loss: 0.1619 - accuracy: 0.4987\n",
            "Epoch 14/50\n",
            "157/157 [==============================] - 17s 100ms/step - loss: 0.1552 - accuracy: 0.4982\n",
            "Epoch 15/50\n",
            "157/157 [==============================] - 18s 105ms/step - loss: 0.1555 - accuracy: 0.4956\n",
            "Epoch 16/50\n",
            "157/157 [==============================] - 17s 101ms/step - loss: 0.1377 - accuracy: 0.5061\n",
            "Epoch 17/50\n",
            "157/157 [==============================] - 17s 104ms/step - loss: 0.1288 - accuracy: 0.4982\n",
            "Epoch 18/50\n",
            "157/157 [==============================] - 17s 102ms/step - loss: 0.1332 - accuracy: 0.4938\n",
            "Epoch 19/50\n",
            "157/157 [==============================] - 17s 100ms/step - loss: 0.1344 - accuracy: 0.5018\n",
            "Epoch 20/50\n",
            "157/157 [==============================] - 17s 101ms/step - loss: 0.1223 - accuracy: 0.5008\n",
            "Epoch 21/50\n",
            "157/157 [==============================] - 17s 100ms/step - loss: 0.1230 - accuracy: 0.5022\n",
            "Epoch 22/50\n",
            "157/157 [==============================] - 17s 101ms/step - loss: 0.1105 - accuracy: 0.5015\n",
            "Epoch 23/50\n",
            "157/157 [==============================] - 17s 104ms/step - loss: 0.1112 - accuracy: 0.4967\n",
            "Epoch 24/50\n",
            "157/157 [==============================] - 17s 102ms/step - loss: 0.0980 - accuracy: 0.5058\n",
            "Epoch 25/50\n",
            "157/157 [==============================] - 17s 103ms/step - loss: 0.1078 - accuracy: 0.4943\n",
            "Epoch 26/50\n",
            "157/157 [==============================] - 18s 107ms/step - loss: 0.0966 - accuracy: 0.5075\n",
            "Epoch 27/50\n",
            "157/157 [==============================] - 17s 99ms/step - loss: 0.1039 - accuracy: 0.5053\n",
            "Epoch 28/50\n",
            "157/157 [==============================] - 18s 105ms/step - loss: 0.0989 - accuracy: 0.4963\n",
            "Epoch 29/50\n",
            "157/157 [==============================] - 17s 99ms/step - loss: 0.0890 - accuracy: 0.5017\n",
            "Epoch 30/50\n",
            "157/157 [==============================] - 17s 102ms/step - loss: 0.0956 - accuracy: 0.4966\n",
            "Epoch 31/50\n",
            "157/157 [==============================] - 17s 102ms/step - loss: 0.0866 - accuracy: 0.4979\n",
            "Epoch 32/50\n",
            "157/157 [==============================] - 17s 101ms/step - loss: 0.0921 - accuracy: 0.5018\n",
            "Epoch 33/50\n",
            "157/157 [==============================] - 17s 101ms/step - loss: 0.0827 - accuracy: 0.5021\n",
            "Epoch 34/50\n",
            "157/157 [==============================] - 17s 102ms/step - loss: 0.0814 - accuracy: 0.4979\n",
            "Epoch 35/50\n",
            "157/157 [==============================] - 17s 103ms/step - loss: 0.0905 - accuracy: 0.5071\n",
            "Epoch 36/50\n",
            "157/157 [==============================] - 17s 102ms/step - loss: 0.0727 - accuracy: 0.5035\n",
            "Epoch 37/50\n",
            "157/157 [==============================] - 17s 102ms/step - loss: 0.0835 - accuracy: 0.5021\n",
            "Epoch 38/50\n",
            "157/157 [==============================] - 17s 102ms/step - loss: 0.0843 - accuracy: 0.4972\n",
            "Epoch 39/50\n",
            "157/157 [==============================] - 17s 104ms/step - loss: 0.0723 - accuracy: 0.4972\n",
            "Epoch 40/50\n",
            "157/157 [==============================] - 17s 102ms/step - loss: 0.1005 - accuracy: 0.5013\n",
            "Epoch 41/50\n",
            "157/157 [==============================] - 17s 103ms/step - loss: 0.0772 - accuracy: 0.5026\n",
            "Epoch 42/50\n",
            "157/157 [==============================] - 17s 102ms/step - loss: 0.0629 - accuracy: 0.5040\n",
            "Epoch 43/50\n",
            "157/157 [==============================] - 17s 100ms/step - loss: 0.0590 - accuracy: 0.4983\n",
            "Epoch 44/50\n",
            "157/157 [==============================] - 17s 101ms/step - loss: 0.0654 - accuracy: 0.4972\n",
            "Epoch 45/50\n",
            "157/157 [==============================] - 17s 101ms/step - loss: 0.0558 - accuracy: 0.5011\n",
            "Epoch 46/50\n",
            "157/157 [==============================] - 17s 102ms/step - loss: 0.0593 - accuracy: 0.4926\n",
            "Epoch 47/50\n",
            "157/157 [==============================] - 17s 101ms/step - loss: 0.0528 - accuracy: 0.4966\n",
            "Epoch 48/50\n",
            "157/157 [==============================] - 17s 101ms/step - loss: 0.0666 - accuracy: 0.4956\n",
            "Epoch 49/50\n",
            "157/157 [==============================] - 17s 103ms/step - loss: 0.0597 - accuracy: 0.5016\n",
            "Epoch 50/50\n",
            "157/157 [==============================] - 17s 101ms/step - loss: 0.0469 - accuracy: 0.5063\n"
          ]
        }
      ],
      "source": [
        "\n",
        "model = tf.keras.Sequential([\n",
        "    tf.keras.layers.Embedding(\n",
        "        input_dim=encoder.vocab_size,\n",
        "        output_dim=64,\n",
        "        # Use masking to handle the variable sequence lengths\n",
        "        mask_zero=True),\n",
        "    tf.keras.layers.Bidirectional(tf.keras.layers.LSTM(64)),\n",
        "    tf.keras.layers.Dense(64, activation='relu'),\n",
        "    tf.keras.layers.Dropout(0.5),\n",
        "    tf.keras.layers.Dense(1,activation='softmax')\n",
        "])\n",
        "\n",
        "model.compile(loss=tf.keras.losses.BinaryCrossentropy(from_logits=True),\n",
        "              optimizer=tf.keras.optimizers.Adam(1e-4),\n",
        "              metrics=['accuracy'])\n",
        "\n",
        "history = model.fit(train_dataset, epochs=50)"
      ]
    },
    {
      "cell_type": "code",
      "execution_count": null,
      "metadata": {
        "colab": {
          "background_save": true
        },
        "id": "PIDmLYQW5gmH",
        "outputId": "724b445c-affe-4479-d04c-8e13cb001bf3"
      },
      "outputs": [
        {
          "name": "stderr",
          "output_type": "stream",
          "text": [
            "/usr/local/lib/python3.7/dist-packages/tensorflow/python/util/dispatch.py:1082: UserWarning: \"`binary_crossentropy` received `from_logits=True`, but the `output` argument was produced by a sigmoid or softmax activation and thus does not represent logits. Was this intended?\"\n",
            "  return dispatch_target(*args, **kwargs)\n"
          ]
        },
        {
          "name": "stdout",
          "output_type": "stream",
          "text": [
            "47/47 [==============================] - 6s 60ms/step - loss: 0.6256 - accuracy: 0.5017\n"
          ]
        },
        {
          "data": {
            "text/plain": [
              "[0.6255912780761719, 0.5016666650772095]"
            ]
          },
          "execution_count": null,
          "metadata": {},
          "output_type": "execute_result"
        }
      ],
      "source": [
        "model.evaluate(test_dataset)\n"
      ]
    },
    {
      "cell_type": "markdown",
      "metadata": {
        "id": "jSgmKVClt4Np"
      },
      "source": [
        "Construímos una función que permita predecir una observación"
      ]
    },
    {
      "cell_type": "code",
      "execution_count": null,
      "metadata": {
        "colab": {
          "background_save": true
        },
        "id": "p9n38Ej1wujJ"
      },
      "outputs": [],
      "source": [
        "def sample_predict(sample_pred_text):\n",
        "  encoded_sample_pred_text = encoder.encode(sample_pred_text)  \n",
        "  encoded_sample_pred_text = tf.cast(encoded_sample_pred_text, tf.float32)\n",
        "  predictions = model.predict(tf.expand_dims(encoded_sample_pred_text, 0))\n",
        "  return (sum(predictions[0]))"
      ]
    },
    {
      "cell_type": "markdown",
      "metadata": {
        "id": "bPcl_uLDt_9i"
      },
      "source": [
        "Veamos un ejemplo:"
      ]
    },
    {
      "cell_type": "code",
      "execution_count": null,
      "metadata": {
        "colab": {
          "background_save": true
        },
        "id": "fHzpKVQct_K1"
      },
      "outputs": [],
      "source": []
    },
    {
      "cell_type": "code",
      "execution_count": null,
      "metadata": {
        "colab": {
          "background_save": true
        },
        "id": "6F2jYK5SxGUI",
        "outputId": "498b47c4-54b3-4643-924b-688b30fc571f"
      },
      "outputs": [
        {
          "data": {
            "text/plain": [
              "1.0"
            ]
          },
          "execution_count": null,
          "metadata": {},
          "output_type": "execute_result"
        }
      ],
      "source": [
        "\n",
        "sample_pred_text = ('The movie was cool. The animation and the graphics '\n",
        "                    'were out of this world. I would recommend this movie.')\n",
        "predictions = sample_predict(sample_pred_text)\n",
        "predictions"
      ]
    },
    {
      "cell_type": "code",
      "execution_count": null,
      "metadata": {
        "colab": {
          "background_save": true
        },
        "id": "h_djlBNWxIPX",
        "outputId": "04322b0b-ae1a-4fd1-8685-c305f5bd45aa"
      },
      "outputs": [
        {
          "data": {
            "text/plain": [
              "1.0"
            ]
          },
          "execution_count": null,
          "metadata": {},
          "output_type": "execute_result"
        }
      ],
      "source": [
        "sample_pred_text = ('I hated this movie. The animation and the graphics '\n",
        "                    'were terrible. I would not recommend this movie.')\n",
        "predictions = sample_predict(sample_pred_text)\n",
        "predictions"
      ]
    },
    {
      "cell_type": "code",
      "execution_count": null,
      "metadata": {
        "colab": {
          "background_save": true
        },
        "id": "Uk0FXbrn82SP"
      },
      "outputs": [],
      "source": []
    }
  ],
  "metadata": {
    "accelerator": "GPU",
    "colab": {
      "provenance": []
    },
    "kernelspec": {
      "display_name": "Python 3",
      "name": "python3"
    },
    "language_info": {
      "name": "python"
    }
  },
  "nbformat": 4,
  "nbformat_minor": 0
}